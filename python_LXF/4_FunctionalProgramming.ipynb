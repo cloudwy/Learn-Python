{
 "cells": [
  {
   "cell_type": "markdown",
   "metadata": {
    "colab_type": "text",
    "id": "q-67HyZicGUP"
   },
   "source": [
    "# 函数式编程"
   ]
  },
  {
   "cell_type": "markdown",
   "metadata": {
    "colab_type": "text",
    "id": "Ekhhrk5rcflS"
   },
   "source": [
    "函数式编程就是一种抽象程度很高的编程范式，纯粹的函数式编程语言编写的函数没有变量，因此，任意一个函数，只要输入是确定的，输出就是确定的，这种纯函数我们称之为没有副作用。而允许使用变量的程序设计语言，由于函数内部的变量状态不确定，同样的输入，可能得到不同的输出，因此，这种函数是有副作用的。"
   ]
  },
  {
   "cell_type": "markdown",
   "metadata": {},
   "source": [
    "https://www.jianshu.com/p/ebf470abbd7c  \n",
    "- **面向对象**的世界里我们是把事物抽象成类和对象,然后通过封装、继承和多态来演示他们之间的关系。\n",
    "- **函数式**的世界里把世界抽象成事物和事物之间的关系，用这种方式实现世界的模型。"
   ]
  },
  {
   "cell_type": "markdown",
   "metadata": {
    "colab_type": "text",
    "id": "n6DHbGa3cwWp"
   },
   "source": [
    "函数式编程的特点：允许把函数本身作为参数传入另一个函数，还允许返回一个函数！\n",
    "\n"
   ]
  },
  {
   "cell_type": "code",
   "execution_count": 0,
   "metadata": {
    "colab": {},
    "colab_type": "code",
    "id": "S9RPu_rHT8BY"
   },
   "outputs": [],
   "source": [
    "# 简单例子\n",
    "def plus(a, b):\n",
    "    return a + b\n",
    "\n",
    "def compose(func, array):\n",
    "    return func(array[0], array[1])\n",
    "\n",
    "result = compose(plus, [1, 2])\n",
    "print(result)"
   ]
  },
  {
   "cell_type": "markdown",
   "metadata": {
    "colab_type": "text",
    "id": "lks7QxLpdo6g"
   },
   "source": [
    "## 1. 高阶函数"
   ]
  },
  {
   "cell_type": "code",
   "execution_count": 1,
   "metadata": {
    "colab": {
     "base_uri": "https://localhost:8080/",
     "height": 34
    },
    "colab_type": "code",
    "executionInfo": {
     "elapsed": 1252,
     "status": "ok",
     "timestamp": 1578561137477,
     "user": {
      "displayName": "Yun Wu",
      "photoUrl": "",
      "userId": "07058976890337189786"
     },
     "user_tz": -60
    },
    "id": "bluDf2w5dotl",
    "outputId": "d330bfea-214d-47ac-fba8-ca736cd52c6b"
   },
   "outputs": [
    {
     "data": {
      "text/plain": [
       "10"
      ]
     },
     "execution_count": 1,
     "metadata": {
      "tags": []
     },
     "output_type": "execute_result"
    }
   ],
   "source": [
    "#函数本身赋值给变量，即变量指向函数\n",
    "#函数名也是变量\n",
    "f = abs\n",
    "f(-10)"
   ]
  },
  {
   "cell_type": "markdown",
   "metadata": {
    "colab_type": "text",
    "id": "WqHPxrzylJXk"
   },
   "source": [
    "高阶函数：一个函数就可以接收另一个函数作为参数"
   ]
  },
  {
   "cell_type": "code",
   "execution_count": 2,
   "metadata": {
    "colab": {
     "base_uri": "https://localhost:8080/",
     "height": 34
    },
    "colab_type": "code",
    "executionInfo": {
     "elapsed": 871,
     "status": "ok",
     "timestamp": 1578562120899,
     "user": {
      "displayName": "Yun Wu",
      "photoUrl": "",
      "userId": "07058976890337189786"
     },
     "user_tz": -60
    },
    "id": "7c8599AElNjm",
    "outputId": "58f7f7dd-ed4c-4816-c6c3-ed9f6933e59a"
   },
   "outputs": [
    {
     "data": {
      "text/plain": [
       "11"
      ]
     },
     "execution_count": 2,
     "metadata": {
      "tags": []
     },
     "output_type": "execute_result"
    }
   ],
   "source": [
    "#最简单的高阶函数\n",
    "def add(x,y,f):\n",
    "  return f(x)+f(y)\n",
    "add(-5,6,abs)"
   ]
  },
  {
   "cell_type": "markdown",
   "metadata": {
    "colab_type": "text",
    "id": "HcjPxWubotq8"
   },
   "source": [
    "### 1. map和reduce函数"
   ]
  },
  {
   "cell_type": "markdown",
   "metadata": {
    "colab_type": "text",
    "id": "0u7ttH4Mo7Gj"
   },
   "source": [
    "参考论文：MapReduce: Simplified Data Processing on Large Clusters"
   ]
  },
  {
   "cell_type": "markdown",
   "metadata": {
    "colab_type": "text",
    "id": "_qm_V06eq2QU"
   },
   "source": [
    "Map：\n",
    "- 输入：一个是函数，一个是Iterable\n",
    "- 输出：新的Iterator"
   ]
  },
  {
   "cell_type": "code",
   "execution_count": 1,
   "metadata": {
    "colab": {
     "base_uri": "https://localhost:8080/",
     "height": 34
    },
    "colab_type": "code",
    "executionInfo": {
     "elapsed": 1670,
     "status": "ok",
     "timestamp": 1578669470736,
     "user": {
      "displayName": "Yun Wu",
      "photoUrl": "",
      "userId": "07058976890337189786"
     },
     "user_tz": -60
    },
    "id": "WBkXcQSNow0E",
    "outputId": "b0510a7f-0c0b-46c1-a0ce-228b77a5347a"
   },
   "outputs": [
    {
     "data": {
      "text/plain": [
       "[1, 4, 9, 16, 25, 36, 49, 64, 64]"
      ]
     },
     "execution_count": 1,
     "metadata": {
      "tags": []
     },
     "output_type": "execute_result"
    }
   ],
   "source": [
    "def f(x):\n",
    "  return x*x\n",
    "\n",
    "r = map(f,[1,2,3,4,5,6,7,8,8]) #r是一个Iterator\n",
    "list(r)"
   ]
  },
  {
   "cell_type": "code",
   "execution_count": 1,
   "metadata": {
    "colab": {
     "base_uri": "https://localhost:8080/",
     "height": 34
    },
    "colab_type": "code",
    "executionInfo": {
     "elapsed": 2427,
     "status": "ok",
     "timestamp": 1578747823589,
     "user": {
      "displayName": "Yun Wu",
      "photoUrl": "",
      "userId": "07058976890337189786"
     },
     "user_tz": -60
    },
    "id": "6yrZMKQUssb6",
    "outputId": "7b999fa7-1201-4d20-8eb8-903ce72910fb"
   },
   "outputs": [
    {
     "data": {
      "text/plain": [
       "['1', '2', '3', '4', '5', '6', '7', '8', '9']"
      ]
     },
     "execution_count": 1,
     "metadata": {
      "tags": []
     },
     "output_type": "execute_result"
    }
   ],
   "source": [
    "#把所有数字变为字符\n",
    "list(map(str,[1,2,3,4,5,6,7,8,9]))"
   ]
  },
  {
   "cell_type": "markdown",
   "metadata": {
    "colab_type": "text",
    "id": "RGwiV9ustfGK"
   },
   "source": [
    "Reduce:\n",
    "- 把一个函数作用在一个序列[x1,x2,x3,...]上，这个函数必须接收两个参数\n",
    "- reduce(f, [x1,x2,x3,x4]) = f(f(f(x1,x2),x3),x4）"
   ]
  },
  {
   "cell_type": "code",
   "execution_count": 2,
   "metadata": {
    "colab": {
     "base_uri": "https://localhost:8080/",
     "height": 34
    },
    "colab_type": "code",
    "executionInfo": {
     "elapsed": 3217,
     "status": "ok",
     "timestamp": 1578748139589,
     "user": {
      "displayName": "Yun Wu",
      "photoUrl": "",
      "userId": "07058976890337189786"
     },
     "user_tz": -60
    },
    "id": "MvX1h6katKK0",
    "outputId": "b9cbf2e1-b78b-4da7-9730-0a5e0c3798ad"
   },
   "outputs": [
    {
     "data": {
      "text/plain": [
       "25"
      ]
     },
     "execution_count": 2,
     "metadata": {
      "tags": []
     },
     "output_type": "execute_result"
    }
   ],
   "source": [
    "from functools import reduce\n",
    "def add(x,y):\n",
    "  return x+y\n",
    "\n",
    "reduce(add,[1,3,5,7,9]) #1+3+5+7+9"
   ]
  },
  {
   "cell_type": "code",
   "execution_count": 3,
   "metadata": {
    "colab": {
     "base_uri": "https://localhost:8080/",
     "height": 34
    },
    "colab_type": "code",
    "executionInfo": {
     "elapsed": 1547,
     "status": "ok",
     "timestamp": 1578748324229,
     "user": {
      "displayName": "Yun Wu",
      "photoUrl": "",
      "userId": "07058976890337189786"
     },
     "user_tz": -60
    },
    "id": "QJwYRyt3um-6",
    "outputId": "ffa4ab7c-7aea-42a6-d6f0-4da87f966d1e"
   },
   "outputs": [
    {
     "data": {
      "text/plain": [
       "13579"
      ]
     },
     "execution_count": 3,
     "metadata": {
      "tags": []
     },
     "output_type": "execute_result"
    }
   ],
   "source": [
    "#把序列[1,3,5,7,9]变换成整数13579\n",
    "from functools import reduce\n",
    "def fn(x,y):\n",
    "  return x*10+y\n",
    "\n",
    "reduce(fn,[1,3,5,7,9])"
   ]
  },
  {
   "cell_type": "code",
   "execution_count": 4,
   "metadata": {
    "colab": {
     "base_uri": "https://localhost:8080/",
     "height": 34
    },
    "colab_type": "code",
    "executionInfo": {
     "elapsed": 1788,
     "status": "ok",
     "timestamp": 1578748737624,
     "user": {
      "displayName": "Yun Wu",
      "photoUrl": "",
      "userId": "07058976890337189786"
     },
     "user_tz": -60
    },
    "id": "UPtMNSdgvNEr",
    "outputId": "a90b049e-b37e-4e79-8628-2ff6461aa939"
   },
   "outputs": [
    {
     "data": {
      "text/plain": [
       "13579"
      ]
     },
     "execution_count": 4,
     "metadata": {},
     "output_type": "execute_result"
    }
   ],
   "source": [
    "from functools import reduce\n",
    "def fn(x,y):\n",
    "  return x*10+y\n",
    "\n",
    "def char2num(s):\n",
    "    \"\"\"\n",
    "    将str变为int\n",
    "    \"\"\"\n",
    "    digits = {'0':0,'1':1,'2':2,'3':3,'4':4,'5':5,'6':6,'7':7,'8':8,'9':9}\n",
    "    return digits[s]\n",
    "\n",
    "reduce(fn,map(char2num,'13579'))#‘13579'是Iterable"
   ]
  },
  {
   "cell_type": "code",
   "execution_count": 6,
   "metadata": {
    "colab": {
     "base_uri": "https://localhost:8080/",
     "height": 34
    },
    "colab_type": "code",
    "executionInfo": {
     "elapsed": 1432,
     "status": "ok",
     "timestamp": 1578754964404,
     "user": {
      "displayName": "Yun Wu",
      "photoUrl": "",
      "userId": "07058976890337189786"
     },
     "user_tz": -60
    },
    "id": "FFNRqk5B4w8_",
    "outputId": "d4948447-1763-4416-ce76-cebe55a30012"
   },
   "outputs": [
    {
     "data": {
      "text/plain": [
       "12345"
      ]
     },
     "execution_count": 6,
     "metadata": {},
     "output_type": "execute_result"
    }
   ],
   "source": [
    "#整理成一个str2int函数\n",
    "from functools import reduce\n",
    "DIGITS={'0':0,'1':1,'2':2,'3':3,'4':4,'5':5,'6':6,'7':7,'8':8,'9':9}\n",
    "def str2int(s):\n",
    "  def fn(x,y):\n",
    "    return x*10+y\n",
    "  def char2num(s):\n",
    "    return DIGITS[s]\n",
    "  return reduce(fn,map(char2num,s))\n",
    "\n",
    "str2int('12345')"
   ]
  },
  {
   "cell_type": "code",
   "execution_count": 7,
   "metadata": {
    "colab": {
     "base_uri": "https://localhost:8080/",
     "height": 34
    },
    "colab_type": "code",
    "executionInfo": {
     "elapsed": 1083,
     "status": "ok",
     "timestamp": 1578755414578,
     "user": {
      "displayName": "Yun Wu",
      "photoUrl": "",
      "userId": "07058976890337189786"
     },
     "user_tz": -60
    },
    "id": "GnV89m4JIRTO",
    "outputId": "9cd233ab-8a7f-47d0-c767-0095fab07a03"
   },
   "outputs": [
    {
     "data": {
      "text/plain": [
       "12345"
      ]
     },
     "execution_count": 7,
     "metadata": {},
     "output_type": "execute_result"
    }
   ],
   "source": [
    "#使用lambda函数进一步简化\n",
    "from functools import reduce\n",
    "DIGITS={'0':0,'1':1,'2':2,'3':3,'4':4,'5':5,'6':6,'7':7,'8':8,'9':9}\n",
    "def char2num(s):\n",
    "  return DIGITS[s]\n",
    "def str2int(s):\n",
    "  return reduce(lambda x,y:x*10+y,map(char2num,s))\n",
    "\n",
    "str2int('12345')"
   ]
  },
  {
   "cell_type": "markdown",
   "metadata": {},
   "source": [
    "lambda函数用法是什么?  \n",
    "https://blog.csdn.net/zjuxsl/article/details/79437563"
   ]
  },
  {
   "cell_type": "code",
   "execution_count": 19,
   "metadata": {
    "colab": {
     "base_uri": "https://localhost:8080/",
     "height": 50
    },
    "colab_type": "code",
    "executionInfo": {
     "elapsed": 7747,
     "status": "ok",
     "timestamp": 1578755980591,
     "user": {
      "displayName": "Yun Wu",
      "photoUrl": "",
      "userId": "07058976890337189786"
     },
     "user_tz": -60
    },
    "id": "qvsqphttJ-vO",
    "outputId": "466d4067-bcca-441c-b152-830dff843478"
   },
   "outputs": [
    {
     "name": "stdout",
     "output_type": "stream",
     "text": [
      "Enter a list:['adam', 'LISA', 'barT']\n",
      "['Adam', 'Lisa', 'Bart']\n"
     ]
    }
   ],
   "source": [
    "#练习:利用map()函数，把用户输入的不规范的英文名字，变为首字母大写，其他小写的规范名字。\n",
    "#输入：['adam', 'LISA', 'barT']，输出：['Adam', 'Lisa', 'Bart']\n",
    "def normalize(name):\n",
    "  name = name[0].upper()+name[1:].lower()\n",
    "  return name\n",
    "import ast\n",
    "L1=ast.literal_eval(input('Enter a list:')) \n",
    "L2 = list(map(normalize,L1))\n",
    "print(L2)"
   ]
  },
  {
   "cell_type": "code",
   "execution_count": 0,
   "metadata": {
    "colab": {},
    "colab_type": "code",
    "id": "OIu9jMAzMMnf"
   },
   "outputs": [],
   "source": [
    "#练习：请编写一个prod()函数，可以接受一个list并利用reduce()求积：\n",
    "def prod(L):\n",
    "  def chengji(x,y):\n",
    "    return x*y\n",
    "  return reduce(chengji,L)\n"
   ]
  },
  {
   "cell_type": "code",
   "execution_count": 0,
   "metadata": {
    "colab": {},
    "colab_type": "code",
    "id": "Vc5GRb5wTN4t"
   },
   "outputs": [],
   "source": [
    "#练习：利用map和reduce编写一个str2float函数，把字符串'123.456'转换成浮点数123.456\n",
    "from functools import reduce\n",
    "def str2float(s):\n",
    "  DIGITS={'0':0,'1':1,'2':2,'3':3,'4':4,'5':5,'6':6,'7':7,'8':8,'9':9}\n",
    "  def fn(x,y):\n",
    "    if y == None:\n",
    "      return x\n",
    "    return x*10+y\n",
    "  def char2num(ch):\n",
    "    if ch !='.':\n",
    "      return DIGITS[ch]\n",
    "  def dot(s):\n",
    "    for i,ch in enumerate(s):\n",
    "      if ch == '.':\n",
    "        return len(s)-i-1\n",
    "  return reduce(fn,map(char2num,s))*(10**(-dot(s)))\n"
   ]
  },
  {
   "cell_type": "markdown",
   "metadata": {
    "colab_type": "text",
    "id": "SLLycDwaViDV"
   },
   "source": [
    "### 2. filter"
   ]
  },
  {
   "cell_type": "markdown",
   "metadata": {
    "colab_type": "text",
    "id": "8wdXddklVrQt"
   },
   "source": [
    "用于过滤序列，接收一个函数和一个序列：\n",
    "- 和map()不同的是，filter()把传入的函数依次作用于每个元素，然后根据返回值是True还是False决定保留还是丢弃该元素。\n",
    "- filter()函数返回的是一个Iterator"
   ]
  },
  {
   "cell_type": "code",
   "execution_count": 20,
   "metadata": {
    "colab": {
     "base_uri": "https://localhost:8080/",
     "height": 34
    },
    "colab_type": "code",
    "executionInfo": {
     "elapsed": 642,
     "status": "ok",
     "timestamp": 1578758684911,
     "user": {
      "displayName": "Yun Wu",
      "photoUrl": "",
      "userId": "07058976890337189786"
     },
     "user_tz": -60
    },
    "id": "L6G_kg-1VmGy",
    "outputId": "5ce320b2-6885-419b-8e78-03543585c5dc"
   },
   "outputs": [
    {
     "data": {
      "text/plain": [
       "[1, 5, 9, 15]"
      ]
     },
     "execution_count": 20,
     "metadata": {
      "tags": []
     },
     "output_type": "execute_result"
    }
   ],
   "source": [
    "#在一个list中，删掉偶数，只保留奇数\n",
    "def is_odd(n):\n",
    "  return n%2==1\n",
    "list(filter(is_odd,[1,2,4,5,6,9,10,15]))"
   ]
  },
  {
   "cell_type": "code",
   "execution_count": 21,
   "metadata": {
    "colab": {
     "base_uri": "https://localhost:8080/",
     "height": 34
    },
    "colab_type": "code",
    "executionInfo": {
     "elapsed": 2943,
     "status": "ok",
     "timestamp": 1578758937667,
     "user": {
      "displayName": "Yun Wu",
      "photoUrl": "",
      "userId": "07058976890337189786"
     },
     "user_tz": -60
    },
    "id": "6TZURrjBW6Wk",
    "outputId": "abd21098-6d03-49cd-a48e-8677074485c5"
   },
   "outputs": [
    {
     "data": {
      "text/plain": [
       "['A', 'B', 'C']"
      ]
     },
     "execution_count": 21,
     "metadata": {
      "tags": []
     },
     "output_type": "execute_result"
    }
   ],
   "source": [
    "#在一个序列中的空字符串删掉\n",
    "def not_empty(s):\n",
    "  return s and s.strip()\n",
    "list(filter(not_empty,['A','','B',None,'C','  ']))"
   ]
  },
  {
   "cell_type": "code",
   "execution_count": 13,
   "metadata": {
    "colab": {},
    "colab_type": "code",
    "id": "UzLdmgl4XoQd"
   },
   "outputs": [],
   "source": [
    "#用filter求素数\n",
    "#step1:先构造一个从3开始的奇数序列\n",
    "def _odd_iter():\n",
    "  n=1\n",
    "  while True:\n",
    "    n=n+2\n",
    "    yield n\n",
    "    \n",
    "#step2:定义一个筛选函数 Q:这个函数怎么理解???\n",
    "def _not_divisible(n):\n",
    "  return lambda x:x%n>0\n",
    "\n",
    "#step3:定义一个生成器，不断返回下一个素数\n",
    "def primes():\n",
    "  yield 2\n",
    "  it = _odd_iter() #初始序列\n",
    "  while True:\n",
    "    n = next(it) #返回序列的第一个数\n",
    "    yield n\n",
    "    it = filter(_not_divisible(n),it) #构造新数列"
   ]
  },
  {
   "cell_type": "code",
   "execution_count": 14,
   "metadata": {
    "colab": {
     "base_uri": "https://localhost:8080/",
     "height": 84
    },
    "colab_type": "code",
    "executionInfo": {
     "elapsed": 1082,
     "status": "ok",
     "timestamp": 1578759425041,
     "user": {
      "displayName": "Yun Wu",
      "photoUrl": "",
      "userId": "07058976890337189786"
     },
     "user_tz": -60
    },
    "id": "GfGy6oAHZFBO",
    "outputId": "61b63b91-def2-4baa-ecc6-8d5fef20d7ae"
   },
   "outputs": [
    {
     "name": "stdout",
     "output_type": "stream",
     "text": [
      "3\n",
      "5\n",
      "7\n",
      "9\n"
     ]
    }
   ],
   "source": [
    "for n in _odd_iter(): #奇数序列\n",
    "  if n < 10:\n",
    "    print(n)\n",
    "  else:\n",
    "    break"
   ]
  },
  {
   "cell_type": "code",
   "execution_count": 15,
   "metadata": {
    "colab": {
     "base_uri": "https://localhost:8080/",
     "height": 84
    },
    "colab_type": "code",
    "executionInfo": {
     "elapsed": 1105,
     "status": "ok",
     "timestamp": 1578759591257,
     "user": {
      "displayName": "Yun Wu",
      "photoUrl": "",
      "userId": "07058976890337189786"
     },
     "user_tz": -60
    },
    "id": "O1mDX26gZTwV",
    "outputId": "5f123013-84bf-49f1-9d4f-cd17b31e2f3b"
   },
   "outputs": [
    {
     "name": "stdout",
     "output_type": "stream",
     "text": [
      "2\n",
      "3\n",
      "5\n",
      "7\n"
     ]
    }
   ],
   "source": [
    "for n in primes(): #素数\n",
    "  if n<10:\n",
    "    print(n)\n",
    "  else:\n",
    "    break"
   ]
  },
  {
   "cell_type": "code",
   "execution_count": 0,
   "metadata": {
    "colab": {},
    "colab_type": "code",
    "id": "0mFCL2TJaWyr"
   },
   "outputs": [],
   "source": [
    "#练习：回数是指从左向右读和从右向左读都是一样的数，例如12321，909\n",
    "def is_palindrome(n):\n",
    "  return int(str(n)[::-1]) == n #str[::-1]就是把str倒过来\n",
    "output filter(is_pailindrome,range(1,1000))"
   ]
  },
  {
   "cell_type": "markdown",
   "metadata": {
    "colab_type": "text",
    "id": "BEJYcRYEby_T"
   },
   "source": [
    "### 3. sorted"
   ]
  },
  {
   "cell_type": "code",
   "execution_count": 1,
   "metadata": {
    "colab": {
     "base_uri": "https://localhost:8080/",
     "height": 34
    },
    "colab_type": "code",
    "executionInfo": {
     "elapsed": 980,
     "status": "ok",
     "timestamp": 1578800859661,
     "user": {
      "displayName": "Yun Wu",
      "photoUrl": "",
      "userId": "07058976890337189786"
     },
     "user_tz": -60
    },
    "id": "jwWuB2aKb1rX",
    "outputId": "c3ddbdd5-4f57-4da1-b487-07e14e7a0141"
   },
   "outputs": [
    {
     "data": {
      "text/plain": [
       "[-21, -12, 5, 9, 36]"
      ]
     },
     "execution_count": 1,
     "metadata": {
      "tags": []
     },
     "output_type": "execute_result"
    }
   ],
   "source": [
    "sorted([36,5,-12,9,-21])"
   ]
  },
  {
   "cell_type": "code",
   "execution_count": 2,
   "metadata": {
    "colab": {
     "base_uri": "https://localhost:8080/",
     "height": 34
    },
    "colab_type": "code",
    "executionInfo": {
     "elapsed": 848,
     "status": "ok",
     "timestamp": 1578800906040,
     "user": {
      "displayName": "Yun Wu",
      "photoUrl": "",
      "userId": "07058976890337189786"
     },
     "user_tz": -60
    },
    "id": "hgPb7fdK3VTP",
    "outputId": "8da380c8-ec14-4d72-c343-9f71170f02f5"
   },
   "outputs": [
    {
     "data": {
      "text/plain": [
       "[5, 9, -12, -21, 36]"
      ]
     },
     "execution_count": 2,
     "metadata": {
      "tags": []
     },
     "output_type": "execute_result"
    }
   ],
   "source": [
    "sorted([36,5,-12,9,-21],key=abs)"
   ]
  },
  {
   "cell_type": "code",
   "execution_count": 3,
   "metadata": {
    "colab": {
     "base_uri": "https://localhost:8080/",
     "height": 34
    },
    "colab_type": "code",
    "executionInfo": {
     "elapsed": 825,
     "status": "ok",
     "timestamp": 1578800958798,
     "user": {
      "displayName": "Yun Wu",
      "photoUrl": "",
      "userId": "07058976890337189786"
     },
     "user_tz": -60
    },
    "id": "ooiH8d6d3mnx",
    "outputId": "535a884a-5590-4ec9-c042-dec5cbcf6b3d"
   },
   "outputs": [
    {
     "data": {
      "text/plain": [
       "['Credit', 'Zoo', 'about', 'bob']"
      ]
     },
     "execution_count": 3,
     "metadata": {
      "tags": []
     },
     "output_type": "execute_result"
    }
   ],
   "source": [
    "sorted(['bob','about','Zoo','Credit']) #默认情况下，对字符串排序，是按照ASCII的大小比较的"
   ]
  },
  {
   "cell_type": "code",
   "execution_count": 4,
   "metadata": {
    "colab": {
     "base_uri": "https://localhost:8080/",
     "height": 34
    },
    "colab_type": "code",
    "executionInfo": {
     "elapsed": 812,
     "status": "ok",
     "timestamp": 1578801043267,
     "user": {
      "displayName": "Yun Wu",
      "photoUrl": "",
      "userId": "07058976890337189786"
     },
     "user_tz": -60
    },
    "id": "IwM0HAdQ36Mx",
    "outputId": "5a134b09-61f7-43f8-8038-7fb9de95f941"
   },
   "outputs": [
    {
     "data": {
      "text/plain": [
       "['about', 'bob', 'Credit', 'Zoo']"
      ]
     },
     "execution_count": 4,
     "metadata": {
      "tags": []
     },
     "output_type": "execute_result"
    }
   ],
   "source": [
    "sorted(['bob','about','Zoo','Credit'],key=str.lower)"
   ]
  },
  {
   "cell_type": "code",
   "execution_count": 5,
   "metadata": {
    "colab": {
     "base_uri": "https://localhost:8080/",
     "height": 34
    },
    "colab_type": "code",
    "executionInfo": {
     "elapsed": 841,
     "status": "ok",
     "timestamp": 1578801059191,
     "user": {
      "displayName": "Yun Wu",
      "photoUrl": "",
      "userId": "07058976890337189786"
     },
     "user_tz": -60
    },
    "id": "6vhzeXMr4Bmq",
    "outputId": "7219a665-64ec-4002-acb4-ed73179f7c2a"
   },
   "outputs": [
    {
     "data": {
      "text/plain": [
       "['Zoo', 'Credit', 'bob', 'about']"
      ]
     },
     "execution_count": 5,
     "metadata": {
      "tags": []
     },
     "output_type": "execute_result"
    }
   ],
   "source": [
    "sorted(['bob','about','Zoo','Credit'],key=str.lower,reverse=True) #reverse降序"
   ]
  },
  {
   "cell_type": "code",
   "execution_count": 1,
   "metadata": {},
   "outputs": [
    {
     "data": {
      "text/plain": [
       "[('b', 3), ('a', 2), ('c', 1)]"
      ]
     },
     "execution_count": 1,
     "metadata": {},
     "output_type": "execute_result"
    }
   ],
   "source": [
    "# 对字典排序\n",
    "dict = {'a':2,'b':3 , 'c':1}\n",
    "sorted(dict.items(),key=lambda x: x[1], reverse=True)"
   ]
  },
  {
   "cell_type": "code",
   "execution_count": 6,
   "metadata": {
    "colab": {
     "base_uri": "https://localhost:8080/",
     "height": 34
    },
    "colab_type": "code",
    "executionInfo": {
     "elapsed": 812,
     "status": "ok",
     "timestamp": 1578801355466,
     "user": {
      "displayName": "Yun Wu",
      "photoUrl": "",
      "userId": "07058976890337189786"
     },
     "user_tz": -60
    },
    "id": "-Wr-Aq4D4Gpw",
    "outputId": "e7753d28-2333-4331-c3cc-fb2c62d75ed5"
   },
   "outputs": [
    {
     "name": "stdout",
     "output_type": "stream",
     "text": [
      "[('Adam', 92), ('Bart', 66), ('Bob', 75), ('Lisa', 88)]\n"
     ]
    }
   ],
   "source": [
    "#练习，请用sorted()对上述列表分别按名字排序：\n",
    "def by_name(t):\n",
    "  return (t[0].lower())\n",
    "L = [('Bob', 75), ('Adam', 92), ('Bart', 66), ('Lisa', 88)]\n",
    "L2 = sorted(L,key=by_name)\n",
    "print(L2)"
   ]
  },
  {
   "cell_type": "code",
   "execution_count": 7,
   "metadata": {
    "colab": {
     "base_uri": "https://localhost:8080/",
     "height": 34
    },
    "colab_type": "code",
    "executionInfo": {
     "elapsed": 851,
     "status": "ok",
     "timestamp": 1578801417560,
     "user": {
      "displayName": "Yun Wu",
      "photoUrl": "",
      "userId": "07058976890337189786"
     },
     "user_tz": -60
    },
    "id": "8ms0yqXB5QeB",
    "outputId": "e2344804-151e-46ef-c560-6b149e1eb8bc"
   },
   "outputs": [
    {
     "name": "stdout",
     "output_type": "stream",
     "text": [
      "[('Bart', 66), ('Bob', 75), ('Lisa', 88), ('Adam', 92)]\n"
     ]
    }
   ],
   "source": [
    "#再按成绩从高到低排序：\n",
    "def by_score(t):\n",
    "  return(t[1])\n",
    "L = [('Bob', 75), ('Adam', 92), ('Bart', 66), ('Lisa', 88)]\n",
    "L2 = sorted(L,key=by_score)\n",
    "print(L2)"
   ]
  },
  {
   "cell_type": "markdown",
   "metadata": {
    "colab_type": "text",
    "id": "HnLYhrie5l04"
   },
   "source": [
    "## 2. 返回函数"
   ]
  },
  {
   "cell_type": "code",
   "execution_count": 16,
   "metadata": {
    "colab": {
     "base_uri": "https://localhost:8080/",
     "height": 34
    },
    "colab_type": "code",
    "executionInfo": {
     "elapsed": 813,
     "status": "ok",
     "timestamp": 1578802748079,
     "user": {
      "displayName": "Yun Wu",
      "photoUrl": "",
      "userId": "07058976890337189786"
     },
     "user_tz": -60
    },
    "id": "8TjFhxax5nXq",
    "outputId": "0d32e205-eaf3-437c-81bb-c9a5cd6a933f"
   },
   "outputs": [
    {
     "data": {
      "text/plain": [
       "9"
      ]
     },
     "execution_count": 16,
     "metadata": {},
     "output_type": "execute_result"
    }
   ],
   "source": [
    "#用例子解释\n",
    "#可变参数的求和\n",
    "def sum(*args):\n",
    "  ax=0\n",
    "  for n in args:\n",
    "    ax=ax+n\n",
    "  return ax\n",
    "sum(1,3,5)"
   ]
  },
  {
   "cell_type": "markdown",
   "metadata": {},
   "source": [
    "### 函数作为返回值"
   ]
  },
  {
   "cell_type": "code",
   "execution_count": 17,
   "metadata": {
    "colab": {},
    "colab_type": "code",
    "id": "1nyvFinj6KlA"
   },
   "outputs": [],
   "source": [
    "#但是，如果不需要立刻求和，而是在后面的代码中，根据需要再计算怎么办？\n",
    "#可以不返回求和的结果，而是返回求和的函数\n",
    "def lazy_sum(*args):\n",
    "  def sum():\n",
    "    ax=0\n",
    "    for n in args:\n",
    "      ax=ax+n\n",
    "    return ax\n",
    "  return sum"
   ]
  },
  {
   "cell_type": "code",
   "execution_count": 18,
   "metadata": {
    "colab": {
     "base_uri": "https://localhost:8080/",
     "height": 34
    },
    "colab_type": "code",
    "executionInfo": {
     "elapsed": 872,
     "status": "ok",
     "timestamp": 1578801794350,
     "user": {
      "displayName": "Yun Wu",
      "photoUrl": "",
      "userId": "07058976890337189786"
     },
     "user_tz": -60
    },
    "id": "GY3q1Ajb6s8o",
    "outputId": "5f84ada0-bedc-483f-cb86-fdf19e5814e0"
   },
   "outputs": [
    {
     "data": {
      "text/plain": [
       "<function __main__.lazy_sum.<locals>.sum()>"
      ]
     },
     "execution_count": 18,
     "metadata": {},
     "output_type": "execute_result"
    }
   ],
   "source": [
    "f = lazy_sum(1,3,5,7,9)\n",
    "f #不返回结果，而是函数"
   ]
  },
  {
   "cell_type": "code",
   "execution_count": 19,
   "metadata": {
    "colab": {},
    "colab_type": "code",
    "id": "G3SnwfC066Ix"
   },
   "outputs": [
    {
     "data": {
      "text/plain": [
       "25"
      ]
     },
     "execution_count": 19,
     "metadata": {},
     "output_type": "execute_result"
    }
   ],
   "source": [
    "f() #调用"
   ]
  },
  {
   "cell_type": "markdown",
   "metadata": {
    "colab_type": "text",
    "id": "AWo8uAy56_xw"
   },
   "source": [
    "函数lazy_sum中定义了函数sum,sum是一个内部函数，可以引用外部函数lazy_sum的参数和局部变量，当lazy-sum返回了函数sum时，相关参数和变量都保存在返回的函数中。（Closure的定义）"
   ]
  },
  {
   "cell_type": "code",
   "execution_count": 20,
   "metadata": {
    "colab": {
     "base_uri": "https://localhost:8080/",
     "height": 34
    },
    "colab_type": "code",
    "executionInfo": {
     "elapsed": 1805,
     "status": "ok",
     "timestamp": 1578801984586,
     "user": {
      "displayName": "Yun Wu",
      "photoUrl": "",
      "userId": "07058976890337189786"
     },
     "user_tz": -60
    },
    "id": "GANOkStK7eu4",
    "outputId": "64e5da16-bc8e-4dbe-a714-1b0a33e521c0"
   },
   "outputs": [
    {
     "data": {
      "text/plain": [
       "False"
      ]
     },
     "execution_count": 20,
     "metadata": {},
     "output_type": "execute_result"
    }
   ],
   "source": [
    "#注意：当我们调用lazy_sum()时，每次调用都会返回一个新的函数，即使传入相同的参数\n",
    "f1 = lazy_sum(1,3,5,7,9)\n",
    "f2 = lazy_sum(1,3,5,7,9)\n",
    "f1 == f2"
   ]
  },
  {
   "cell_type": "markdown",
   "metadata": {},
   "source": [
    "### 闭包：闭包就是能够读取其他函数内部变量的函数。"
   ]
  },
  {
   "cell_type": "code",
   "execution_count": 36,
   "metadata": {
    "colab": {
     "base_uri": "https://localhost:8080/",
     "height": 67
    },
    "colab_type": "code",
    "executionInfo": {
     "elapsed": 1403,
     "status": "ok",
     "timestamp": 1578803582649,
     "user": {
      "displayName": "Yun Wu",
      "photoUrl": "",
      "userId": "07058976890337189786"
     },
     "user_tz": -60
    },
    "id": "3cqzNnNz7uLo",
    "outputId": "3d71e07f-d7d9-4003-f5c8-39020ed841e3"
   },
   "outputs": [
    {
     "name": "stdout",
     "output_type": "stream",
     "text": [
      "9\n",
      "9\n",
      "9\n"
     ]
    }
   ],
   "source": [
    "def count():\n",
    "  fs=[]\n",
    "  for i in range(1,4):\n",
    "    def f():\n",
    "      return i*i\n",
    "    fs.append(f)\n",
    "  return fs\n",
    "\n",
    "f1,f2,f3 = count()\n",
    "print(f1())\n",
    "print(f2())\n",
    "print(f3())"
   ]
  },
  {
   "cell_type": "markdown",
   "metadata": {
    "colab_type": "text",
    "id": "MM6C4HVF8nDZ"
   },
   "source": [
    "返回结果为什么不是1,4,9?   \n",
    "返回的函数引用了变量i，但它并非立刻执行。等到3个函数都返回时，它们所引用的变量i已经变成了3，因此最终结果为9。"
   ]
  },
  {
   "cell_type": "markdown",
   "metadata": {
    "colab_type": "text",
    "id": "gh2u8yD68yI4"
   },
   "source": [
    "<font color='red'>**注意：返回函数不要引用任何循环变量，或者后续会发生变化的变量。**</font>"
   ]
  },
  {
   "cell_type": "code",
   "execution_count": 24,
   "metadata": {
    "colab": {
     "base_uri": "https://localhost:8080/",
     "height": 67
    },
    "colab_type": "code",
    "executionInfo": {
     "elapsed": 802,
     "status": "ok",
     "timestamp": 1578803658066,
     "user": {
      "displayName": "Yun Wu",
      "photoUrl": "",
      "userId": "07058976890337189786"
     },
     "user_tz": -60
    },
    "id": "F1cYKv0kATtL",
    "outputId": "14df3ab5-aa28-4916-ed95-a472ddda7120"
   },
   "outputs": [
    {
     "name": "stdout",
     "output_type": "stream",
     "text": [
      "1\n",
      "4\n",
      "9\n"
     ]
    }
   ],
   "source": [
    "#对比：\n",
    "def count():\n",
    "  fs=[]\n",
    "  for i in range(1,4):\n",
    "    def f():\n",
    "      return i*i\n",
    "    fs.append(f()) #改变这里，可以理解为返回值，而不是函数吗?\n",
    "  return fs\n",
    "f1,f2,f3 = count()\n",
    "print(f1)\n",
    "print(f2)\n",
    "print(f3)"
   ]
  },
  {
   "cell_type": "code",
   "execution_count": 0,
   "metadata": {
    "colab": {},
    "colab_type": "code",
    "id": "7b09w2gl83_b"
   },
   "outputs": [],
   "source": [
    "#如果一定要引用循环变量呢?\n",
    "#解决方法：再创建一个函数，用该函数的参数绑定循环变量当前的值\n",
    "def count():\n",
    "  def f(j):\n",
    "    def g():\n",
    "      return j*j\n",
    "    return g\n",
    "  fs=[]\n",
    "  for i in range(1,4):\n",
    "    fs.append(f(i))\n",
    "  return fs"
   ]
  },
  {
   "cell_type": "code",
   "execution_count": 23,
   "metadata": {
    "colab": {
     "base_uri": "https://localhost:8080/",
     "height": 67
    },
    "colab_type": "code",
    "executionInfo": {
     "elapsed": 404,
     "status": "ok",
     "timestamp": 1578802663578,
     "user": {
      "displayName": "Yun Wu",
      "photoUrl": "",
      "userId": "07058976890337189786"
     },
     "user_tz": -60
    },
    "id": "op0lx0yZ-B9I",
    "outputId": "adbb7fac-b54c-478d-a181-30d104e4758c"
   },
   "outputs": [
    {
     "name": "stdout",
     "output_type": "stream",
     "text": [
      "1\n",
      "4\n",
      "9\n"
     ]
    }
   ],
   "source": [
    "f1,f2,f3=count()\n",
    "print(f1())\n",
    "print(f2())\n",
    "print(f3())"
   ]
  },
  {
   "cell_type": "code",
   "execution_count": 0,
   "metadata": {
    "colab": {},
    "colab_type": "code",
    "id": "epmN3WPd-9aC"
   },
   "outputs": [],
   "source": [
    "#练习：利用闭包返回一个计数器函数，每次调用它返回递增整数：\n",
    "#方法一：闭包\n",
    "s=0\n",
    "def createCounter():\n",
    "  def counter():\n",
    "    global s\n",
    "    s=s+1\n",
    "    return s \n",
    "  return counter"
   ]
  },
  {
   "cell_type": "code",
   "execution_count": 49,
   "metadata": {
    "colab": {
     "base_uri": "https://localhost:8080/",
     "height": 50
    },
    "colab_type": "code",
    "executionInfo": {
     "elapsed": 1732,
     "status": "ok",
     "timestamp": 1578804623339,
     "user": {
      "displayName": "Yun Wu",
      "photoUrl": "",
      "userId": "07058976890337189786"
     },
     "user_tz": -60
    },
    "id": "vOe_vGj-FoDe",
    "outputId": "921aa36f-390b-43ab-81e2-481bea8484b4"
   },
   "outputs": [
    {
     "name": "stdout",
     "output_type": "stream",
     "text": [
      "1 2 3 4 5\n",
      "6 7 8\n"
     ]
    }
   ],
   "source": [
    "counterA = createCounter() #测试成功\n",
    "print(counterA(), counterA(), counterA(), counterA(), counterA())\n",
    "counterB = createCounter() #测试失败,原因在于每次调用counter在上次的s值上进行的\n",
    "print(counterB(),counterB(),counterB()) #输出678，而不是123"
   ]
  },
  {
   "cell_type": "code",
   "execution_count": 0,
   "metadata": {
    "colab": {},
    "colab_type": "code",
    "id": "-y8E8a7mF8Fo"
   },
   "outputs": [],
   "source": [
    "#方法二\n",
    "#nonlocal是用于内部函数更改外层函数的外部变量的关键字\n",
    "#内部函数为counter,使用外部函数createCounter的变量a\n",
    "def createCounter():\n",
    "  a=0\n",
    "  def counter():\n",
    "    nonlocal a #没有nonlocal会报错\n",
    "    #a = a+1\n",
    "    a += 1\n",
    "    return a \n",
    "  return counter"
   ]
  },
  {
   "cell_type": "code",
   "execution_count": 59,
   "metadata": {
    "colab": {
     "base_uri": "https://localhost:8080/",
     "height": 50
    },
    "colab_type": "code",
    "executionInfo": {
     "elapsed": 1416,
     "status": "ok",
     "timestamp": 1578805250026,
     "user": {
      "displayName": "Yun Wu",
      "photoUrl": "",
      "userId": "07058976890337189786"
     },
     "user_tz": -60
    },
    "id": "5_98F4eVGIi_",
    "outputId": "55796b29-4b4f-46cd-e312-a5a064c7fd54"
   },
   "outputs": [
    {
     "name": "stdout",
     "output_type": "stream",
     "text": [
      "1 2 3 4 5\n",
      "1 2 3\n"
     ]
    }
   ],
   "source": [
    "counterA = createCounter() \n",
    "print(counterA(), counterA(), counterA(), counterA(), counterA())\n",
    "counterB = createCounter() \n",
    "print(counterB(),counterB(),counterB()) "
   ]
  },
  {
   "cell_type": "code",
   "execution_count": 0,
   "metadata": {
    "colab": {},
    "colab_type": "code",
    "id": "ivDaRYPGGbl4"
   },
   "outputs": [],
   "source": [
    "#方法三：创建生成器\n",
    "def createCounter():\n",
    "  def f():\n",
    "    x=0\n",
    "    while True:\n",
    "      x = x+1\n",
    "      yield x\n",
    "  list = f()\n",
    "  def counter():\n",
    "    return next(list)\n",
    "  return counter "
   ]
  },
  {
   "cell_type": "code",
   "execution_count": 55,
   "metadata": {
    "colab": {
     "base_uri": "https://localhost:8080/",
     "height": 50
    },
    "colab_type": "code",
    "executionInfo": {
     "elapsed": 2354,
     "status": "ok",
     "timestamp": 1578804918078,
     "user": {
      "displayName": "Yun Wu",
      "photoUrl": "",
      "userId": "07058976890337189786"
     },
     "user_tz": -60
    },
    "id": "H_CVSsSxGxUY",
    "outputId": "b1af8fc0-b8a7-4ab4-9799-57b4d703ff5b"
   },
   "outputs": [
    {
     "name": "stdout",
     "output_type": "stream",
     "text": [
      "1 2 3 4 5\n",
      "1 2 3\n"
     ]
    }
   ],
   "source": [
    "counterA = createCounter() \n",
    "print(counterA(), counterA(), counterA(), counterA(), counterA())\n",
    "counterB = createCounter() \n",
    "print(counterB(),counterB(),counterB())"
   ]
  },
  {
   "cell_type": "code",
   "execution_count": 0,
   "metadata": {
    "colab": {},
    "colab_type": "code",
    "id": "2fibvRndG08K"
   },
   "outputs": [],
   "source": [
    "#方法四,这个方法如何理解?\n",
    "def createCounter():\n",
    "  s = [0]\n",
    "  def counter():\n",
    "    s[0]=s[0]+1\n",
    "    return s[0]\n",
    "  return counter"
   ]
  },
  {
   "cell_type": "code",
   "execution_count": 57,
   "metadata": {
    "colab": {
     "base_uri": "https://localhost:8080/",
     "height": 50
    },
    "colab_type": "code",
    "executionInfo": {
     "elapsed": 3984,
     "status": "ok",
     "timestamp": 1578805041918,
     "user": {
      "displayName": "Yun Wu",
      "photoUrl": "",
      "userId": "07058976890337189786"
     },
     "user_tz": -60
    },
    "id": "r19KoYd8HO_R",
    "outputId": "13ccd0f0-5b80-434b-c6fc-36962520ddfd"
   },
   "outputs": [
    {
     "name": "stdout",
     "output_type": "stream",
     "text": [
      "1 2 3 4 5\n",
      "1 2 3\n"
     ]
    }
   ],
   "source": [
    "counterA = createCounter() \n",
    "print(counterA(), counterA(), counterA(), counterA(), counterA())\n",
    "counterB = createCounter() \n",
    "print(counterB(),counterB(),counterB())"
   ]
  },
  {
   "cell_type": "markdown",
   "metadata": {
    "colab_type": "text",
    "id": "4Ub-YUsGIbjT"
   },
   "source": [
    "## 3. 匿名函数lambda"
   ]
  },
  {
   "cell_type": "markdown",
   "metadata": {
    "colab_type": "text",
    "id": "B7vA5L97IiCc"
   },
   "source": [
    "当我们在传入函数时，有些时候，不需要显式地定义函数，直接传入匿名函数更方便。"
   ]
  },
  {
   "cell_type": "code",
   "execution_count": 60,
   "metadata": {
    "colab": {
     "base_uri": "https://localhost:8080/",
     "height": 34
    },
    "colab_type": "code",
    "executionInfo": {
     "elapsed": 2927,
     "status": "ok",
     "timestamp": 1578805429211,
     "user": {
      "displayName": "Yun Wu",
      "photoUrl": "",
      "userId": "07058976890337189786"
     },
     "user_tz": -60
    },
    "id": "EEJuuLlHIeBt",
    "outputId": "b2ac5d51-4e89-48fa-ead3-27b2306cb00e"
   },
   "outputs": [
    {
     "data": {
      "text/plain": [
       "[1, 4, 9, 16, 25]"
      ]
     },
     "execution_count": 60,
     "metadata": {
      "tags": []
     },
     "output_type": "execute_result"
    }
   ],
   "source": [
    "list(map(lambda x:x*x,[1,2,3,4,5]))"
   ]
  },
  {
   "cell_type": "code",
   "execution_count": 0,
   "metadata": {
    "colab": {},
    "colab_type": "code",
    "id": "-amdrjTKIyLz"
   },
   "outputs": [],
   "source": [
    "#lambda x(表示函数参数)\n",
    "#lambda x:x*x等效于以下代码\n",
    "def f(x):\n",
    "  return x*x"
   ]
  },
  {
   "cell_type": "code",
   "execution_count": 63,
   "metadata": {
    "colab": {
     "base_uri": "https://localhost:8080/",
     "height": 34
    },
    "colab_type": "code",
    "executionInfo": {
     "elapsed": 1381,
     "status": "ok",
     "timestamp": 1578805579919,
     "user": {
      "displayName": "Yun Wu",
      "photoUrl": "",
      "userId": "07058976890337189786"
     },
     "user_tz": -60
    },
    "id": "F59moCWJJLBP",
    "outputId": "1b0fd34c-43e4-4dfc-a82a-4d7fcd082896"
   },
   "outputs": [
    {
     "name": "stdout",
     "output_type": "stream",
     "text": [
      "25\n"
     ]
    }
   ],
   "source": [
    "#可以把匿名函数赋值给一个对象\n",
    "f = lambda x:x*x\n",
    "f\n",
    "print(f(5))"
   ]
  },
  {
   "cell_type": "code",
   "execution_count": 91,
   "metadata": {
    "colab": {
     "base_uri": "https://localhost:8080/",
     "height": 34
    },
    "colab_type": "code",
    "executionInfo": {
     "elapsed": 927,
     "status": "ok",
     "timestamp": 1578806820323,
     "user": {
      "displayName": "Yun Wu",
      "photoUrl": "",
      "userId": "07058976890337189786"
     },
     "user_tz": -60
    },
    "id": "5hoOZU3IJZIu",
    "outputId": "fa708e75-53e1-4657-e560-caeca69918d6"
   },
   "outputs": [
    {
     "data": {
      "text/plain": [
       "5"
      ]
     },
     "execution_count": 91,
     "metadata": {
      "tags": []
     },
     "output_type": "execute_result"
    }
   ],
   "source": [
    "#lambda函数可以作为返回值返回\n",
    "#https://blog.csdn.net/weixin_41974053/article/details/80678786\n",
    "def build(x,y):\n",
    "  return lambda:x*x+y*y\n",
    "f=build(1,2)\n",
    "f() #必须调用！"
   ]
  },
  {
   "cell_type": "code",
   "execution_count": 97,
   "metadata": {
    "colab": {
     "base_uri": "https://localhost:8080/",
     "height": 34
    },
    "colab_type": "code",
    "executionInfo": {
     "elapsed": 819,
     "status": "ok",
     "timestamp": 1578807039863,
     "user": {
      "displayName": "Yun Wu",
      "photoUrl": "",
      "userId": "07058976890337189786"
     },
     "user_tz": -60
    },
    "id": "CoM-CAKkJm12",
    "outputId": "ac83cdf0-a7fb-4e16-ca77-cfcc9f0280a7"
   },
   "outputs": [
    {
     "name": "stdout",
     "output_type": "stream",
     "text": [
      "[1, 3, 5, 7, 9, 11, 13, 15, 17, 19]\n"
     ]
    }
   ],
   "source": [
    "#练习：改写以下函数\n",
    "def is_odd(n):\n",
    "    return n % 2 == 1\n",
    "\n",
    "L = list(filter(is_odd, range(1, 20)))\n",
    "print(L)"
   ]
  },
  {
   "cell_type": "code",
   "execution_count": 100,
   "metadata": {
    "colab": {
     "base_uri": "https://localhost:8080/",
     "height": 34
    },
    "colab_type": "code",
    "executionInfo": {
     "elapsed": 807,
     "status": "ok",
     "timestamp": 1578807135035,
     "user": {
      "displayName": "Yun Wu",
      "photoUrl": "",
      "userId": "07058976890337189786"
     },
     "user_tz": -60
    },
    "id": "Lk1_QsUlO75v",
    "outputId": "51503c8f-a1e6-4f7b-a8d6-ba96f634795a"
   },
   "outputs": [
    {
     "name": "stdout",
     "output_type": "stream",
     "text": [
      "[1, 3, 5, 7, 9, 11, 13, 15, 17, 19]\n"
     ]
    }
   ],
   "source": [
    "L = list(filter(lambda x:x%2==1, range(1, 20)))\n",
    "print(L)"
   ]
  },
  {
   "cell_type": "markdown",
   "metadata": {
    "colab_type": "text",
    "id": "CBKHtJYmPTW1"
   },
   "source": [
    "## 4. 装饰器"
   ]
  },
  {
   "cell_type": "code",
   "execution_count": 101,
   "metadata": {
    "colab": {
     "base_uri": "https://localhost:8080/",
     "height": 34
    },
    "colab_type": "code",
    "executionInfo": {
     "elapsed": 822,
     "status": "ok",
     "timestamp": 1578807210223,
     "user": {
      "displayName": "Yun Wu",
      "photoUrl": "",
      "userId": "07058976890337189786"
     },
     "user_tz": -60
    },
    "id": "6gYIfKhwPU-Q",
    "outputId": "9d8b2426-ca23-40a2-ed1f-ea5fa48ee1d0"
   },
   "outputs": [
    {
     "name": "stdout",
     "output_type": "stream",
     "text": [
      "2015-3-25\n"
     ]
    }
   ],
   "source": [
    "#由于函数也是一个对象，而且函数对象可以被赋值给变量，所以，通过变量也能调用该函数。\n",
    "def now():\n",
    "  print('2015-3-25')\n",
    "f=now\n",
    "f()"
   ]
  },
  {
   "cell_type": "code",
   "execution_count": 102,
   "metadata": {
    "colab": {
     "base_uri": "https://localhost:8080/",
     "height": 34
    },
    "colab_type": "code",
    "executionInfo": {
     "elapsed": 797,
     "status": "ok",
     "timestamp": 1578807266919,
     "user": {
      "displayName": "Yun Wu",
      "photoUrl": "",
      "userId": "07058976890337189786"
     },
     "user_tz": -60
    },
    "id": "p9GEjDSfPoCK",
    "outputId": "7ab01778-4bb8-4e0f-df45-30ee5b544408"
   },
   "outputs": [
    {
     "data": {
      "text/plain": [
       "'now'"
      ]
     },
     "execution_count": 102,
     "metadata": {
      "tags": []
     },
     "output_type": "execute_result"
    }
   ],
   "source": [
    "now.__name__ #拿到函数的名字"
   ]
  },
  {
   "cell_type": "code",
   "execution_count": 103,
   "metadata": {
    "colab": {
     "base_uri": "https://localhost:8080/",
     "height": 34
    },
    "colab_type": "code",
    "executionInfo": {
     "elapsed": 985,
     "status": "ok",
     "timestamp": 1578807276290,
     "user": {
      "displayName": "Yun Wu",
      "photoUrl": "",
      "userId": "07058976890337189786"
     },
     "user_tz": -60
    },
    "id": "nrniNzDUPxcb",
    "outputId": "67a5aab7-13a4-463f-e29b-ab111b7c94dc"
   },
   "outputs": [
    {
     "data": {
      "text/plain": [
       "'now'"
      ]
     },
     "execution_count": 103,
     "metadata": {
      "tags": []
     },
     "output_type": "execute_result"
    }
   ],
   "source": [
    "f.__name__"
   ]
  },
  {
   "cell_type": "markdown",
   "metadata": {},
   "source": [
    "目的：增强now()函数功能，但不希望修改now函数的定义  \n",
    "在代码运行期间动态增加功能的方式，称之为“装饰器”（Decorator）  \n",
    "装饰器是一个返回函数的高阶函数"
   ]
  },
  {
   "cell_type": "code",
   "execution_count": 4,
   "metadata": {},
   "outputs": [],
   "source": [
    "def log(func):#func是一个函数\n",
    "    \n",
    "  def wrapper(*args,**kw):\n",
    "    print('call %s():'%func.__name__) #首先打印日志\n",
    "    return func(*args,**kw) #其次调用func函数\n",
    "\n",
    "  return wrapper #返回wrapper函数，也是一个函数"
   ]
  },
  {
   "cell_type": "code",
   "execution_count": 5,
   "metadata": {},
   "outputs": [],
   "source": [
    "def now():\n",
    "  print('2015-3-25')"
   ]
  },
  {
   "cell_type": "code",
   "execution_count": 6,
   "metadata": {},
   "outputs": [
    {
     "name": "stdout",
     "output_type": "stream",
     "text": [
      "call now():\n",
      "2015-3-25\n"
     ]
    }
   ],
   "source": [
    "log(now)()"
   ]
  },
  {
   "cell_type": "markdown",
   "metadata": {},
   "source": [
    "用装饰器的方法："
   ]
  },
  {
   "cell_type": "code",
   "execution_count": 7,
   "metadata": {
    "colab": {},
    "colab_type": "code",
    "id": "PV-aID7TyEzm"
   },
   "outputs": [],
   "source": [
    "@log #decorator置于函数的定义处，相当于执行now = log(now)\n",
    "def now():\n",
    "  print('2015-3-25')"
   ]
  },
  {
   "cell_type": "code",
   "execution_count": 8,
   "metadata": {
    "colab": {
     "base_uri": "https://localhost:8080/",
     "height": 50
    },
    "colab_type": "code",
    "executionInfo": {
     "elapsed": 1156,
     "status": "ok",
     "timestamp": 1578816322463,
     "user": {
      "displayName": "Yun Wu",
      "photoUrl": "",
      "userId": "07058976890337189786"
     },
     "user_tz": -60
    },
    "id": "-yWrGZ2QyRzF",
    "outputId": "48f6516b-3835-46c1-96b0-21c636dbf642"
   },
   "outputs": [
    {
     "name": "stdout",
     "output_type": "stream",
     "text": [
      "call now():\n",
      "2015-3-25\n"
     ]
    }
   ],
   "source": [
    "now() #调用后打印了一行日志"
   ]
  },
  {
   "cell_type": "markdown",
   "metadata": {},
   "source": [
    "如何理解？  \n",
    "log()是装饰器，返回一个函数。原来的now()函数仍然存在，只是现在同名的now变量指向了新的函数，于是调用now()将执行在log()函数中返回的wrapper函数"
   ]
  },
  {
   "cell_type": "markdown",
   "metadata": {},
   "source": [
    "如果decorator本身需要传参数，需要编写一个返回decorator的高阶函数"
   ]
  },
  {
   "cell_type": "code",
   "execution_count": 25,
   "metadata": {
    "colab": {
     "base_uri": "https://localhost:8080/",
     "height": 50
    },
    "colab_type": "code",
    "executionInfo": {
     "elapsed": 801,
     "status": "ok",
     "timestamp": 1578817048102,
     "user": {
      "displayName": "Yun Wu",
      "photoUrl": "",
      "userId": "07058976890337189786"
     },
     "user_tz": -60
    },
    "id": "rbV7SIfKy2yv",
    "outputId": "31874a00-b33f-40fb-c292-f3a20729122e"
   },
   "outputs": [
    {
     "name": "stdout",
     "output_type": "stream",
     "text": [
      "execute now()\n",
      "2015-3-25\n"
     ]
    }
   ],
   "source": [
    "#相当于执行now = log('execute')(now)\n",
    "#先执行log('execute'),返回的是decorator函数，再调用返回的函数，参数是now函数，返回值是wrapper函数\n",
    "\n",
    "def log(text): #本身需要传入text参数\n",
    "    \n",
    "  def decorator(func):\n",
    "    \n",
    "    def wrapper(*args,**kw):\n",
    "      print('%s %s()'%(text,func.__name__)) #此处不再是固定的call\n",
    "      return func(*args,**kw)\n",
    "    \n",
    "    return wrapper\n",
    "\n",
    "  return decorator #返回decorator函数\n",
    "\n",
    "#三层嵌套的decorator用法：\n",
    "@log('execute') \n",
    "def now():\n",
    "  print('2015-3-25')\n",
    "now()"
   ]
  },
  {
   "cell_type": "markdown",
   "metadata": {},
   "source": [
    "如何理解now = log('execute')(now)?  \n",
    "首先执行log('execute'),返回的是decorator函数，再调用返回的函数，参数为now函数，返回值最终是wrapper函数。  \n",
    "此时now.\\_\\_name\\_\\_的属性从“now”变为了“wrapper”"
   ]
  },
  {
   "cell_type": "code",
   "execution_count": 112,
   "metadata": {
    "colab": {
     "base_uri": "https://localhost:8080/",
     "height": 34
    },
    "colab_type": "code",
    "executionInfo": {
     "elapsed": 866,
     "status": "ok",
     "timestamp": 1578817236376,
     "user": {
      "displayName": "Yun Wu",
      "photoUrl": "",
      "userId": "07058976890337189786"
     },
     "user_tz": -60
    },
    "id": "r8mrVw3S1t0u",
    "outputId": "a9e8ba51-230b-45eb-d635-c94038a7ece1"
   },
   "outputs": [
    {
     "data": {
      "text/plain": [
       "'wrapper'"
      ]
     },
     "execution_count": 112,
     "metadata": {
      "tags": []
     },
     "output_type": "execute_result"
    }
   ],
   "source": [
    "now.__name__ #因为返回的wrapper()函数"
   ]
  },
  {
   "cell_type": "markdown",
   "metadata": {},
   "source": [
    "在实际项目中，我们需要把原始函数的__name__等属性复制到wrapper()函数中，否则，有些依赖函数签名的代码执行就会出错。  \n",
    "解决方法：functools.wraps"
   ]
  },
  {
   "cell_type": "code",
   "execution_count": 26,
   "metadata": {
    "colab": {},
    "colab_type": "code",
    "id": "EaQ7pvb52HFY"
   },
   "outputs": [],
   "source": [
    "import functools\n",
    "\n",
    "def log(func):\n",
    "  @functools.wraps(func) \n",
    "  def wrapper(*args,**kw):\n",
    "    print('call %s():'%func.__name__)\n",
    "    return func(*args,**kw)\n",
    "  return wrapper"
   ]
  },
  {
   "cell_type": "code",
   "execution_count": 27,
   "metadata": {},
   "outputs": [],
   "source": [
    "@log  #decorator置于函数的定义处，相当于执行now = log(now)\n",
    "def now():\n",
    "  print('2015-3-25')"
   ]
  },
  {
   "cell_type": "code",
   "execution_count": 28,
   "metadata": {},
   "outputs": [
    {
     "data": {
      "text/plain": [
       "'now'"
      ]
     },
     "execution_count": 28,
     "metadata": {},
     "output_type": "execute_result"
    }
   ],
   "source": [
    "now.__name__ #返回值不再是'wrapper'"
   ]
  },
  {
   "cell_type": "code",
   "execution_count": 31,
   "metadata": {
    "colab": {},
    "colab_type": "code",
    "id": "GDWSB8_m33Hs"
   },
   "outputs": [],
   "source": [
    "import functools\n",
    "def log(text):\n",
    "  def decorator(func):\n",
    "    @functools.wraps(func)\n",
    "    def wrapper(*args,**kw):\n",
    "      print('%s %s():'%(text,func.__name__))\n",
    "      return func(*args,**kw)\n",
    "    return wrapper\n",
    "  return decorator"
   ]
  },
  {
   "cell_type": "code",
   "execution_count": 33,
   "metadata": {},
   "outputs": [],
   "source": [
    "@log('execute') \n",
    "def now():\n",
    "  print('2015-3-25')"
   ]
  },
  {
   "cell_type": "code",
   "execution_count": 34,
   "metadata": {},
   "outputs": [
    {
     "data": {
      "text/plain": [
       "'now'"
      ]
     },
     "execution_count": 34,
     "metadata": {},
     "output_type": "execute_result"
    }
   ],
   "source": [
    "now.__name__"
   ]
  },
  {
   "cell_type": "markdown",
   "metadata": {
    "colab_type": "text",
    "id": "dpGD3CKv4Q3a"
   },
   "source": [
    "定义wrapper()的前面加上@functools.wraps(func)即可。"
   ]
  },
  {
   "cell_type": "code",
   "execution_count": 116,
   "metadata": {
    "colab": {
     "base_uri": "https://localhost:8080/",
     "height": 50
    },
    "colab_type": "code",
    "executionInfo": {
     "elapsed": 859,
     "status": "ok",
     "timestamp": 1578818425051,
     "user": {
      "displayName": "Yun Wu",
      "photoUrl": "",
      "userId": "07058976890337189786"
     },
     "user_tz": -60
    },
    "id": "kS6falsE4TWi",
    "outputId": "0de2a809-f007-4cde-dfb9-313e36fa5499"
   },
   "outputs": [
    {
     "name": "stdout",
     "output_type": "stream",
     "text": [
      "fast excute in 0.002384185791015625 ms\n"
     ]
    },
    {
     "data": {
      "text/plain": [
       "15"
      ]
     },
     "execution_count": 116,
     "metadata": {
      "tags": []
     },
     "output_type": "execute_result"
    }
   ],
   "source": [
    "#练习：请设计一个decorator，它可作用于任何函数上，并打印该函数的执行时间\n",
    "import time,functools\n",
    "def log(func):\n",
    "  @functools.wraps(func)\n",
    "  def wrapper(*args,**kw):\n",
    "    t1 = time.time()\n",
    "    r = func(*args,**kw)\n",
    "    print('%s excute in %s ms'%(func.__name__,1000*(time.time()-t1)))\n",
    "    return r\n",
    "  return wrapper\n",
    "@log\n",
    "def fast(x,y):\n",
    "  return x*y\n",
    "fast(3,5)"
   ]
  },
  {
   "cell_type": "markdown",
   "metadata": {
    "colab_type": "text",
    "id": "FEuaGv1t6mWC"
   },
   "source": [
    "## 5. 偏函数"
   ]
  },
  {
   "cell_type": "markdown",
   "metadata": {
    "colab_type": "text",
    "id": "6BqZok_y6vZe"
   },
   "source": [
    "注意：这里的偏函数与函数的偏函数不一样  \n",
    "在介绍函数参数的时候，我们讲到，通过设定参数的默认值，可以降低函数调用的难度。而偏函数也可以做到这一点"
   ]
  },
  {
   "cell_type": "code",
   "execution_count": 35,
   "metadata": {
    "colab": {
     "base_uri": "https://localhost:8080/",
     "height": 34
    },
    "colab_type": "code",
    "executionInfo": {
     "elapsed": 1348,
     "status": "ok",
     "timestamp": 1578818655006,
     "user": {
      "displayName": "Yun Wu",
      "photoUrl": "",
      "userId": "07058976890337189786"
     },
     "user_tz": -60
    },
    "id": "cx3fAiY56ruq",
    "outputId": "460bb294-8d98-4e6b-d7d6-9d56b91c0405"
   },
   "outputs": [
    {
     "data": {
      "text/plain": [
       "10"
      ]
     },
     "execution_count": 35,
     "metadata": {},
     "output_type": "execute_result"
    }
   ],
   "source": [
    "int('12',base=8) #base代表进制，默认为十进制"
   ]
  },
  {
   "cell_type": "code",
   "execution_count": 36,
   "metadata": {
    "colab": {
     "base_uri": "https://localhost:8080/",
     "height": 34
    },
    "colab_type": "code",
    "executionInfo": {
     "elapsed": 822,
     "status": "ok",
     "timestamp": 1578818776418,
     "user": {
      "displayName": "Yun Wu",
      "photoUrl": "",
      "userId": "07058976890337189786"
     },
     "user_tz": -60
    },
    "id": "Rab-kQQM7Ptl",
    "outputId": "f5f1b018-42cf-4fd9-e62e-522fa61a9d32"
   },
   "outputs": [
    {
     "data": {
      "text/plain": [
       "128"
      ]
     },
     "execution_count": 36,
     "metadata": {},
     "output_type": "execute_result"
    }
   ],
   "source": [
    "#转换大量的二进制字符串时，每次输入都很麻烦\n",
    "#定义该函数，默认把base=2传进去\n",
    "def int2(x,base=2):\n",
    "  return int(x,base)\n",
    "int2('10000000')"
   ]
  },
  {
   "cell_type": "markdown",
   "metadata": {},
   "source": [
    "functools.partial就是帮助我们创建一个偏函数的"
   ]
  },
  {
   "cell_type": "code",
   "execution_count": 38,
   "metadata": {
    "colab": {
     "base_uri": "https://localhost:8080/",
     "height": 34
    },
    "colab_type": "code",
    "executionInfo": {
     "elapsed": 829,
     "status": "ok",
     "timestamp": 1578818841088,
     "user": {
      "displayName": "Yun Wu",
      "photoUrl": "",
      "userId": "07058976890337189786"
     },
     "user_tz": -60
    },
    "id": "MiKrMtTH7r-l",
    "outputId": "c5852482-fa4a-400f-8bf7-6ae741c7e895"
   },
   "outputs": [
    {
     "data": {
      "text/plain": [
       "1000000"
      ]
     },
     "execution_count": 38,
     "metadata": {},
     "output_type": "execute_result"
    }
   ],
   "source": [
    "#不需要我们自己定义int2()，可以直接使用下面的代码创建一个新的函数int2\n",
    "import functools\n",
    "int2 = functools.partial(int,base=2)\n",
    "int('1000000')"
   ]
  },
  {
   "cell_type": "markdown",
   "metadata": {
    "colab_type": "text",
    "id": "7M4ARQ6Q79TR"
   },
   "source": [
    "functools.partial的作用就是，把一个函数的某些参数给固定住（也就是设置默认值），返回一个新的函数，调用这个新函数会更简单。"
   ]
  },
  {
   "cell_type": "code",
   "execution_count": 0,
   "metadata": {
    "colab": {},
    "colab_type": "code",
    "id": "WAIJ4bT58FlO"
   },
   "outputs": [],
   "source": [
    "#可以改变base\n",
    "int2 = functools.partial(int,base=2)\n",
    "int2('10010')"
   ]
  }
 ],
 "metadata": {
  "colab": {
   "authorship_tag": "ABX9TyN4MMX08tbYD5eFmzpOH7Ie",
   "name": "4函数式编程.ipynb",
   "provenance": []
  },
  "kernelspec": {
   "display_name": "Python 3",
   "language": "python",
   "name": "python3"
  },
  "language_info": {
   "codemirror_mode": {
    "name": "ipython",
    "version": 3
   },
   "file_extension": ".py",
   "mimetype": "text/x-python",
   "name": "python",
   "nbconvert_exporter": "python",
   "pygments_lexer": "ipython3",
   "version": "3.6.7"
  }
 },
 "nbformat": 4,
 "nbformat_minor": 1
}
