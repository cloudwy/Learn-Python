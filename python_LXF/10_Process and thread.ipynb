{
 "cells": [
  {
   "cell_type": "markdown",
   "metadata": {},
   "source": [
    "# 10_Process and thread"
   ]
  },
  {
   "cell_type": "markdown",
   "metadata": {},
   "source": [
    "- 真正的并行执行多任务只能在多核CPU上实现，但是，由于任务数量远远多于CPU的核心数量，所以，操作系统也会自动把很多任务轮流调度到每个核心上执行。\n",
    "- 一个任务就是一个进程（Process），比如打开一个浏览器就是启动一个浏览器进程，打开一个记事本就启动了一个记事本进程，打开两个记事本就启动了两个记事本进程，打开一个Word就启动了一个Word进程。\n",
    "- 进程内的“子任务”称为线程（Thread），比如Word同时进行打字，拼写检查等任务。一个进程至少有一个线程。当然，像Word这种复杂的进程可以有多个线程，多个线程可以同时执行，由操作系统在多线程之间快速切换。"
   ]
  },
  {
   "cell_type": "markdown",
   "metadata": {},
   "source": [
    "我们前面编写的所有的Python程序，都是执行单任务的进程，也就是只有一个线程。如果我们要同时执行多个任务怎么办？  \n",
    "\n",
    "三种解决方法：\n",
    "1. **多进程**：启动多个进程，每个进程虽然只有一个线程，多进程可以执行多任务\n",
    "2. **多线程**：启动一个进程，在一个进程内启动多个线程\n",
    "3. **多进程+多线程**启动多个进程和多个线程    \n",
    "\n",
    "一般情况下不会用第三种，因为模型复杂，调试困难。"
   ]
  },
  {
   "cell_type": "markdown",
   "metadata": {},
   "source": [
    "总结:  \n",
    "- 线程是最小的执行单元，而进程由至少一个线程组成。如何调度进程和线程，完全由操作系统决定，程序自己不能决定什么时候执行，执行多长时间。\n",
    "- 多进程和多线程的程序涉及到同步、数据共享的问题，编写起来更复杂。"
   ]
  },
  {
   "cell_type": "markdown",
   "metadata": {},
   "source": [
    "## 10.1 多进程 (multiprocessing)"
   ]
  },
  {
   "cell_type": "markdown",
   "metadata": {},
   "source": [
    "**fork()**"
   ]
  },
  {
   "cell_type": "markdown",
   "metadata": {},
   "source": [
    "`fork()`在Unix/Linux系统中提供，Mac系统是基于BSD(Unix的一种)内核，在Mac上也可运行，而Windows中没有。"
   ]
  },
  {
   "cell_type": "markdown",
   "metadata": {},
   "source": [
    "如何在Windows上编写多进程的程序?  \n",
    "`multiprocessing`模块中`Process`类代表一个进程对象"
   ]
  },
  {
   "cell_type": "markdown",
   "metadata": {},
   "source": [
    "**1. multiprocessing**"
   ]
  },
  {
   "cell_type": "code",
   "execution_count": 1,
   "metadata": {},
   "outputs": [
    {
     "name": "stdout",
     "output_type": "stream",
     "text": [
      "Parent process 7776.\n",
      "Child process will start.\n",
      "Child process end\n"
     ]
    }
   ],
   "source": [
    "from multiprocessing import Process\n",
    "import os\n",
    "\n",
    "#子进程要执行的代码\n",
    "def run_proc(name):\n",
    "    print('Run child process %s (%s)...' % (name,os.getpid()))  #os.getpid - get process id\n",
    "    \n",
    "if __name__ == '__main__':\n",
    "    print('Parent process %s.' % os.getpid())  \n",
    "    p = Process(target=run_proc,args=('test',))  #创建Process实例\n",
    "    print('Child process will start.')\n",
    "    p.start()  #启动进程\n",
    "    p.join()  #等待子进程结束后再继续往下运行，通常用于进程间的同步\n",
    "    print('Child process end')"
   ]
  },
  {
   "cell_type": "markdown",
   "metadata": {},
   "source": [
    "**2. Pool**  \n",
    "用于批量创建子进程"
   ]
  },
  {
   "cell_type": "markdown",
   "metadata": {},
   "source": [
    "random.random()和random.Random()的区别:  \n",
    "- random.random()用于生成0和1之间的浮点数\n",
    "- random.Random()用于生成random模块里的Random类的一个实例，一般会在多线程的情况下使用"
   ]
  },
  {
   "cell_type": "markdown",
   "metadata": {},
   "source": [
    "```python\n",
    "#mp_1.py\n",
    "from multiprocessing import Pool\n",
    "import os,time,random\n",
    "\n",
    "def long_time_task(name):\n",
    "    print('Run task %s (%s)...' % (name, os.getpid()))\n",
    "    start = time.time()\n",
    "    time.sleep(random.random() * 3)\n",
    "    end = time.time()\n",
    "    print('Task %s runs %0.2f seconds.' % (name, (end - start)))\n",
    "\n",
    "if __name__=='__main__':\n",
    "    print('Parent process %s.' % os.getpid())\n",
    "    p = Pool(4)\n",
    "    for i in range(5):\n",
    "        p.apply_async(long_time_task, args=(i,))\n",
    "    print('Waiting for all subprocesses done...')\n",
    "    p.close()  #调用close()之后不能继续添加新的Process了\n",
    "    p.join()  #等待，调用join之前必须先调用close\n",
    "    print('All subprocesses done.')  \n",
    "```"
   ]
  },
  {
   "cell_type": "markdown",
   "metadata": {},
   "source": [
    "```\n",
    "Result:  \n",
    "Parent process 3316.\n",
    "Waiting for all subprocesses done...\n",
    "Run task 0 (12464)...\n",
    "Run task 1 (5088)...\n",
    "Run task 2 (23308)...\n",
    "Run task 3 (1084)...\n",
    "Task 0 runs 1.27 seconds.\n",
    "Run task 4 (12464)...\n",
    "Task 4 runs 0.17 seconds.\n",
    "Task 2 runs 2.29 seconds.\n",
    "Task 1 runs 2.31 seconds.\n",
    "Task 3 runs 2.75 seconds.\n",
    "All subprocesses done.\n",
    "```"
   ]
  },
  {
   "cell_type": "markdown",
   "metadata": {},
   "source": [
    "该程序无法在jupyter notebook中运行，保存文件为\"mp_1.py\"。task 0，1，2，3是立刻执行的，而task 4要等待前面某个task完成后才执行，这是因为Pool的默认大小为CPU的核数，因此，最多同时执行4个进程。如果需要同时跑5个进程，则改为Pool(5)。"
   ]
  },
  {
   "cell_type": "markdown",
   "metadata": {},
   "source": [
    "**3. 子进程**"
   ]
  },
  {
   "cell_type": "markdown",
   "metadata": {},
   "source": [
    "子进程通常为一个外部进程，`subprocess`模块可以让我们非常方便地启动一个子进程，然后控制其输入和输出。"
   ]
  },
  {
   "cell_type": "markdown",
   "metadata": {},
   "source": [
    "例：在Python代码中运行命令`nslookup www.python.org`"
   ]
  },
  {
   "cell_type": "markdown",
   "metadata": {},
   "source": [
    "```\n",
    "#mp_2.py\n",
    "import subprocess\n",
    "\n",
    "print('$ nslookup www.python.org')\n",
    "r = subprocess.call(['nslookup', 'www.python.org'])\n",
    "print('Exit code:', r)\n",
    "```"
   ]
  },
  {
   "cell_type": "markdown",
   "metadata": {},
   "source": [
    "**cmd中运行`nslookup www.python.org`：**\n",
    "```\n",
    "服务器:  UnKnown\n",
    "Address:  192.168.1.1\n",
    "\n",
    "非权威应答:\n",
    "名称:    dualstack.python.map.fastly.net\n",
    "Addresses:  2a04:4e42:1b::223\n",
    "          151.101.112.223\n",
    "Aliases:  www.python.org  \n",
    "```\n",
    "**pycharm运行：** \n",
    "\n",
    "```\n",
    "$ nslookup www.python.org\n",
    "��Ȩ��Ӧ��:\n",
    "������:  UnKnown\n",
    "Address:  192.168.1.1\n",
    "\n",
    "����:    dualstack.python.map.fastly.net\n",
    "Addresses:  2a04:4e42:1b::223\n",
    "\t  151.101.112.223\n",
    "Aliases:  www.python.org\n",
    "\n",
    "Exit code: 0\n",
    "```\n",
    "乱码是因为是中文"
   ]
  },
  {
   "cell_type": "markdown",
   "metadata": {},
   "source": [
    "如果子进程还需要输入，则可以通过communicate()方法输入："
   ]
  },
  {
   "cell_type": "markdown",
   "metadata": {},
   "source": [
    "```\n",
    "import subprocess\n",
    "\n",
    "print('$ nslookup')\n",
    "p = subprocess.Popen(['nslookup'], stdin=subprocess.PIPE, stdout=subprocess.PIPE, stderr=subprocess.PIPE)  #创建子进程实例\n",
    "output, err = p.communicate(b'set q=mx\\npython.org\\nexit\\n')  #和子进程交互\n",
    "print(output.decode('utf-8'))\n",
    "print('Exit code:', p.returncode)\n",
    "```"
   ]
  },
  {
   "cell_type": "markdown",
   "metadata": {},
   "source": [
    "解释一些语句："
   ]
  },
  {
   "cell_type": "markdown",
   "metadata": {},
   "source": [
    "1. subprocess.Popen"
   ]
  },
  {
   "cell_type": "markdown",
   "metadata": {},
   "source": [
    "```\n",
    "class subprocess.Popen( args, \n",
    "  bufsize=0, \n",
    "  executable=None,\n",
    "  stdin=None,\n",
    "  stdout=None, \n",
    "  stderr=None, \n",
    "  preexec_fn=None, \n",
    "  close_fds=False, \n",
    "  shell=False, \n",
    "  cwd=None, \n",
    "  env=None, \n",
    "  universal_newlines=False, \n",
    "  startupinfo=None, \n",
    "  creationflags=0)\n",
    " ```\n",
    "- args - 列表形式或字符串形式  \n",
    "- bufsize - 0为默认值，表示不缓冲，1表示缓冲  \n",
    "- excutable - 表示要执行的程序，该参数很少用到\n",
    "- stdin, stdout, stderr - 子程序的标准输入，标准输出和标准错误。PIPE表示创建一个新的管道；None表示不会做任何重定向工作，子进程的文件描述符会继承父进程的；还可以指定一个有效的文件描述符或一个文件对象。\n",
    "\n",
    "\n",
    "subprocess.Popen([\"cat\",\"test.txt\"]) #一般使用这种形式  \n",
    "subprocess.Popen(\"cat test.txt\") #字符串必须为程序的路"
   ]
  },
  {
   "cell_type": "markdown",
   "metadata": {},
   "source": [
    "2. Popen.communicate"
   ]
  },
  {
   "cell_type": "markdown",
   "metadata": {},
   "source": [
    "Popen.communicate(input=None)  \n",
    "和子进程交互：发送数据到stdin，并从stdout和stderr读数据，直到收到EOF。等待子进程结束。可选的input如有有的话，要为字符串类型。\n",
    "\n",
    "此函数返回一个元组： (stdoutdata , stderrdata ) 。\n",
    "\n",
    "注意：\n",
    "- 要给子进程的stdin发送数据，则Popen的时候，stdin要为PIPE；同理，要可以接收数据的话，stdout或者stderr也要为PIPE。\n",
    "- 读到的数据会被缓存在内存里，当数据量大的时候要小心。"
   ]
  },
  {
   "cell_type": "markdown",
   "metadata": {},
   "source": [
    "**4. 进程间通信**"
   ]
  },
  {
   "cell_type": "markdown",
   "metadata": {},
   "source": [
    "Process之间肯定是需要通信的，操作系统提供了很多机制来实现进程间的通信。Python的multiprocessing模块包装了底层的机制，提供了Queue、Pipes等多种方式来交换数据。"
   ]
  },
  {
   "cell_type": "markdown",
   "metadata": {},
   "source": [
    "我们以Queue为例，在父进程中创建两个子进程，一个往Queue里写数据，一个从Queue里读数据："
   ]
  },
  {
   "cell_type": "markdown",
   "metadata": {},
   "source": [
    "```\n",
    "from multiprocessing import Process, Queue\n",
    "import os, time, random\n",
    "\n",
    "# 写数据进程执行的代码:\n",
    "def write(q):\n",
    "    print('Process to write: %s' % os.getpid())\n",
    "    for value in ['A', 'B', 'C']:\n",
    "        print('Put %s to queue...' % value)\n",
    "        q.put(value)\n",
    "        time.sleep(random.random())\n",
    "\n",
    "# 读数据进程执行的代码:\n",
    "def read(q):\n",
    "    print('Process to read: %s' % os.getpid())\n",
    "    while True:\n",
    "        value = q.get(True)\n",
    "        print('Get %s from queue.' % value)\n",
    "\n",
    "if __name__=='__main__':\n",
    "    # 父进程创建Queue，并传给各个子进程：\n",
    "    q = Queue()  #队列中的项数无限制\n",
    "    pw = Process(target=write, args=(q,))\n",
    "    pr = Process(target=read, args=(q,))\n",
    "    \n",
    "    # 启动子进程pw，写入:\n",
    "    pw.start()\n",
    "    \n",
    "    # 启动子进程pr，读取:\n",
    "    pr.start()\n",
    "    \n",
    "    # 等待pw结束:\n",
    "    pw.join()\n",
    "    \n",
    "    # pr进程里是死循环，无法等待其结束，只能强行终止:\n",
    "    pr.terminate()\n",
    "```"
   ]
  },
  {
   "cell_type": "markdown",
   "metadata": {},
   "source": [
    "```\n",
    "Process to write: 3024\n",
    "Put A to queue...\n",
    "Process to read: 15004\n",
    "Get A from queue.\n",
    "Put B to queue...\n",
    "Get B from queue.\n",
    "Put C to queue...\n",
    "Get C from queue.\n",
    "\n",
    "Process finished with exit code 0\n",
    "```"
   ]
  },
  {
   "cell_type": "markdown",
   "metadata": {},
   "source": [
    "## 10.2 多线程 (Multithreading)"
   ]
  },
  {
   "cell_type": "markdown",
   "metadata": {},
   "source": [
    "- Python的线程是真正的Posix Thread，而不是模拟出来的线程\n",
    "- Python的标准库提供了两个模块：`_thread`和`threading`，`_thread`是低级模块，`threading`是高级模块，对`_thread`进行了封装。"
   ]
  },
  {
   "cell_type": "markdown",
   "metadata": {},
   "source": [
    "启动一个线程就是把一个函数传入并创建`Thread`实例，然后调用start()开始执行："
   ]
  },
  {
   "cell_type": "code",
   "execution_count": 9,
   "metadata": {},
   "outputs": [
    {
     "name": "stdout",
     "output_type": "stream",
     "text": [
      "thread MainThread is running...\n",
      "thread LoopThread is running...\n",
      "thread LoopThread >>> 1\n",
      "thread LoopThread >>> 2\n",
      "thread LoopThread >>> 3\n",
      "thread LoopThread >>> 4\n",
      "thread LoopThread >>> 5\n",
      "thread LoopThread ended.\n",
      "thread MainThread ended.\n"
     ]
    }
   ],
   "source": [
    "import time, threading\n",
    "\n",
    "# 新线程执行的代码:\n",
    "def loop():\n",
    "    print('thread %s is running...' % threading.current_thread().name)\n",
    "    n = 0\n",
    "    while n < 5:\n",
    "        n = n + 1\n",
    "        print('thread %s >>> %s' % (threading.current_thread().name, n))\n",
    "        time.sleep(1)\n",
    "    print('thread %s ended.' % threading.current_thread().name)\n",
    "\n",
    "print('thread %s is running...' % threading.current_thread().name)  #MainThread\n",
    "t = threading.Thread(target=loop, name='LoopThread')\n",
    "t.start()\n",
    "t.join()\n",
    "print('thread %s ended.' % threading.current_thread().name)"
   ]
  },
  {
   "cell_type": "markdown",
   "metadata": {},
   "source": [
    "`threading.current_thread()` - 返回当前线程的实例  \n",
    "任何进程默认会启动一个线程，该线程称为主线程，主线程实例的名字为`MainThread`,主线程可以启动新的线程，称为子线程，子线程的名字在创建时指定，上例中用`LoopThread`来命名。"
   ]
  },
  {
   "cell_type": "markdown",
   "metadata": {},
   "source": [
    "**1. Lock**"
   ]
  },
  {
   "cell_type": "markdown",
   "metadata": {},
   "source": [
    "多线程和多进程最大的不同在于: \n",
    "- 多进程中，同一个变量，各自有一份拷贝存在于每个进程中，互不影响。\n",
    "- 多线程中，所有变量都由所有线程共享，所以，任何一个变量都可以被任何一个线程修改。\n",
    "\n",
    "线程之间共享数据最大的危险在于多个线程同时改一个变量，把内容给改乱了。"
   ]
  },
  {
   "cell_type": "code",
   "execution_count": 13,
   "metadata": {},
   "outputs": [
    {
     "name": "stdout",
     "output_type": "stream",
     "text": [
      "3735\n"
     ]
    }
   ],
   "source": [
    "import time, threading\n",
    "\n",
    "# 假定这是你的银行存款:\n",
    "balance = 0\n",
    "\n",
    "def change_it(n):\n",
    "    # 先存后取，结果应该为0:\n",
    "    global balance\n",
    "    balance = balance + n\n",
    "    balance = balance - n\n",
    "\n",
    "def run_thread(n):\n",
    "    for i in range(1000000000): \n",
    "        change_it(n)\n",
    "\n",
    "t1 = threading.Thread(target=run_thread, args=(5,))\n",
    "t2 = threading.Thread(target=run_thread, args=(8,))\n",
    "t1.start()\n",
    "t2.start()\n",
    "t1.join()\n",
    "t2.join()\n",
    "print(balance)"
   ]
  },
  {
   "cell_type": "markdown",
   "metadata": {},
   "source": [
    "当循环数字很大的时候，balance就不一定为0了，原因在于一条语句在CPU执行时是若干条语句，即使是一个简单的计算也会分为两步：  \n",
    "1. 计算`balance+n`,存入临时变量： `x=balance+n`\n",
    "2. 将临时变量的值赋给`balance`: `balance=x`"
   ]
  },
  {
   "cell_type": "markdown",
   "metadata": {},
   "source": [
    "由于x是局部变量，两个线程各自都有自己的x，当代码正常执行时：\n",
    "```\n",
    "初始值 balance = 0\n",
    "\n",
    "t1: x1 = balance + 5 # x1 = 0 + 5 = 5\n",
    "t1: balance = x1     # balance = 5\n",
    "t1: x1 = balance - 5 # x1 = 5 - 5 = 0\n",
    "t1: balance = x1     # balance = 0\n",
    "\n",
    "t2: x2 = balance + 8 # x2 = 0 + 8 = 8\n",
    "t2: balance = x2     # balance = 8\n",
    "t2: x2 = balance - 8 # x2 = 8 - 8 = 0\n",
    "t2: balance = x2     # balance = 0\n",
    "    \n",
    "结果 balance = 0\n",
    "```\n",
    "\n",
    "但是t1和t2是交替运行的，如果操作系统以下面的顺序执行t1、t2：  \n",
    "```\n",
    "初始值 balance = 0\n",
    "\n",
    "t1: x1 = balance + 5  # x1 = 0 + 5 = 5\n",
    "\n",
    "t2: x2 = balance + 8  # x2 = 0 + 8 = 8\n",
    "t2: balance = x2      # balance = 8\n",
    "\n",
    "t1: balance = x1      # balance = 5\n",
    "t1: x1 = balance - 5  # x1 = 5 - 5 = 0\n",
    "t1: balance = x1      # balance = 0\n",
    "\n",
    "t2: x2 = balance - 8  # x2 = 0 - 8 = -8\n",
    "t2: balance = x2   # balance = -8\n",
    "\n",
    "结果 balance = -8\n",
    "```"
   ]
  },
  {
   "cell_type": "markdown",
   "metadata": {},
   "source": [
    "如何确保一个线程在修改`balance`的时候，别的线程不能改？  \n",
    "`change_it()`相当于一把锁，当某个线程开始执行`change_it()`时，该线程已通过`lock.acquire()`获得了锁，因此其他线程不能同时执行，只能等待该锁被释放后，获得该锁才能改。创建一个锁通过`threading.Lock()`来实现。"
   ]
  },
  {
   "cell_type": "code",
   "execution_count": 14,
   "metadata": {},
   "outputs": [],
   "source": [
    "balance = 0\n",
    "lock = threading.Lock()\n",
    "\n",
    "def run_thread(n):\n",
    "    for i in range(100000):\n",
    "        # 先要获取锁:\n",
    "        lock.acquire()\n",
    "        try:\n",
    "            # 放心地改吧:\n",
    "            change_it(n)\n",
    "        finally:\n",
    "            # 改完了一定要释放锁:\n",
    "            lock.release()"
   ]
  },
  {
   "cell_type": "markdown",
   "metadata": {},
   "source": [
    "分析锁的优点和缺点  \n",
    "优点：确保某段关键代码从头到尾只能由一个线程完整执行  \n",
    "缺点：阻止了多线程并发执行，效率下降；由于可以存在多个锁，不同的线程持有不同锁，并且试图获取对方的锁时，会造成死锁，导致多个线程既不能执行，也不能结束，只能靠系统强制终止。"
   ]
  },
  {
   "cell_type": "markdown",
   "metadata": {},
   "source": [
    "**2. 多核CPU**"
   ]
  },
  {
   "cell_type": "markdown",
   "metadata": {},
   "source": [
    "Windows的Task Manager,可以监控某个进程的CPU使用率，一个死循环线程会100%占用一个CPU。下面是一个python死循环："
   ]
  },
  {
   "cell_type": "code",
   "execution_count": 15,
   "metadata": {},
   "outputs": [],
   "source": [
    "import threading, multiprocessing\n",
    "\n",
    "def loop():\n",
    "    x = 0\n",
    "    while True:\n",
    "        x = x ^ 1\n",
    "\n",
    "for i in range(multiprocessing.cpu_count()):\n",
    "    t = threading.Thread(target=loop)\n",
    "    t.start()"
   ]
  },
  {
   "cell_type": "markdown",
   "metadata": {},
   "source": [
    "用C、C++或Java来改写相同的死循环，直接可以把全部核心跑满，4核就跑到400%，8核就跑到800%，为什么Python不行呢？  \n",
    "因为Python的线程虽然是真正的线程，但解释器执行代码时，有一个GIL锁：Global Interpreter Lock，任何Python线程执行前，必须先获得GIL锁，然后，每执行100条字节码，解释器就自动释放GIL锁，让别的线程有机会执行。这个GIL全局锁实际上把所有线程的执行代码都给上了锁，所以，多线程在Python中只能交替执行，即使100个线程跑在100核CPU上，也只能用到1个核。"
   ]
  },
  {
   "cell_type": "markdown",
   "metadata": {},
   "source": [
    "总结：\n",
    "- python中，可以使用多线程，但不能指望能有效利用多核。\n",
    "- 多线程编程，模型复杂，容易发生冲突，必须用锁加以隔离，同时，又要小心死锁的发生。"
   ]
  },
  {
   "cell_type": "markdown",
   "metadata": {},
   "source": [
    "## 10.3 ThreadLocal"
   ]
  },
  {
   "cell_type": "markdown",
   "metadata": {},
   "source": [
    "上节课中，多线程编程中需要特别小心变量改变，为防止变量改变，必须用锁加以隔离，但这种方式使效率降低。本节中介绍局部变量，只有线程本身可以看见，不会影响其他线程。"
   ]
  },
  {
   "cell_type": "code",
   "execution_count": null,
   "metadata": {},
   "outputs": [],
   "source": [
    "def process_student(name):\n",
    "    std = Student(name)\n",
    "    # std是局部变量，但是每个函数都要用它，因此必须传进去：\n",
    "    do_task_1(std)\n",
    "    do_task_2(std)\n",
    "\n",
    "def do_task_1(std):\n",
    "    do_subtask_1(std)\n",
    "    do_subtask_2(std)\n",
    "\n",
    "def do_task_2(std):\n",
    "    do_subtask_2(std)\n",
    "    do_subtask_2(std)"
   ]
  },
  {
   "cell_type": "markdown",
   "metadata": {},
   "source": [
    "我们发现每个函数都需要传参数`std`,用全局变量也不行，因为每个线程处理不同的`Student`对象，不能共享。"
   ]
  },
  {
   "cell_type": "markdown",
   "metadata": {},
   "source": [
    "改进：  \n",
    "用一个全局`dict`存放所有的`Student`对象，然后以`thread`自身作为`Key`获得线程对应的Student对象。"
   ]
  },
  {
   "cell_type": "code",
   "execution_count": null,
   "metadata": {},
   "outputs": [],
   "source": [
    "global_dict = {}\n",
    "\n",
    "def std_thread(name):\n",
    "    std = Student(name)\n",
    "    # 把std放到全局变量global_dict中：\n",
    "    global_dict[threading.current_thread()] = std\n",
    "    do_task_1()\n",
    "    do_task_2()\n",
    "\n",
    "def do_task_1():\n",
    "    # 不传入std，而是根据当前线程查找：\n",
    "    std = global_dict[threading.current_thread()]\n",
    "    ...\n",
    "\n",
    "def do_task_2():\n",
    "    # 任何函数都可以查找出当前线程的std变量：\n",
    "    std = global_dict[threading.current_thread()]"
   ]
  },
  {
   "cell_type": "markdown",
   "metadata": {},
   "source": [
    "缺点：`threading.current_thread`太长，有点复杂"
   ]
  },
  {
   "cell_type": "markdown",
   "metadata": {},
   "source": [
    "继续改进：  \n",
    "那就是本节介绍主题啦！ -> `ThreadLocal`: 自动查找`dict`,"
   ]
  },
  {
   "cell_type": "code",
   "execution_count": 1,
   "metadata": {},
   "outputs": [
    {
     "name": "stdout",
     "output_type": "stream",
     "text": [
      "Hello, Alice (in Thread-A)\n",
      "Hello, Bob (in Thread-B)\n"
     ]
    }
   ],
   "source": [
    "import threading\n",
    "    \n",
    "# 创建全局ThreadLocal对象:\n",
    "local_school = threading.local()\n",
    "\n",
    "def process_student():\n",
    "    # 获取当前线程关联的student:\n",
    "    std = local_school.student\n",
    "    print('Hello, %s (in %s)' % (std, threading.current_thread().name))\n",
    "\n",
    "def process_thread(name):\n",
    "    # 绑定ThreadLocal的student:\n",
    "    local_school.student = name\n",
    "    process_student()\n",
    "\n",
    "t1 = threading.Thread(target= process_thread, args=('Alice',), name='Thread-A')\n",
    "t2 = threading.Thread(target= process_thread, args=('Bob',), name='Thread-B')\n",
    "t1.start()\n",
    "t2.start()\n",
    "t1.join()\n",
    "t2.join()"
   ]
  },
  {
   "cell_type": "markdown",
   "metadata": {},
   "source": [
    "全局变量`local_school`就是一个`ThreadLocal`对象，每个`Thread`对它都可以读写student属性，但互不影响。你可以把local_school看成全局变量，但每个属性如local_school.student都是线程的局部变量，可以任意读写而互不干扰，也不用管理锁的问题，ThreadLocal内部会处理。"
   ]
  },
  {
   "cell_type": "markdown",
   "metadata": {},
   "source": [
    "常用应用：  \n",
    "- 每个线程绑定一个数据库连接\n",
    "- HTTP请求\n",
    "- 用户身份信息"
   ]
  },
  {
   "cell_type": "markdown",
   "metadata": {},
   "source": [
    "一个`ThreadLocal`变量虽然是全局变量，但每个线程都只能读写自己线程的独立副本，互不干扰。`ThreadLocal`解决了参数在一个线程中各个函数之间互相传递的问题"
   ]
  },
  {
   "cell_type": "markdown",
   "metadata": {},
   "source": [
    "## 10.4 进程 vs. 线程"
   ]
  },
  {
   "cell_type": "markdown",
   "metadata": {},
   "source": [
    "**Master-Worker模式：**   \n",
    "Master负责分配任务，Worker负责执行任务，因此，多任务环境下，通常是一个Master，多个Worker。  \n",
    "\n",
    "**多进程：**\n",
    "- 稳定性高，一个子进程崩溃，不会影响主进程和其他的子进程，Apache最早采用多进程模式。\n",
    "- 但创建进程代价大"
   ]
  },
  {
   "cell_type": "markdown",
   "metadata": {},
   "source": [
    "**多线程：**\n",
    "- 一个线程挂掉，全盘皆输，因为所有线程共享进程的内存\n",
    "- Windows下，多线程的效率比多进程要高，微软的IIS服务器即采用多线程模式，稳定性不如Apache"
   ]
  },
  {
   "cell_type": "markdown",
   "metadata": {},
   "source": [
    "综合考虑多进程和多线程的优缺点，IIS和Apache现在有**多进程+多线程**的混合模式"
   ]
  },
  {
   "cell_type": "markdown",
   "metadata": {},
   "source": [
    "### 1. 线程切换"
   ]
  },
  {
   "cell_type": "markdown",
   "metadata": {},
   "source": [
    "**单任务模型/批处理任务模型：** 依次完成单个任务  \n",
    "**多任务模型：**多个任务同时进行，需要在任务之间不停切换，但必须注意切换付出的代价。一旦任务数目达到限度，系统所有资源耗尽，效果急剧下降，所有任务都做不好。"
   ]
  },
  {
   "cell_type": "markdown",
   "metadata": {},
   "source": [
    "### 2. 计算密集型 vs. IO密集型"
   ]
  },
  {
   "cell_type": "markdown",
   "metadata": {},
   "source": [
    "任务分类：\n",
    "1. **计算密集型**：进行大量的计算，消耗CPU资源。要最高效地利用CPU，计算密集型任务同时进行的数量应当等于CPU的核心数。  \n",
    "2. **IO密集型**： 涉及到网络、磁盘IO的任务都是IO密集型任务，这类任务的特点是CPU消耗很少，任务的大部分时间都在等待IO操作完成（因为IO的速度远远低于CPU和内存的速度）。对于IO密集型任务，任务越多，CPU效率越高，但也有一个限度。常见的大部分任务都是IO密集型任务，比如Web应用。"
   ]
  },
  {
   "cell_type": "markdown",
   "metadata": {},
   "source": [
    "关于IO密集型任务语言的选择：  \n",
    "IO密集型任务的特点是IO上花的时间多，CPU上花的时间少，因此提升运行速度的语言（例如C语言）在IO密集型任务上是没用的。最适合的语言必须具有开发效率高（代码量少）的特点，因此脚本语言是首选。"
   ]
  },
  {
   "cell_type": "markdown",
   "metadata": {},
   "source": [
    "什么是脚本语言？  \n",
    "百度百科：https://baike.baidu.com/item/%E8%84%9A%E6%9C%AC%E8%AF%AD%E8%A8%80/1379708?fr=aladdin  \n",
    "- 为了缩短传统的编写-编译-链接-运行（edit-compile-link-run）过程而创建的计算机编程语言。\n",
    "- 一个脚本通常是解释执行而非编译，脚本语言具有简单、易学、易用的特性。  \n",
    "- 常见脚本语言：Python，Javascript, vbscript..."
   ]
  },
  {
   "cell_type": "markdown",
   "metadata": {},
   "source": [
    "### 3. 异步IO"
   ]
  },
  {
   "cell_type": "markdown",
   "metadata": {},
   "source": [
    "https://baike.baidu.com/item/%E5%BC%82%E6%AD%A5IO  \n",
    "异步IO的概念和同步IO相对。当一个异步过程调用发出后，调用者不能立刻得到结果。实际处理这个调用的部件在完成后，通过状态、通知和回调来通知调用者。在一个CPU密集型的应用中，有一些需要处理的数据可能放在磁盘上。预先知道这些数 据的位置，所以预先发起异步IO读请求。等到真正需要用到这些数据的时候，再等待异步IO完成。使用了异步IO，在发起IO请求到实际使用数据这段时间内，程序还可以继续做其他事情。"
   ]
  },
  {
   "cell_type": "markdown",
   "metadata": {},
   "source": [
    "异步IO需要解决的问题：\n",
    "- 检测数据到做出响应的时间差，容易遗漏前面数据。 -> 传输信息需要有起始位，给接收方响应、 接收和缓存的时间。\n",
    "- 传输结束时，需要有停止位表示传输信息的终止。"
   ]
  },
  {
   "cell_type": "markdown",
   "metadata": {},
   "source": [
    "现代操作系统对IO操作已经做了巨大的改进，最大的特点就是**支持异步IO**，可以用单进程单线程模型来执行多任务，这种模型称为**事件驱动模型**。  \n",
    "\n",
    "对应到python语言，单线程的异步编程模型称为**携程**。"
   ]
  },
  {
   "cell_type": "markdown",
   "metadata": {},
   "source": [
    "## 10.5 分布式进程"
   ]
  },
  {
   "cell_type": "markdown",
   "metadata": {},
   "source": [
    "在Thread和Process中，应当优选Process：\n",
    "- Process更稳定\n",
    "- Process可以分布到多台机器上，Thread最多只能分布到同一台机器的多个CPU上"
   ]
  },
  {
   "cell_type": "markdown",
   "metadata": {},
   "source": [
    "Python中, `multiprocessing`模块不但支持多进程，其中`managers`子模块支持把多进程分布到多台计算机上。"
   ]
  },
  {
   "cell_type": "markdown",
   "metadata": {},
   "source": [
    "举例：如果我们已经有一个通过Queue通信的多进程程序在同一台机器上运行，现在，由于处理任务的进程任务繁重，希望把发送任务的进程和处理任务的进程分布到两台机器上。怎么用分布式进程实现？"
   ]
  },
  {
   "cell_type": "markdown",
   "metadata": {},
   "source": [
    "原有的`Queue`（10.1中有讲到）可以继续使用，但是，通过`managers`模块把`Queue`通过网络暴露出去，就可以让其他机器的进程访问`Queue`了。\n"
   ]
  },
  {
   "cell_type": "markdown",
   "metadata": {},
   "source": [
    "1. 服务进程负责启动`Queue` -> `QueueManager()`\n",
    "2. 把`Queue`注册到网络上 -> `QueueManager.register()`\n",
    "3. 启动`Queue` -> `manager.start()`\n",
    "4. 往`Queue`里面写入任务 -> `task.put()/result.get()`"
   ]
  },
  {
   "cell_type": "markdown",
   "metadata": {},
   "source": [
    "```\n",
    "#task_master.py\n",
    "\n",
    "import random, time, queue\n",
    "from multiprocessing.managers import BaseManager  #BaseManger用于创建分布式管理器\n",
    "\n",
    "# 发送任务的队列:\n",
    "task_queue = queue.Queue()\n",
    "# 接收结果的队列:\n",
    "result_queue = queue.Queue()\n",
    "\n",
    "# 从BaseManager继承的QueueManager:\n",
    "class QueueManager(BaseManager):\n",
    "    pass\n",
    "\n",
    "# 把两个Queue都注册到网络上, callable参数关联了Queue对象:\n",
    "QueueManager.register('get_task_queue', callable=lambda: task_queue)\n",
    "QueueManager.register('get_result_queue', callable=lambda: result_queue)\n",
    "\n",
    "# 绑定端口5000, 设置验证码'abc':\n",
    "manager = QueueManager(address=('', 5000), authkey=b'abc') #参数'abc'是字节型\n",
    "\n",
    "# 启动Queue:\n",
    "manager.start()\n",
    "\n",
    "# 获得通过网络访问的Queue对象:\n",
    "task = manager.get_task_queue()  #必须通过这样获得的Queue接口进行操作\n",
    "result = manager.get_result_queue()\n",
    "\n",
    "# 放几个任务进去:\n",
    "for i in range(10):\n",
    "    n = random.randint(0, 10000)\n",
    "    print('Put task %d...' % n)\n",
    "    task.put(n)\n",
    "\n",
    "# 从result队列读取结果:\n",
    "print('Try get results...')\n",
    "for i in range(10):\n",
    "    r = result.get(timeout=10)\n",
    "    print('Result: %s' % r)\n",
    "\n",
    "# 关闭:\n",
    "manager.shutdown()\n",
    "print('master exit.')\n",
    "```"
   ]
  },
  {
   "cell_type": "markdown",
   "metadata": {},
   "source": [
    "http://www.manongjc.com/article/68040.html  \n",
    "`multiprocessing.Queue()`（10.1节中）和`queue.Queue()`(本节中)的区别：    \n",
    "- `multiprocessing.Queue()`:多进程并发的queue队列，用于解决多进程间的通信问题  \n",
    "- `queue.Queue()`:Python中的标准库，默认队列先进先出"
   ]
  },
  {
   "cell_type": "markdown",
   "metadata": {},
   "source": [
    "```\n",
    "#task_worker.py\n",
    "\n",
    "import time, sys, queue\n",
    "from multiprocessing.managers import BaseManager\n",
    "\n",
    "# 创建类似的QueueManager:\n",
    "class QueueManager(BaseManager):\n",
    "    pass\n",
    "\n",
    "# 由于这个QueueManager只从网络上获取Queue，所以注册时只提供名字:\n",
    "QueueManager.register('get_task_queue')\n",
    "QueueManager.register('get_result_queue')\n",
    "\n",
    "# 连接到服务器，也就是运行task_master.py的机器:\n",
    "server_addr = '127.0.0.1'  #任务进程要通过网络连接，此处指定服务进程的IP\n",
    "print('Connect to server %s...' % server_addr)\n",
    "\n",
    "# 端口和验证码注意保持与task_master.py设置的完全一致:\n",
    "m = QueueManager(address=(server_addr, 5000), authkey=b'abc')\n",
    "\n",
    "# 从网络连接:\n",
    "m.connect()\n",
    "\n",
    "# 获取Queue的对象:\n",
    "task = m.get_task_queue()\n",
    "result = m.get_result_queue()\n",
    "\n",
    "# 从task队列取任务,并把结果写入result队列:\n",
    "for i in range(10):\n",
    "    try:\n",
    "        n = task.get(timeout=1)\n",
    "        print('run task %d * %d...' % (n, n))\n",
    "        r = '%d * %d = %d' % (n, n, n*n)\n",
    "        time.sleep(1)\n",
    "        result.put(r)\n",
    "    except Queue.Empty:\n",
    "        print('task queue is empty.')\n",
    "# 处理结束:\n",
    "print('worker exit.')\n",
    "```"
   ]
  },
  {
   "cell_type": "markdown",
   "metadata": {},
   "source": [
    "运行上面两段代码注意事项：\n",
    "- 同一台电脑，需开两个cmd，一个运行`task_master.py`,一个运行`task_worker.py`\n",
    "- 先运行`task_master.py`,再运行`task_worker.py`\n",
    "- 上述代码为网站原代码，在Win10 64环境下会出现一些问题，解决方案如下"
   ]
  },
  {
   "cell_type": "markdown",
   "metadata": {},
   "source": [
    "在Win10 64上运行的一些问题和解决办法： \n",
    "https://blog.csdn.net/u012783669/article/details/80596768?utm_source=blogxgwz2  \n",
    "https://blog.csdn.net/xionghuixionghui/article/details/68491145  \n",
    "\n",
    "1. 运行`task_manager.py`，报错`[WinError 87] 参数错误。`  \n",
    "原因： windows10 64 不支持callable下调用匿名函数lambda\n",
    "解决方法：封装\n",
    "\n",
    "```python\n",
    "#封装\n",
    "def return_task_queue():\n",
    "    global task_queue\n",
    "    return task_queue\n",
    "\n",
    "def return_result_queue():\n",
    "    global result_queue\n",
    "    return result_queue\n",
    "\n",
    "def test():\n",
    "    QueueManager.register('get_task_queue',callable=return_task_queue)\n",
    "    QueueManager.register('get_result_queue',callable = return_result_queue)\n",
    "```\n",
    "\n",
    "2. `RuntimeError:The \"freeze_support()\" line can be omitted if the program is not going to be frozen to produce an executable.`   \n",
    "解决方法：\n",
    "- 开头加上`from multiprocessing import freeze_support`\n",
    "- 结尾加上错误提示信息`freeze_support()`  \n",
    "\n",
    "3. `OSError: [WinError 10049] 在其上下文中，该请求的地址无效。`  \n",
    "原因：端口冲突  \n",
    "解决方法：添加ip地址，将端口改为6000 -> `manager = QueueManager(address=('127.0.0.1', 6000), authkey=b'abc')`  "
   ]
  },
  {
   "cell_type": "markdown",
   "metadata": {},
   "source": [
    "改完后的完整代码："
   ]
  },
  {
   "cell_type": "code",
   "execution_count": null,
   "metadata": {},
   "outputs": [],
   "source": [
    "# test_master.py\n",
    "\n",
    "import random, time, queue\n",
    "from multiprocessing.managers import BaseManager  #BaseManger用于创建分布式管理器\n",
    "from multiprocessing import freeze_support  #server启动报错，提示需要引用此包\n",
    "\n",
    "# 发送任务的队列:\n",
    "task_queue = queue.Queue()\n",
    "# 接收结果的队列:\n",
    "result_queue = queue.Queue()\n",
    "\n",
    "# 从BaseManager继承的QueueManager:\n",
    "class QueueManager(BaseManager):\n",
    "    pass\n",
    "'''\n",
    "# 由于Win10 64不支持callable下调用匿名函数lambda，因此需要封装一下\n",
    "# 把两个Queue都注册到网络上, callable参数关联了Queue对象:\n",
    "QueueManager.register('get_task_queue', callable=lambda: task_queue)\n",
    "QueueManager.register('get_result_queue', callable=lambda: result_queue)\n",
    "'''\n",
    "# 封装\n",
    "def return_task_queue():\n",
    "    global task_queue\n",
    "    return task_queue\n",
    "\n",
    "def return_result_queue():\n",
    "    global result_queue\n",
    "    return result_queue\n",
    "\n",
    "def test():\n",
    "    QueueManager.register('get_task_queue',callable=return_task_queue)\n",
    "    QueueManager.register('get_result_queue',callable = return_result_queue)\n",
    "\n",
    "    # 绑定端口5000, 设置验证码'abc':\n",
    "    # ip地址为空会引起\"OSError: [WinError 10049] 在其上下文中，该请求的地址无效。\"的错误\n",
    "    #manager = QueueManager(address=('', 5000), authkey=b'abc') #参数'abc'是字节型\n",
    "    manager = QueueManager(address=('127.0.0.1', 6000), authkey=b'abc')  #添加ip地址，并将端口改为6000\n",
    "\n",
    "    # 启动Queue:\n",
    "    manager.start()\n",
    "\n",
    "    # 获得通过网络访问的Queue对象:\n",
    "    task = manager.get_task_queue()  #必须通过这样获得的Queue接口进行操作\n",
    "    result = manager.get_result_queue()\n",
    "\n",
    "    # 放几个任务进去:\n",
    "    for i in range(10):\n",
    "        n = random.randint(0, 10000)\n",
    "        print('Put task %d...' % n)\n",
    "        task.put(n)\n",
    "\n",
    "    # 从result队列读取结果:\n",
    "    print('Try get results...')\n",
    "    for i in range(10):\n",
    "        r = result.get(timeout=10)\n",
    "        print('Result: %s' % r)\n",
    "\n",
    "    # 关闭:\n",
    "    manager.shutdown()\n",
    "    print('master exit.')\n",
    "\n",
    "if __name__ == '__main__':\n",
    "    freeze_support()\n",
    "    test()"
   ]
  },
  {
   "cell_type": "code",
   "execution_count": null,
   "metadata": {},
   "outputs": [],
   "source": [
    "# task_worker.py\n",
    "\n",
    "import time, sys, queue\n",
    "from multiprocessing.managers import BaseManager\n",
    "\n",
    "# 创建类似的QueueManager:\n",
    "class QueueManager(BaseManager):\n",
    "    pass\n",
    "\n",
    "# 由于这个QueueManager只从网络上获取Queue，所以注册时只提供名字:\n",
    "QueueManager.register('get_task_queue')\n",
    "QueueManager.register('get_result_queue')\n",
    "\n",
    "# 连接到服务器，也就是运行task_master.py的机器:\n",
    "server_addr = '127.0.0.1'  #任务进程要通过网络连接，此处指定服务进程的IP\n",
    "print('Connect to server %s...' % server_addr)\n",
    "\n",
    "# 端口和验证码注意保持与task_master.py设置的完全一致:\n",
    "#m = QueueManager(address=(server_addr, 5000), authkey=b'abc')\n",
    "m = QueueManager(address=(server_addr, 6000), authkey=b'abc')  #与task_master的端口一样，改为6000\n",
    "# 从网络连接:\n",
    "m.connect()\n",
    "\n",
    "# 获取Queue的对象:\n",
    "task = m.get_task_queue()\n",
    "result = m.get_result_queue()\n",
    "\n",
    "# 从task队列取任务,并把结果写入result队列:\n",
    "for i in range(10):\n",
    "    try:\n",
    "        n = task.get(timeout=1)\n",
    "        print('run task %d * %d...' % (n, n))\n",
    "        r = '%d * %d = %d' % (n, n, n*n)\n",
    "        time.sleep(1)\n",
    "        result.put(r)\n",
    "    except Queue.Empty:\n",
    "        print('task queue is empty.')\n",
    "# 处理结束:\n",
    "print('worker exit.')"
   ]
  },
  {
   "cell_type": "markdown",
   "metadata": {},
   "source": [
    "这个简单的Master/Worker加以改进能做什么？  \n",
    "当启动多个worker，即可实现分布式进程，比如：邮件队列的异步发送"
   ]
  },
  {
   "cell_type": "markdown",
   "metadata": {},
   "source": [
    "`task_worker.py`中没有创建Queue(`task_queue = queue.Queue()`和`result_queue = queue.Queue()`)的代码,那么Queue对象存储在哪儿呢？  \n",
    "存在`task_master.py`的进程中，通过`QueueManager`实现网络访问，注意给每个`Queue`的网络接口起名字，比如`get_task_queue`。"
   ]
  },
  {
   "attachments": {
    "image.png": {
     "image/png": "[encoded data removed]"
    }
   },
   "cell_type": "markdown",
   "metadata": {},
   "source": [
    "![image.png](attachment:image.png)"
   ]
  },
  {
   "cell_type": "markdown",
   "metadata": {},
   "source": [
    "注意：Queue的作用是用来传递任务和接收结果，每个任务的描述数据量要尽量小。比如发送一个处理日志文件的任务，就不要发送几百兆的日志文件本身，而是发送日志文件存放的完整路径，由Worker进程再去共享的磁盘上读取文件。"
   ]
  },
  {
   "cell_type": "code",
   "execution_count": null,
   "metadata": {},
   "outputs": [],
   "source": []
  }
 ],
 "metadata": {
  "kernelspec": {
   "display_name": "Python 3",
   "language": "python",
   "name": "python3"
  },
  "language_info": {
   "codemirror_mode": {
    "name": "ipython",
    "version": 3
   },
   "file_extension": ".py",
   "mimetype": "text/x-python",
   "name": "python",
   "nbconvert_exporter": "python",
   "pygments_lexer": "ipython3",
   "version": "3.6.7"
  }
 },
 "nbformat": 4,
 "nbformat_minor": 2
}
