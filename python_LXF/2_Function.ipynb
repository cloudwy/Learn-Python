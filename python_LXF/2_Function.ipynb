{
 "cells": [
  {
   "cell_type": "markdown",
   "metadata": {
    "colab_type": "text",
    "id": "mVro3AEYMf9o"
   },
   "source": [
    "# 函数"
   ]
  },
  {
   "cell_type": "markdown",
   "metadata": {
    "colab_type": "text",
    "id": "0Sfne6TWMwau"
   },
   "source": [
    "函数的名称和参数，可以从Python的官网上查看\n",
    "http://docs.python.org/3/library/functions.html"
   ]
  },
  {
   "cell_type": "markdown",
   "metadata": {
    "colab_type": "text",
    "id": "ypb2MLd2O97c"
   },
   "source": [
    "## 1. 调用函数"
   ]
  },
  {
   "cell_type": "markdown",
   "metadata": {
    "colab_type": "text",
    "id": "O_2D4wBcN5sm"
   },
   "source": [
    "TypeError:传入的参数数量不对 | 数量对参数类型不接受"
   ]
  },
  {
   "cell_type": "code",
   "execution_count": 0,
   "metadata": {
    "colab": {
     "base_uri": "https://localhost:8080/",
     "height": 101
    },
    "colab_type": "code",
    "executionInfo": {
     "elapsed": 988,
     "status": "ok",
     "timestamp": 1578370667346,
     "user": {
      "displayName": "Yun Wu",
      "photoUrl": "",
      "userId": "07058976890337189786"
     },
     "user_tz": -60
    },
    "id": "bL9RlxpGOAtX",
    "outputId": "fe13d46f-70a7-4bfc-e377-da3a3dc4213e"
   },
   "outputs": [
    {
     "name": "stdout",
     "output_type": "stream",
     "text": [
      "123\n",
      "12.34\n",
      "1.23\n",
      "True\n",
      "False\n"
     ]
    }
   ],
   "source": [
    "#数据类型转换\n",
    "print(int('123'))\n",
    "print(float('12.34'))\n",
    "print(str(1.23))\n",
    "print(bool(1))\n",
    "print(bool(''))"
   ]
  },
  {
   "cell_type": "code",
   "execution_count": 0,
   "metadata": {
    "colab": {
     "base_uri": "https://localhost:8080/",
     "height": 34
    },
    "colab_type": "code",
    "executionInfo": {
     "elapsed": 3304,
     "status": "ok",
     "timestamp": 1578370722489,
     "user": {
      "displayName": "Yun Wu",
      "photoUrl": "",
      "userId": "07058976890337189786"
     },
     "user_tz": -60
    },
    "id": "4D8lZsslOW4l",
    "outputId": "83b7789f-e08d-42ad-ae5e-2b4c76e648e2"
   },
   "outputs": [
    {
     "data": {
      "text/plain": [
       "1"
      ]
     },
     "execution_count": 3,
     "metadata": {
      "tags": []
     },
     "output_type": "execute_result"
    }
   ],
   "source": [
    "#函数可以赋给一个变量\n",
    "a=abs\n",
    "a(-1)"
   ]
  },
  {
   "cell_type": "code",
   "execution_count": 0,
   "metadata": {
    "colab": {
     "base_uri": "https://localhost:8080/",
     "height": 50
    },
    "colab_type": "code",
    "executionInfo": {
     "elapsed": 1783,
     "status": "ok",
     "timestamp": 1578370856348,
     "user": {
      "displayName": "Yun Wu",
      "photoUrl": "",
      "userId": "07058976890337189786"
     },
     "user_tz": -60
    },
    "id": "JFchrmhPOrWt",
    "outputId": "4b23e653-6d3c-494f-8e8e-468172ffbf0e"
   },
   "outputs": [
    {
     "name": "stdout",
     "output_type": "stream",
     "text": [
      "0xff\n",
      "0x3e8\n"
     ]
    }
   ],
   "source": [
    "#练习，将整数转成十六进制字符\n",
    "n1=255\n",
    "n2=1000\n",
    "print(hex(n1))\n",
    "print(hex(n2))"
   ]
  },
  {
   "cell_type": "markdown",
   "metadata": {
    "colab_type": "text",
    "id": "FSXe_z75PBtx"
   },
   "source": [
    "## 2. 定义函数"
   ]
  },
  {
   "cell_type": "code",
   "execution_count": 2,
   "metadata": {
    "colab": {
     "base_uri": "https://localhost:8080/",
     "height": 50
    },
    "colab_type": "code",
    "executionInfo": {
     "elapsed": 9594,
     "status": "ok",
     "timestamp": 1578370988489,
     "user": {
      "displayName": "Yun Wu",
      "photoUrl": "",
      "userId": "07058976890337189786"
     },
     "user_tz": -60
    },
    "id": "sHIUIE2RPFZe",
    "outputId": "dc7f424f-8f03-4c5a-fbf2-68ac8ddbde62"
   },
   "outputs": [
    {
     "name": "stdout",
     "output_type": "stream",
     "text": [
      "Please enter a number:-3.14\n"
     ]
    },
    {
     "data": {
      "text/plain": [
       "3.14"
      ]
     },
     "execution_count": 2,
     "metadata": {},
     "output_type": "execute_result"
    }
   ],
   "source": [
    "#自定义求绝对值的函数\n",
    "def my_abs(x):\n",
    "  if x>=0:\n",
    "    return x\n",
    "  else:\n",
    "    return -x\n",
    "a = float(input('Please enter a number:'))\n",
    "my_abs(a)"
   ]
  },
  {
   "cell_type": "markdown",
   "metadata": {
    "colab_type": "text",
    "id": "eMbOmuOfP9bt"
   },
   "source": [
    "当传入了不恰当的参数时，内置函数abs会检查出参数错误，而我们定义的my_abs没有参数检查，会导致if语句出错，出错信息和abs不一样。"
   ]
  },
  {
   "cell_type": "code",
   "execution_count": 0,
   "metadata": {
    "colab": {},
    "colab_type": "code",
    "id": "WVrHGYp6PvuV"
   },
   "outputs": [],
   "source": [
    "#空函数\n",
    "def nop():\n",
    "  pass #用作占位符"
   ]
  },
  {
   "cell_type": "code",
   "execution_count": 0,
   "metadata": {
    "colab": {},
    "colab_type": "code",
    "id": "d2qTcRa0QDT6"
   },
   "outputs": [],
   "source": [
    "#修改程序，对参数类型进行检查\n",
    "def my_abs():\n",
    "  if not isinstance(x,(int,float)):  #若x不是int或float\n",
    "    raise TypeError('bad operand type') #抛出异常\n",
    "  if x >= 0:\n",
    "    return x\n",
    "  else:\n",
    "    return -x"
   ]
  },
  {
   "cell_type": "code",
   "execution_count": 3,
   "metadata": {
    "colab": {
     "base_uri": "https://localhost:8080/",
     "height": 50
    },
    "colab_type": "code",
    "executionInfo": {
     "elapsed": 914,
     "status": "ok",
     "timestamp": 1578397663359,
     "user": {
      "displayName": "Yun Wu",
      "photoUrl": "",
      "userId": "07058976890337189786"
     },
     "user_tz": -60
    },
    "id": "i1XUZVTFfjFh",
    "outputId": "a9deb179-696c-40ab-e744-58c821ad25c2"
   },
   "outputs": [
    {
     "name": "stdout",
     "output_type": "stream",
     "text": [
      "151.96152422706632 70.0\n",
      "(151.96152422706632, 70.0)\n"
     ]
    }
   ],
   "source": [
    "#游戏应用中，给出坐标、位移和角度，计算出新坐标\n",
    "import math\n",
    "def move(x,y,step,angle):\n",
    "  nx = x+step*math.cos(angle)\n",
    "  ny = y-step*math.sin(angle)\n",
    "  return nx,ny\n",
    "\n",
    "x,y = move(100,100,60,math.pi/6)\n",
    "print(x,y) \n",
    "r = move(100,100,60,math.pi/6)\n",
    "print(r) #返回一个tuple值"
   ]
  },
  {
   "cell_type": "markdown",
   "metadata": {},
   "source": [
    "总结;  \n",
    "- 定义函数时，需要确定函数名和参数个数；\n",
    "- 如果有必要，可以先对参数的数据类型做检查；\n",
    "- 函数体内部可以用return随时返回函数结果；\n",
    "- 函数执行完毕也没有return语句时，自动return None。\n",
    "- 函数可以同时返回多个值，但其实就是一个tuple。"
   ]
  },
  {
   "cell_type": "code",
   "execution_count": 0,
   "metadata": {
    "colab": {
     "base_uri": "https://localhost:8080/",
     "height": 84
    },
    "colab_type": "code",
    "executionInfo": {
     "elapsed": 11854,
     "status": "ok",
     "timestamp": 1578401813611,
     "user": {
      "displayName": "Yun Wu",
      "photoUrl": "",
      "userId": "07058976890337189786"
     },
     "user_tz": -60
    },
    "id": "Owp7BpeT1ltv",
    "outputId": "824f391e-8340-4cfe-b4c8-3607b52f0b0c"
   },
   "outputs": [
    {
     "name": "stdout",
     "output_type": "stream",
     "text": [
      "please enter a:1\n",
      "please enter b:-3\n",
      "please enter c:2\n"
     ]
    },
    {
     "data": {
      "text/plain": [
       "(2.0, 1.0)"
      ]
     },
     "execution_count": 11,
     "metadata": {
      "tags": []
     },
     "output_type": "execute_result"
    }
   ],
   "source": [
    "#练习，定义一个函数quadratic(a,b,c)，返回一元二次方程的解\n",
    "import math\n",
    "def quadratic(a,b,c):\n",
    "  x1 = (-b+math.sqrt(b*b-4*a*c))/(2*a)\n",
    "  x2 = (-b-math.sqrt(b*b-4*a*c))/(2*a)\n",
    "  return x1,x2\n",
    "a = float(input('please enter a:'))\n",
    "b = float(input('please enter b:'))\n",
    "c = float(input('please enter c:'))\n",
    "quadratic(a,b,c)"
   ]
  },
  {
   "cell_type": "markdown",
   "metadata": {
    "colab_type": "text",
    "id": "f-Ae4CABFMfN"
   },
   "source": [
    "## 3. 函数参数"
   ]
  },
  {
   "cell_type": "markdown",
   "metadata": {},
   "source": [
    "### 1.位置参数/必选参数"
   ]
  },
  {
   "cell_type": "code",
   "execution_count": 0,
   "metadata": {
    "colab": {
     "base_uri": "https://localhost:8080/",
     "height": 67
    },
    "colab_type": "code",
    "executionInfo": {
     "elapsed": 7867,
     "status": "ok",
     "timestamp": 1578402132848,
     "user": {
      "displayName": "Yun Wu",
      "photoUrl": "",
      "userId": "07058976890337189786"
     },
     "user_tz": -60
    },
    "id": "DU24158pFOxk",
    "outputId": "c0e10daa-cbab-43c9-d014-f1e9592b10fe"
   },
   "outputs": [
    {
     "name": "stdout",
     "output_type": "stream",
     "text": [
      "x=2\n",
      "n=3\n"
     ]
    },
    {
     "data": {
      "text/plain": [
       "8"
      ]
     },
     "execution_count": 13,
     "metadata": {
      "tags": []
     },
     "output_type": "execute_result"
    }
   ],
   "source": [
    "#计算x的n次方,x和n是位置参数，传入时按照位置依次传入\n",
    "def power(x,n):\n",
    "  s=1\n",
    "  while n>0:\n",
    "    n=n-1\n",
    "    s=s*x\n",
    "  return s\n",
    "x=int(input('x='))\n",
    "n=int(input('n='))\n",
    "power(x,n)"
   ]
  },
  {
   "cell_type": "markdown",
   "metadata": {},
   "source": [
    "### 2.默认参数"
   ]
  },
  {
   "cell_type": "code",
   "execution_count": 0,
   "metadata": {
    "colab": {
     "base_uri": "https://localhost:8080/",
     "height": 67
    },
    "colab_type": "code",
    "executionInfo": {
     "elapsed": 7157,
     "status": "ok",
     "timestamp": 1578402563508,
     "user": {
      "displayName": "Yun Wu",
      "photoUrl": "",
      "userId": "07058976890337189786"
     },
     "user_tz": -60
    },
    "id": "WIoV1WFlGoXu",
    "outputId": "2a6eef31-197b-4e48-c92c-71c0ccd6415b"
   },
   "outputs": [
    {
     "name": "stdout",
     "output_type": "stream",
     "text": [
      "x=2\n",
      "4\n",
      "8\n"
     ]
    }
   ],
   "source": [
    "\"\"\"\n",
    "默认参数，一般将参数值变化小的设置为默认参数\n",
    "由于经常计算平方，因此将n的默认值设定为2\n",
    "如果n>2，n必须传入\n",
    "\"\"\"\n",
    "def power(x,n=2):\n",
    "  s=1\n",
    "  while n>0:\n",
    "    n=n-1\n",
    "    s=s*x\n",
    "  return s\n",
    "x=int(input('x='))\n",
    "print(power(x)) #默认n=2\n",
    "print(power(x,3))"
   ]
  },
  {
   "cell_type": "markdown",
   "metadata": {
    "colab_type": "text",
    "id": "f9I58lgcIGab"
   },
   "source": [
    "注意：  \n",
    "- 必选参数在前，默认参数在后，例如power(x,n=2)  \n",
    "- 使用默认参数能降低调用函数的难度"
   ]
  },
  {
   "cell_type": "code",
   "execution_count": 21,
   "metadata": {
    "colab": {
     "base_uri": "https://localhost:8080/",
     "height": 84
    },
    "colab_type": "code",
    "executionInfo": {
     "elapsed": 1082,
     "status": "ok",
     "timestamp": 1578402927316,
     "user": {
      "displayName": "Yun Wu",
      "photoUrl": "",
      "userId": "07058976890337189786"
     },
     "user_tz": -60
    },
    "id": "QaOCAOVZIV19",
    "outputId": "876d177a-8835-4d5e-ada4-81cee4948ac2"
   },
   "outputs": [
    {
     "name": "stdout",
     "output_type": "stream",
     "text": [
      "name: Sarah\n",
      "gender: F\n",
      "age: 6\n",
      "city: Beijing\n"
     ]
    }
   ],
   "source": [
    "def enroll(name,gender,age=6,city='Beijing'):\n",
    "  print('name:',name)\n",
    "  print('gender:',gender)\n",
    "  print('age:',age)\n",
    "  print('city:',city)\n",
    "enroll('Sarah','F')"
   ]
  },
  {
   "cell_type": "code",
   "execution_count": 22,
   "metadata": {
    "colab": {
     "base_uri": "https://localhost:8080/",
     "height": 84
    },
    "colab_type": "code",
    "executionInfo": {
     "elapsed": 789,
     "status": "ok",
     "timestamp": 1578402929745,
     "user": {
      "displayName": "Yun Wu",
      "photoUrl": "",
      "userId": "07058976890337189786"
     },
     "user_tz": -60
    },
    "id": "zFryJUqQJHaE",
    "outputId": "0acd5acd-4025-457e-bf4e-35f29238a30d"
   },
   "outputs": [
    {
     "name": "stdout",
     "output_type": "stream",
     "text": [
      "name: Bob\n",
      "gender: M\n",
      "age: 7\n",
      "city: Beijing\n"
     ]
    }
   ],
   "source": [
    "enroll('Bob','M',7)"
   ]
  },
  {
   "cell_type": "code",
   "execution_count": 23,
   "metadata": {
    "colab": {
     "base_uri": "https://localhost:8080/",
     "height": 84
    },
    "colab_type": "code",
    "executionInfo": {
     "elapsed": 564,
     "status": "ok",
     "timestamp": 1578402931053,
     "user": {
      "displayName": "Yun Wu",
      "photoUrl": "",
      "userId": "07058976890337189786"
     },
     "user_tz": -60
    },
    "id": "ByxwLqwWJNok",
    "outputId": "e8571f59-96e4-451c-e559-768409ff8bc0"
   },
   "outputs": [
    {
     "name": "stdout",
     "output_type": "stream",
     "text": [
      "name: Adam\n",
      "gender: M\n",
      "age: 6\n",
      "city: Tianjin\n"
     ]
    }
   ],
   "source": [
    "enroll('Adam','M',city='Tianjin')"
   ]
  },
  {
   "cell_type": "markdown",
   "metadata": {
    "colab_type": "text",
    "id": "6c_JTxmYJwlU"
   },
   "source": [
    "重要：默认参数必须指向不变对象"
   ]
  },
  {
   "cell_type": "code",
   "execution_count": 24,
   "metadata": {
    "colab": {
     "base_uri": "https://localhost:8080/",
     "height": 50
    },
    "colab_type": "code",
    "executionInfo": {
     "elapsed": 958,
     "status": "ok",
     "timestamp": 1578403167826,
     "user": {
      "displayName": "Yun Wu",
      "photoUrl": "",
      "userId": "07058976890337189786"
     },
     "user_tz": -60
    },
    "id": "wdy0hOsYJ2te",
    "outputId": "11e7ebfb-c50c-4b1e-b33c-fc5f7e7daa84"
   },
   "outputs": [
    {
     "name": "stdout",
     "output_type": "stream",
     "text": [
      "['END']\n",
      "['END', 'END']\n"
     ]
    }
   ],
   "source": [
    "#举例\n",
    "def add_end(L=[]):\n",
    "  L.append('END')\n",
    "  return L\n",
    "print(add_end())\n",
    "print(add_end()) #再次调用时结果不是['END'],记住了第一次调用的结果"
   ]
  },
  {
   "cell_type": "code",
   "execution_count": 25,
   "metadata": {
    "colab": {
     "base_uri": "https://localhost:8080/",
     "height": 50
    },
    "colab_type": "code",
    "executionInfo": {
     "elapsed": 1848,
     "status": "ok",
     "timestamp": 1578403329135,
     "user": {
      "displayName": "Yun Wu",
      "photoUrl": "",
      "userId": "07058976890337189786"
     },
     "user_tz": -60
    },
    "id": "1WgS4p6DKfdE",
    "outputId": "6d0e50f9-fb3f-4b58-dcdc-095cf996c218"
   },
   "outputs": [
    {
     "name": "stdout",
     "output_type": "stream",
     "text": [
      "['END']\n",
      "['END']\n"
     ]
    }
   ],
   "source": [
    "#修改后,None为不变对象\n",
    "def add_end(L=None):\n",
    "  if L is None:\n",
    "    L=[]\n",
    "  L.append('END')\n",
    "  return L\n",
    "print(add_end())\n",
    "print(add_end())"
   ]
  },
  {
   "cell_type": "code",
   "execution_count": 26,
   "metadata": {
    "colab": {
     "base_uri": "https://localhost:8080/",
     "height": 34
    },
    "colab_type": "code",
    "executionInfo": {
     "elapsed": 1326,
     "status": "ok",
     "timestamp": 1578403883288,
     "user": {
      "displayName": "Yun Wu",
      "photoUrl": "",
      "userId": "07058976890337189786"
     },
     "user_tz": -60
    },
    "id": "38RH6ObKLGZy",
    "outputId": "cb4f1682-f929-44cd-f7ea-4b5ab936d355"
   },
   "outputs": [
    {
     "data": {
      "text/plain": [
       "14"
      ]
     },
     "execution_count": 26,
     "metadata": {
      "tags": []
     },
     "output_type": "execute_result"
    }
   ],
   "source": [
    "def calc(numbers):\n",
    "  sum=0\n",
    "  for n in numbers:\n",
    "    sum = sum + n*n\n",
    "  return sum\n",
    "calc([1,2,3])"
   ]
  },
  {
   "cell_type": "markdown",
   "metadata": {
    "colab_type": "text",
    "id": "lg4_kmxdPkf_"
   },
   "source": [
    "### 3.可变参数"
   ]
  },
  {
   "cell_type": "code",
   "execution_count": 28,
   "metadata": {
    "colab": {
     "base_uri": "https://localhost:8080/",
     "height": 34
    },
    "colab_type": "code",
    "executionInfo": {
     "elapsed": 1291,
     "status": "ok",
     "timestamp": 1578403984589,
     "user": {
      "displayName": "Yun Wu",
      "photoUrl": "",
      "userId": "07058976890337189786"
     },
     "user_tz": -60
    },
    "id": "NW7Mtyo1NEBT",
    "outputId": "186cf5a9-f8c6-4680-a180-45fd216b739a"
   },
   "outputs": [
    {
     "data": {
      "text/plain": [
       "5"
      ]
     },
     "execution_count": 28,
     "metadata": {
      "tags": []
     },
     "output_type": "execute_result"
    }
   ],
   "source": [
    "#参数改为可变参数，*numbers为可变参数，通常我们用*args表示\n",
    "def calc(*numbers):\n",
    "  sum = 0\n",
    "  for n in numbers:\n",
    "    sum = sum + n*n\n",
    "  return sum\n",
    "calc(1,2) #numbers = (1,2)是一个tuple"
   ]
  },
  {
   "cell_type": "code",
   "execution_count": 29,
   "metadata": {
    "colab": {
     "base_uri": "https://localhost:8080/",
     "height": 34
    },
    "colab_type": "code",
    "executionInfo": {
     "elapsed": 851,
     "status": "ok",
     "timestamp": 1578404356645,
     "user": {
      "displayName": "Yun Wu",
      "photoUrl": "",
      "userId": "07058976890337189786"
     },
     "user_tz": -60
    },
    "id": "Oo_xEf79OlnL",
    "outputId": "508ddedf-beb3-47e9-b162-bb59db946624"
   },
   "outputs": [
    {
     "data": {
      "text/plain": [
       "14"
      ]
     },
     "execution_count": 29,
     "metadata": {
      "tags": []
     },
     "output_type": "execute_result"
    }
   ],
   "source": [
    "#如果已经为list或tuple\n",
    "nums=[1,2,3]\n",
    "calc(nums[0],nums[1],nums[2])"
   ]
  },
  {
   "cell_type": "code",
   "execution_count": 30,
   "metadata": {
    "colab": {
     "base_uri": "https://localhost:8080/",
     "height": 34
    },
    "colab_type": "code",
    "executionInfo": {
     "elapsed": 1415,
     "status": "ok",
     "timestamp": 1578404538151,
     "user": {
      "displayName": "Yun Wu",
      "photoUrl": "",
      "userId": "07058976890337189786"
     },
     "user_tz": -60
    },
    "id": "ibH7V3IYPaLS",
    "outputId": "4292fa6e-eeba-48ca-9838-3a470d3a6a9b"
   },
   "outputs": [
    {
     "data": {
      "text/plain": [
       "14"
      ]
     },
     "execution_count": 30,
     "metadata": {
      "tags": []
     },
     "output_type": "execute_result"
    }
   ],
   "source": [
    "nums = [1,2,3] # 可以先组装成为一个list\n",
    "calc(*nums) # 把这个list的所有元素作为可变参数传进去"
   ]
  },
  {
   "cell_type": "markdown",
   "metadata": {},
   "source": [
    "**注意：**  \n",
    "- 在函数内部，参数numbers接收到的是一个tuple\n",
    "- 可变参数允许传入0个参数\n",
    "- 通常用*args表示可变参数"
   ]
  },
  {
   "cell_type": "markdown",
   "metadata": {
    "colab_type": "text",
    "id": "jQuWckIcPpGN"
   },
   "source": [
    "### 4.关键字参数  \n",
    "在以下例子中，name和age是必须填的，如果愿意提供其余信息，也可以接收"
   ]
  },
  {
   "cell_type": "code",
   "execution_count": 34,
   "metadata": {
    "colab": {
     "base_uri": "https://localhost:8080/",
     "height": 34
    },
    "colab_type": "code",
    "executionInfo": {
     "elapsed": 1140,
     "status": "ok",
     "timestamp": 1578405176513,
     "user": {
      "displayName": "Yun Wu",
      "photoUrl": "",
      "userId": "07058976890337189786"
     },
     "user_tz": -60
    },
    "id": "KU_S6oxWPzed",
    "outputId": "f6c53dbf-054d-4040-a54f-7d73b898f9d5"
   },
   "outputs": [
    {
     "name": "stdout",
     "output_type": "stream",
     "text": [
      "name: Michael age: 30 other: {}\n"
     ]
    }
   ],
   "source": [
    "def person(name,age,**kw):\n",
    "  print('name:',name,'age:',age,'other:',kw)\n",
    "person('Michael',30)"
   ]
  },
  {
   "cell_type": "code",
   "execution_count": 32,
   "metadata": {
    "colab": {
     "base_uri": "https://localhost:8080/",
     "height": 34
    },
    "colab_type": "code",
    "executionInfo": {
     "elapsed": 1229,
     "status": "ok",
     "timestamp": 1578404793165,
     "user": {
      "displayName": "Yun Wu",
      "photoUrl": "",
      "userId": "07058976890337189786"
     },
     "user_tz": -60
    },
    "id": "Lc8KZBEYQYVK",
    "outputId": "75de9e6d-9da9-4317-8039-9d9cc4b6d572"
   },
   "outputs": [
    {
     "name": "stdout",
     "output_type": "stream",
     "text": [
      "name: Bob age: 35 other: {'city': 'Beijing'}\n"
     ]
    }
   ],
   "source": [
    "person('Bob',35,city='Beijing')"
   ]
  },
  {
   "cell_type": "code",
   "execution_count": 36,
   "metadata": {
    "colab": {
     "base_uri": "https://localhost:8080/",
     "height": 34
    },
    "colab_type": "code",
    "executionInfo": {
     "elapsed": 2120,
     "status": "ok",
     "timestamp": 1578405194233,
     "user": {
      "displayName": "Yun Wu",
      "photoUrl": "",
      "userId": "07058976890337189786"
     },
     "user_tz": -60
    },
    "id": "XtQ1J09xRlb7",
    "outputId": "37dbea5a-2b9e-4389-f450-78f67dcfe79a"
   },
   "outputs": [
    {
     "name": "stdout",
     "output_type": "stream",
     "text": [
      "name: Jack age: 24 other: {'city': 'Beijing', 'job': 'Engineer'}\n"
     ]
    }
   ],
   "source": [
    "extra = {'city':'Beijing','job':'Engineer'} # 可以先组装成为一个dict\n",
    "person('Jack',24,**extra) #把这个dict转换为关键字参数传进去"
   ]
  },
  {
   "cell_type": "code",
   "execution_count": 6,
   "metadata": {
    "colab": {
     "base_uri": "https://localhost:8080/",
     "height": 34
    },
    "colab_type": "code",
    "executionInfo": {
     "elapsed": 939,
     "status": "ok",
     "timestamp": 1578405485251,
     "user": {
      "displayName": "Yun Wu",
      "photoUrl": "",
      "userId": "07058976890337189786"
     },
     "user_tz": -60
    },
    "id": "vgmrC3R2SGrD",
    "outputId": "8851da1a-4413-4d91-fda8-4da094766952"
   },
   "outputs": [
    {
     "name": "stdout",
     "output_type": "stream",
     "text": [
      "name: Jack age: 24 other: {'city': 'Beijing', 'addr': 'Chaoyang', 'zipcode': 123456}\n"
     ]
    }
   ],
   "source": [
    "#函数的调用者可以传入任意不受限制的关键字参数。\n",
    "#至于到底传入了哪些，就需要在函数内部通过kw检查。\n",
    "def person(name,age,**kw):\n",
    "  if 'city' in kw:\n",
    "    pass\n",
    "  if 'job' in kw:\n",
    "    pass\n",
    "  print('name:',name,'age:',age,'other:',kw)\n",
    "person('Jack',24,city='Beijing',addr='Chaoyang',zipcode=123456)"
   ]
  },
  {
   "cell_type": "markdown",
   "metadata": {},
   "source": [
    "**注意：**   \n",
    "- 在函数内部，参数kw接收到的是一个dict\n",
    "- 关键字参数允许传入0个参数\n",
    "- 通常用\\*\\*kwargs表示关键字参数"
   ]
  },
  {
   "cell_type": "markdown",
   "metadata": {},
   "source": [
    "### 5.命名关键字参数  \n",
    "- 如果要限制关键字参数的名字，就可以用命名关键字参数，例如，只接收city和job作为关键字参数。  \n",
    "- 命名关键字有一个特殊分隔符 \\*"
   ]
  },
  {
   "cell_type": "code",
   "execution_count": 38,
   "metadata": {
    "colab": {
     "base_uri": "https://localhost:8080/",
     "height": 34
    },
    "colab_type": "code",
    "executionInfo": {
     "elapsed": 809,
     "status": "ok",
     "timestamp": 1578405490603,
     "user": {
      "displayName": "Yun Wu",
      "photoUrl": "",
      "userId": "07058976890337189786"
     },
     "user_tz": -60
    },
    "id": "rcs19WFqSi5s",
    "outputId": "32d74293-8345-45c3-a4ab-5bf968fd5409"
   },
   "outputs": [
    {
     "name": "stdout",
     "output_type": "stream",
     "text": [
      "Jack 24 Beijing Engineer\n"
     ]
    }
   ],
   "source": [
    "#如果要限制关键字参数的名字，就可以用命名关键字参数，例如，只接收city和job作为关键字参数。\n",
    "#命名关键字有一个特殊分隔符*\n",
    "def person(name,age,*,city,job):\n",
    "  print(name,age,city,job)\n",
    "person('Jack',24,city='Beijing',job='Engineer')"
   ]
  },
  {
   "cell_type": "code",
   "execution_count": 7,
   "metadata": {},
   "outputs": [
    {
     "name": "stdout",
     "output_type": "stream",
     "text": [
      "Jack 24 Beijing Engineer\n"
     ]
    }
   ],
   "source": [
    "#命名关键字参数可传入默认值\n",
    "def person(name,age,*,city='Beijing',job):\n",
    "  print(name,age,city,job)\n",
    "person('Jack',24,job='Engineer')"
   ]
  },
  {
   "cell_type": "code",
   "execution_count": 40,
   "metadata": {
    "colab": {
     "base_uri": "https://localhost:8080/",
     "height": 34
    },
    "colab_type": "code",
    "executionInfo": {
     "elapsed": 763,
     "status": "ok",
     "timestamp": 1578405663697,
     "user": {
      "displayName": "Yun Wu",
      "photoUrl": "",
      "userId": "07058976890337189786"
     },
     "user_tz": -60
    },
    "id": "VR1j8U94TUZq",
    "outputId": "df09f302-6749-4161-847a-8385e31942b1"
   },
   "outputs": [
    {
     "name": "stdout",
     "output_type": "stream",
     "text": [
      "Jack 24 () Beijing Engineer\n"
     ]
    }
   ],
   "source": [
    "#如果已经有了一个可变参数，后面的命名关键字参数不需要分隔符*\n",
    "def person(name,age,*args,city,job):\n",
    "  print(name,age,args,city,job)\n",
    "#person('Jack',24,'Beijing','Engineer')\n",
    "person('Jack',24,city='Beijing',job='Engineer')"
   ]
  },
  {
   "cell_type": "markdown",
   "metadata": {},
   "source": [
    "**注意：**  \n",
    "- 命名关键字参数必须传入参数名\n",
    "- 使用命名关键字参数时，如果没有可变参数\\*args，就必须加一个\\*作为特殊分隔符。如果缺少\\*，Python解释器将把命名关键字参数当作位置参数"
   ]
  },
  {
   "cell_type": "markdown",
   "metadata": {
    "colab_type": "text",
    "id": "ewavx2ttUZy9"
   },
   "source": [
    "### 6.参数组合  \n",
    "参数定义的顺序必须是：必选参数、默认参数、可变参数、命名关键字参数和关键字参数"
   ]
  },
  {
   "cell_type": "code",
   "execution_count": 10,
   "metadata": {
    "colab": {},
    "colab_type": "code",
    "id": "V1mVKJw0UZhm"
   },
   "outputs": [],
   "source": [
    "#*args为可变参数，**kw为关键字参数\n",
    "def f1(a,b,c=0,*args,**kw):\n",
    "  print('a=',a,'b=',b,'c=',c,'args=',args,'kw=',kw)"
   ]
  },
  {
   "cell_type": "code",
   "execution_count": 18,
   "metadata": {
    "colab": {
     "base_uri": "https://localhost:8080/",
     "height": 101
    },
    "colab_type": "code",
    "executionInfo": {
     "elapsed": 1008,
     "status": "ok",
     "timestamp": 1578456558064,
     "user": {
      "displayName": "Yun Wu",
      "photoUrl": "",
      "userId": "07058976890337189786"
     },
     "user_tz": -60
    },
    "id": "mAu0CvHlWddt",
    "outputId": "efd211c9-a4e0-4922-8847-f05104b572fe"
   },
   "outputs": [
    {
     "name": "stdout",
     "output_type": "stream",
     "text": [
      "a= 1 b= 2 c= 0 args= () kw= {}\n",
      "a= 1 b= 2 c= 3 args= () kw= {}\n",
      "a= 1 b= 2 c= 3 args= ('a', 'b') kw= {}\n",
      "a= 1 b= 2 c= 3 args= ('a', 'b') kw= {'x': 99}\n"
     ]
    }
   ],
   "source": [
    "f1(1,2) # 必选参数a,b，c默认为0\n",
    "f1(1,2,c=3) # 必选参数a,b，c更改为3\n",
    "f1(1,2,3,'a','b') # a=1,b=2,c=3,'a'和'b'为可变参数\n",
    "f1(1,2,3,'a','b',x=99)"
   ]
  },
  {
   "cell_type": "code",
   "execution_count": 60,
   "metadata": {},
   "outputs": [],
   "source": [
    "#a,b,c为位置参数，*args为可变参数，d为命名关键字参数，**kw为关键字参数\n",
    "def f2(a,b,c=0,*args,d,**kwargs):\n",
    "  print('a=',a,'b=',b,'c=',c,'args=',args,'d=',d ,'kwargs=',kwargs)"
   ]
  },
  {
   "cell_type": "code",
   "execution_count": 61,
   "metadata": {},
   "outputs": [
    {
     "name": "stdout",
     "output_type": "stream",
     "text": [
      "a= 1 b= 2 c= 3 args= (4, 5) d= 99 kwargs= {'ext': None}\n"
     ]
    }
   ],
   "source": [
    "f2(1,2,3,4,5,d=99,ext=None)"
   ]
  },
  {
   "cell_type": "code",
   "execution_count": 53,
   "metadata": {
    "colab": {
     "base_uri": "https://localhost:8080/",
     "height": 34
    },
    "colab_type": "code",
    "executionInfo": {
     "elapsed": 1038,
     "status": "ok",
     "timestamp": 1578456746004,
     "user": {
      "displayName": "Yun Wu",
      "photoUrl": "",
      "userId": "07058976890337189786"
     },
     "user_tz": -60
    },
    "id": "6v1SNCU8WEtZ",
    "outputId": "868c3326-28e4-40c7-f97c-90eedeb21a30"
   },
   "outputs": [
    {
     "name": "stdout",
     "output_type": "stream",
     "text": [
      "a= 1 b= 2 c= 3 args= (4,) kw= {'d': 99, 'x': '#'}\n"
     ]
    }
   ],
   "source": [
    "#通过一个tuple和一个dict也可以调用上面的函数\n",
    "args = (1,2,3,4)\n",
    "kw={'d':99,'x':'#'}\n",
    "f1(*args,**kw)\n",
    "#a= 1 b= 2 c= 3 args= (4,) kw= {'d': 99, 'x': '#'}"
   ]
  },
  {
   "cell_type": "code",
   "execution_count": 16,
   "metadata": {
    "colab": {
     "base_uri": "https://localhost:8080/",
     "height": 34
    },
    "colab_type": "code",
    "executionInfo": {
     "elapsed": 1039,
     "status": "ok",
     "timestamp": 1578457054066,
     "user": {
      "displayName": "Yun Wu",
      "photoUrl": "",
      "userId": "07058976890337189786"
     },
     "user_tz": -60
    },
    "id": "SvAiDaVeW9xP",
    "outputId": "9790ba07-4e8a-45be-efc2-48e5f4b0c50e"
   },
   "outputs": [
    {
     "name": "stdout",
     "output_type": "stream",
     "text": [
      "a= 1 b= 2 c= 3 d= 88 kw= {'x': '#'}\n"
     ]
    }
   ],
   "source": [
    "args = (1,2,3)\n",
    "kw = {'d':88,'x':'#'}\n",
    "f2(*args,**kw)\n",
    "#a= 1 b= 2 c= 3 d= 88 kw= {'x': '#'}"
   ]
  },
  {
   "cell_type": "code",
   "execution_count": 19,
   "metadata": {
    "colab": {
     "base_uri": "https://localhost:8080/",
     "height": 34
    },
    "colab_type": "code",
    "executionInfo": {
     "elapsed": 1528,
     "status": "ok",
     "timestamp": 1578457359801,
     "user": {
      "displayName": "Yun Wu",
      "photoUrl": "",
      "userId": "07058976890337189786"
     },
     "user_tz": -60
    },
    "id": "60rRbtUiX3aa",
    "outputId": "ff885a41-cf82-411a-8d75-10fe3211c092"
   },
   "outputs": [
    {
     "data": {
      "text/plain": [
       "210"
      ]
     },
     "execution_count": 19,
     "metadata": {
      "tags": []
     },
     "output_type": "execute_result"
    }
   ],
   "source": [
    "#练习，改为可接收一个或多个数并计算乘积\n",
    "def product(x,*args):\n",
    "  if not args:\n",
    "    return x\n",
    "  else:\n",
    "    chengji = x\n",
    "    for i in args:\n",
    "      chengji = chengji*i\n",
    "    return chengji\n",
    "product(5,6,7)"
   ]
  },
  {
   "cell_type": "markdown",
   "metadata": {
    "colab_type": "text",
    "id": "JEWxE6UNZF2Q"
   },
   "source": [
    "**总结：**\n",
    "\n",
    "- 默认参数一定要用不可变对象，如果是可变对象，程序运行时会有逻辑错误！\n",
    "- *args是可变参数，args接收的是一个tuple\n",
    "- 可变参数既可以直接传入：func(1, 2, 3)，又可以先组装list或tuple，再通过*args传入：func(*(1,2,3))。\n",
    "- \\*\\*kw是关键字参数，kw接收的是一个dict。\n",
    "- 关键字参数既可以直接传入：func(a=1, b=2)，又可以先组装dict，再通过kw传入：func({'a': 1, 'b': 2})。\n",
    "- 命名的关键字参数是为了限制调用者可以传入的参数名，同时可以提供默认值。定义命名的关键字参数在没有可变参数的情况下不要忘了写分隔符*，否则定义的将是位置参数。"
   ]
  },
  {
   "cell_type": "markdown",
   "metadata": {
    "colab_type": "text",
    "id": "i0QggsAEaWtJ"
   },
   "source": [
    "## 4. 递归函数"
   ]
  },
  {
   "cell_type": "markdown",
   "metadata": {},
   "source": [
    "**简单例子：**"
   ]
  },
  {
   "cell_type": "code",
   "execution_count": 0,
   "metadata": {
    "colab": {},
    "colab_type": "code",
    "id": "Sk7I3S8QaZXU"
   },
   "outputs": [],
   "source": [
    "#fact(n)=n!=1x2x3x...x(n-1)xn\n",
    "def fact(n):\n",
    "  if n==1:\n",
    "    return 1\n",
    "  return n*fact(n-1)"
   ]
  },
  {
   "cell_type": "code",
   "execution_count": 3,
   "metadata": {
    "colab": {
     "base_uri": "https://localhost:8080/",
     "height": 34
    },
    "colab_type": "code",
    "executionInfo": {
     "elapsed": 874,
     "status": "ok",
     "timestamp": 1578477357950,
     "user": {
      "displayName": "Yun Wu",
      "photoUrl": "",
      "userId": "07058976890337189786"
     },
     "user_tz": -60
    },
    "id": "wlVjFJ_rlMkz",
    "outputId": "e195ab50-7420-4a06-e3cd-8b4ea14caaf5"
   },
   "outputs": [
    {
     "data": {
      "text/plain": [
       "1"
      ]
     },
     "execution_count": 3,
     "metadata": {
      "tags": []
     },
     "output_type": "execute_result"
    }
   ],
   "source": [
    "fact(1)"
   ]
  },
  {
   "cell_type": "code",
   "execution_count": 4,
   "metadata": {
    "colab": {
     "base_uri": "https://localhost:8080/",
     "height": 34
    },
    "colab_type": "code",
    "executionInfo": {
     "elapsed": 1404,
     "status": "ok",
     "timestamp": 1578477367988,
     "user": {
      "displayName": "Yun Wu",
      "photoUrl": "",
      "userId": "07058976890337189786"
     },
     "user_tz": -60
    },
    "id": "UH8WHb5JlRZi",
    "outputId": "77fd0de0-1535-4b9c-d0f2-79bef7450e1c"
   },
   "outputs": [
    {
     "data": {
      "text/plain": [
       "120"
      ]
     },
     "execution_count": 4,
     "metadata": {
      "tags": []
     },
     "output_type": "execute_result"
    }
   ],
   "source": [
    "fact(5)"
   ]
  },
  {
   "cell_type": "code",
   "execution_count": 5,
   "metadata": {
    "colab": {
     "base_uri": "https://localhost:8080/",
     "height": 306
    },
    "colab_type": "code",
    "executionInfo": {
     "elapsed": 2774,
     "status": "error",
     "timestamp": 1578477577774,
     "user": {
      "displayName": "Yun Wu",
      "photoUrl": "",
      "userId": "07058976890337189786"
     },
     "user_tz": -60
    },
    "id": "KQ9XARJMmELk",
    "outputId": "8769dc34-1b48-44b8-d355-efbb7cac5a86"
   },
   "outputs": [
    {
     "ename": "RecursionError",
     "evalue": "ignored",
     "output_type": "error",
     "traceback": [
      "\u001b[0;31m---------------------------------------------------------------------------\u001b[0m",
      "\u001b[0;31mRecursionError\u001b[0m                            Traceback (most recent call last)",
      "\u001b[0;32m<ipython-input-5-a3d790031eab>\u001b[0m in \u001b[0;36m<module>\u001b[0;34m()\u001b[0m\n\u001b[0;32m----> 1\u001b[0;31m \u001b[0mfact\u001b[0m\u001b[0;34m(\u001b[0m\u001b[0;36m1000\u001b[0m\u001b[0;34m)\u001b[0m\u001b[0;34m\u001b[0m\u001b[0;34m\u001b[0m\u001b[0m\n\u001b[0m",
      "\u001b[0;32m<ipython-input-2-11477d7f3997>\u001b[0m in \u001b[0;36mfact\u001b[0;34m(n)\u001b[0m\n\u001b[1;32m      2\u001b[0m   \u001b[0;32mif\u001b[0m \u001b[0mn\u001b[0m\u001b[0;34m==\u001b[0m\u001b[0;36m1\u001b[0m\u001b[0;34m:\u001b[0m\u001b[0;34m\u001b[0m\u001b[0;34m\u001b[0m\u001b[0m\n\u001b[1;32m      3\u001b[0m     \u001b[0;32mreturn\u001b[0m \u001b[0;36m1\u001b[0m\u001b[0;34m\u001b[0m\u001b[0;34m\u001b[0m\u001b[0m\n\u001b[0;32m----> 4\u001b[0;31m   \u001b[0;32mreturn\u001b[0m \u001b[0mn\u001b[0m\u001b[0;34m*\u001b[0m\u001b[0mfact\u001b[0m\u001b[0;34m(\u001b[0m\u001b[0mn\u001b[0m\u001b[0;34m-\u001b[0m\u001b[0;36m1\u001b[0m\u001b[0;34m)\u001b[0m\u001b[0;34m\u001b[0m\u001b[0;34m\u001b[0m\u001b[0m\n\u001b[0m",
      "... last 1 frames repeated, from the frame below ...\n",
      "\u001b[0;32m<ipython-input-2-11477d7f3997>\u001b[0m in \u001b[0;36mfact\u001b[0;34m(n)\u001b[0m\n\u001b[1;32m      2\u001b[0m   \u001b[0;32mif\u001b[0m \u001b[0mn\u001b[0m\u001b[0;34m==\u001b[0m\u001b[0;36m1\u001b[0m\u001b[0;34m:\u001b[0m\u001b[0;34m\u001b[0m\u001b[0;34m\u001b[0m\u001b[0m\n\u001b[1;32m      3\u001b[0m     \u001b[0;32mreturn\u001b[0m \u001b[0;36m1\u001b[0m\u001b[0;34m\u001b[0m\u001b[0;34m\u001b[0m\u001b[0m\n\u001b[0;32m----> 4\u001b[0;31m   \u001b[0;32mreturn\u001b[0m \u001b[0mn\u001b[0m\u001b[0;34m*\u001b[0m\u001b[0mfact\u001b[0m\u001b[0;34m(\u001b[0m\u001b[0mn\u001b[0m\u001b[0;34m-\u001b[0m\u001b[0;36m1\u001b[0m\u001b[0;34m)\u001b[0m\u001b[0;34m\u001b[0m\u001b[0;34m\u001b[0m\u001b[0m\n\u001b[0m",
      "\u001b[0;31mRecursionError\u001b[0m: maximum recursion depth exceeded in comparison"
     ]
    }
   ],
   "source": [
    "fact(1000) #栈溢出"
   ]
  },
  {
   "cell_type": "code",
   "execution_count": 0,
   "metadata": {
    "colab": {},
    "colab_type": "code",
    "id": "0Un_B5evnrkh"
   },
   "outputs": [],
   "source": [
    "#优化方法：尾递归\n",
    "#在函数返回的时候，调用自身本身，并且，return语句不能包含表达式。这样，编译器或者解释器就可以把尾递归做优化，使递归本身无论调用多少次，都只占用一个栈帧，不会出现栈溢出的情况。\n",
    "def fact(n):\n",
    "  return fact_iter(n,1)\n",
    "def fact_iter(num,product):\n",
    "  if num==1:\n",
    "    return product\n",
    "  return fact_iter(num-1,num*product)"
   ]
  },
  {
   "cell_type": "code",
   "execution_count": 9,
   "metadata": {
    "colab": {
     "base_uri": "https://localhost:8080/",
     "height": 134
    },
    "colab_type": "code",
    "executionInfo": {
     "elapsed": 1025,
     "status": "ok",
     "timestamp": 1578479306389,
     "user": {
      "displayName": "Yun Wu",
      "photoUrl": "",
      "userId": "07058976890337189786"
     },
     "user_tz": -60
    },
    "id": "0SW2_9gWpPDT",
    "outputId": "cacde1d7-bd6e-4b8d-92c5-f9287c87a414"
   },
   "outputs": [
    {
     "name": "stdout",
     "output_type": "stream",
     "text": [
      "a --> c\n",
      "a --> b\n",
      "c --> b\n",
      "a --> c\n",
      "b --> a\n",
      "b --> c\n",
      "a --> c\n"
     ]
    }
   ],
   "source": [
    "#练习，汉诺塔的移动[理解难]\n",
    "def move(n,a,b,c):\n",
    "  #当n=1时\n",
    "  if n==1:\n",
    "    print(a,'-->',c) #将A柱最底层的圆盘移动到C柱\n",
    "  #当n>1时\n",
    "  else:\n",
    "    move(n-1,a,c,b)#借助C柱，将n-1个圆盘从A柱移动B柱\n",
    "    print(a,'-->',c) #将A柱最底层的圆盘移动到C柱\n",
    "    move(n-1,b,a,c) #借助A柱，将n-1圆盘从B柱移动到C柱\n",
    "move(3,'a','b','c')"
   ]
  }
 ],
 "metadata": {
  "colab": {
   "collapsed_sections": [
    "ypb2MLd2O97c",
    "FSXe_z75PBtx"
   ],
   "name": "chapter2.ipynb",
   "provenance": []
  },
  "kernelspec": {
   "display_name": "Python 3",
   "language": "python",
   "name": "python3"
  },
  "language_info": {
   "codemirror_mode": {
    "name": "ipython",
    "version": 3
   },
   "file_extension": ".py",
   "mimetype": "text/x-python",
   "name": "python",
   "nbconvert_exporter": "python",
   "pygments_lexer": "ipython3",
   "version": "3.6.7"
  }
 },
 "nbformat": 4,
 "nbformat_minor": 1
}
