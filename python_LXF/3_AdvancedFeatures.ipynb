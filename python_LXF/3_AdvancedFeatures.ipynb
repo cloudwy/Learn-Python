{
 "cells": [
  {
   "cell_type": "markdown",
   "metadata": {
    "colab_type": "text",
    "id": "qyMdMdqetZl5"
   },
   "source": [
    "# 高级特性"
   ]
  },
  {
   "cell_type": "code",
   "execution_count": 0,
   "metadata": {
    "colab": {
     "base_uri": "https://localhost:8080/",
     "height": 54
    },
    "colab_type": "code",
    "executionInfo": {
     "elapsed": 448,
     "status": "ok",
     "timestamp": 1578491910454,
     "user": {
      "displayName": "Yun Wu",
      "photoUrl": "",
      "userId": "07058976890337189786"
     },
     "user_tz": -60
    },
    "id": "_3ZmZBd-ta5V",
    "outputId": "dec73608-e964-4cab-ac92-7102eb84e08b"
   },
   "outputs": [
    {
     "name": "stdout",
     "output_type": "stream",
     "text": [
      "[1, 3, 5, 7, 9, 11, 13, 15, 17, 19, 21, 23, 25, 27, 29, 31, 33, 35, 37, 39, 41, 43, 45, 47, 49, 51, 53, 55, 57, 59, 61, 63, 65, 67, 69, 71, 73, 75, 77, 79, 81, 83, 85, 87, 89, 91, 93, 95, 97, 99]\n"
     ]
    }
   ],
   "source": [
    "#构造1,3,5,7，...,99的列表\n",
    "L=[]\n",
    "n=1\n",
    "while n<=99:\n",
    "  L.append(n)\n",
    "  n=n+2\n",
    "print(L)"
   ]
  },
  {
   "cell_type": "markdown",
   "metadata": {
    "colab_type": "text",
    "id": "24c_cMYdwi5M"
   },
   "source": [
    "## 切片"
   ]
  },
  {
   "cell_type": "code",
   "execution_count": 2,
   "metadata": {
    "colab": {},
    "colab_type": "code",
    "id": "GTUvfrBNdJsg"
   },
   "outputs": [],
   "source": [
    "L=['Michael','Sarah','Tracy','Bob','Jack']"
   ]
  },
  {
   "cell_type": "code",
   "execution_count": 3,
   "metadata": {
    "colab": {
     "base_uri": "https://localhost:8080/",
     "height": 34
    },
    "colab_type": "code",
    "executionInfo": {
     "elapsed": 1341,
     "status": "ok",
     "timestamp": 1578492240363,
     "user": {
      "displayName": "Yun Wu",
      "photoUrl": "",
      "userId": "07058976890337189786"
     },
     "user_tz": -60
    },
    "id": "-qWCQGbqddnJ",
    "outputId": "c901ecb0-9b7a-4ba6-fe5a-cbc62fba2f1a"
   },
   "outputs": [
    {
     "data": {
      "text/plain": [
       "['Michael', 'Sarah', 'Tracy']"
      ]
     },
     "execution_count": 3,
     "metadata": {},
     "output_type": "execute_result"
    }
   ],
   "source": [
    "#取前N个元素\n",
    "r=[]\n",
    "n=3\n",
    "for i in range(n):\n",
    "  r.append(L[i])\n",
    "r"
   ]
  },
  {
   "cell_type": "code",
   "execution_count": 4,
   "metadata": {
    "colab": {
     "base_uri": "https://localhost:8080/",
     "height": 34
    },
    "colab_type": "code",
    "executionInfo": {
     "elapsed": 955,
     "status": "ok",
     "timestamp": 1578492521294,
     "user": {
      "displayName": "Yun Wu",
      "photoUrl": "",
      "userId": "07058976890337189786"
     },
     "user_tz": -60
    },
    "id": "k9HKTlzufAdP",
    "outputId": "658498c6-f32b-4859-97c6-381befdb9f3a"
   },
   "outputs": [
    {
     "data": {
      "text/plain": [
       "['Bob', 'Jack']"
      ]
     },
     "execution_count": 4,
     "metadata": {},
     "output_type": "execute_result"
    }
   ],
   "source": [
    "L[-2:]  #倒数两个"
   ]
  },
  {
   "cell_type": "code",
   "execution_count": 0,
   "metadata": {
    "colab": {
     "base_uri": "https://localhost:8080/",
     "height": 34
    },
    "colab_type": "code",
    "executionInfo": {
     "elapsed": 1027,
     "status": "ok",
     "timestamp": 1578492548103,
     "user": {
      "displayName": "Yun Wu",
      "photoUrl": "",
      "userId": "07058976890337189786"
     },
     "user_tz": -60
    },
    "id": "sMq52tQ4fLMA",
    "outputId": "4e4e102d-6a58-4abe-dc53-6e806df3cf58"
   },
   "outputs": [
    {
     "data": {
      "text/plain": [
       "['Bob']"
      ]
     },
     "execution_count": 7,
     "metadata": {
      "tags": []
     },
     "output_type": "execute_result"
    }
   ],
   "source": [
    "L[-2:-1] #倒数第二个"
   ]
  },
  {
   "cell_type": "code",
   "execution_count": 5,
   "metadata": {
    "colab": {
     "base_uri": "https://localhost:8080/",
     "height": 1000
    },
    "colab_type": "code",
    "executionInfo": {
     "elapsed": 2438,
     "status": "ok",
     "timestamp": 1578492691801,
     "user": {
      "displayName": "Yun Wu",
      "photoUrl": "",
      "userId": "07058976890337189786"
     },
     "user_tz": -60
    },
    "id": "9LyhFE6Sfqk1",
    "outputId": "60c434ea-12d7-4ee1-8967-985caf8cda79"
   },
   "outputs": [
    {
     "data": {
      "text/plain": [
       "[0, 1, 2, 3, 4, 5, 6, 7, 8, 9]"
      ]
     },
     "execution_count": 5,
     "metadata": {},
     "output_type": "execute_result"
    }
   ],
   "source": [
    "L = list(range(10))\n",
    "L"
   ]
  },
  {
   "cell_type": "code",
   "execution_count": 6,
   "metadata": {
    "colab": {
     "base_uri": "https://localhost:8080/",
     "height": 34
    },
    "colab_type": "code",
    "executionInfo": {
     "elapsed": 765,
     "status": "ok",
     "timestamp": 1578492726634,
     "user": {
      "displayName": "Yun Wu",
      "photoUrl": "",
      "userId": "07058976890337189786"
     },
     "user_tz": -60
    },
    "id": "yQl9Oiz3f1vW",
    "outputId": "26320381-3fef-4953-e613-0dbfb2ffd37c"
   },
   "outputs": [
    {
     "data": {
      "text/plain": [
       "[0, 1, 2, 3, 4, 5, 6, 7, 8, 9]"
      ]
     },
     "execution_count": 6,
     "metadata": {},
     "output_type": "execute_result"
    }
   ],
   "source": [
    "L[:10] #前10个数"
   ]
  },
  {
   "cell_type": "code",
   "execution_count": 14,
   "metadata": {
    "colab": {},
    "colab_type": "code",
    "id": "JinfYjHDgBXe"
   },
   "outputs": [
    {
     "data": {
      "text/plain": [
       "[0, 1, 2, 3, 4, 5, 6, 7, 8, 9]"
      ]
     },
     "execution_count": 14,
     "metadata": {},
     "output_type": "execute_result"
    }
   ],
   "source": [
    "L[-10:] #后10个数"
   ]
  },
  {
   "cell_type": "code",
   "execution_count": 15,
   "metadata": {
    "colab": {
     "base_uri": "https://localhost:8080/",
     "height": 34
    },
    "colab_type": "code",
    "executionInfo": {
     "elapsed": 1524,
     "status": "ok",
     "timestamp": 1578492832484,
     "user": {
      "displayName": "Yun Wu",
      "photoUrl": "",
      "userId": "07058976890337189786"
     },
     "user_tz": -60
    },
    "id": "Xjn4e4GQgLsH",
    "outputId": "5c1d7f99-ae5e-452b-e87b-e704744e1f6d"
   },
   "outputs": [
    {
     "data": {
      "text/plain": [
       "[4, 5, 6, 7, 8, 9]"
      ]
     },
     "execution_count": 15,
     "metadata": {},
     "output_type": "execute_result"
    }
   ],
   "source": [
    "L[4:10] #前5-10个数"
   ]
  },
  {
   "cell_type": "code",
   "execution_count": 16,
   "metadata": {
    "colab": {
     "base_uri": "https://localhost:8080/",
     "height": 34
    },
    "colab_type": "code",
    "executionInfo": {
     "elapsed": 943,
     "status": "ok",
     "timestamp": 1578492878174,
     "user": {
      "displayName": "Yun Wu",
      "photoUrl": "",
      "userId": "07058976890337189786"
     },
     "user_tz": -60
    },
    "id": "ti8nfsgjgUbw",
    "outputId": "3d06c38f-e7fc-410b-cf27-0d71e956c942"
   },
   "outputs": [
    {
     "data": {
      "text/plain": [
       "[0, 2, 4, 6, 8]"
      ]
     },
     "execution_count": 16,
     "metadata": {},
     "output_type": "execute_result"
    }
   ],
   "source": [
    "L[:10:2] #前10个数，每两个取一个"
   ]
  },
  {
   "cell_type": "code",
   "execution_count": 12,
   "metadata": {
    "colab": {
     "base_uri": "https://localhost:8080/",
     "height": 34
    },
    "colab_type": "code",
    "executionInfo": {
     "elapsed": 785,
     "status": "ok",
     "timestamp": 1578492929326,
     "user": {
      "displayName": "Yun Wu",
      "photoUrl": "",
      "userId": "07058976890337189786"
     },
     "user_tz": -60
    },
    "id": "uBrp3GBIgnJe",
    "outputId": "200f61c3-9283-4014-c0e8-a92761cd803d"
   },
   "outputs": [
    {
     "data": {
      "text/plain": [
       "[0, 5]"
      ]
     },
     "execution_count": 12,
     "metadata": {},
     "output_type": "execute_result"
    }
   ],
   "source": [
    "L[::5] #所有数，每5个取一个"
   ]
  },
  {
   "cell_type": "code",
   "execution_count": 13,
   "metadata": {
    "colab": {
     "base_uri": "https://localhost:8080/",
     "height": 1000
    },
    "colab_type": "code",
    "executionInfo": {
     "elapsed": 2208,
     "status": "ok",
     "timestamp": 1578493042788,
     "user": {
      "displayName": "Yun Wu",
      "photoUrl": "",
      "userId": "07058976890337189786"
     },
     "user_tz": -60
    },
    "id": "Ihsum-6NhAsJ",
    "outputId": "347761ea-43bd-4878-91a5-68c7d2cbdd62"
   },
   "outputs": [
    {
     "data": {
      "text/plain": [
       "[0, 1, 2, 3, 4, 5, 6, 7, 8, 9]"
      ]
     },
     "execution_count": 13,
     "metadata": {},
     "output_type": "execute_result"
    }
   ],
   "source": [
    "L[:] #复制"
   ]
  },
  {
   "cell_type": "code",
   "execution_count": 0,
   "metadata": {
    "colab": {
     "base_uri": "https://localhost:8080/",
     "height": 34
    },
    "colab_type": "code",
    "executionInfo": {
     "elapsed": 1016,
     "status": "ok",
     "timestamp": 1578494754780,
     "user": {
      "displayName": "Yun Wu",
      "photoUrl": "",
      "userId": "07058976890337189786"
     },
     "user_tz": -60
    },
    "id": "---Z8cQNncUN",
    "outputId": "06ec4bd1-896d-4ef4-a930-b0fc50af12b6"
   },
   "outputs": [
    {
     "data": {
      "text/plain": [
       "(0, 1, 2)"
      ]
     },
     "execution_count": 16,
     "metadata": {
      "tags": []
     },
     "output_type": "execute_result"
    }
   ],
   "source": [
    "(0,1,2,3,4,5)[:3]"
   ]
  },
  {
   "cell_type": "code",
   "execution_count": 0,
   "metadata": {
    "colab": {
     "base_uri": "https://localhost:8080/",
     "height": 34
    },
    "colab_type": "code",
    "executionInfo": {
     "elapsed": 764,
     "status": "ok",
     "timestamp": 1578494770634,
     "user": {
      "displayName": "Yun Wu",
      "photoUrl": "",
      "userId": "07058976890337189786"
     },
     "user_tz": -60
    },
    "id": "SWUi3AgTnpCl",
    "outputId": "96fd1a37-7b94-454d-a829-1506eda2e6c2"
   },
   "outputs": [
    {
     "data": {
      "text/plain": [
       "'ABC'"
      ]
     },
     "execution_count": 17,
     "metadata": {
      "tags": []
     },
     "output_type": "execute_result"
    }
   ],
   "source": [
    "'ABCDEFG'[:3]"
   ]
  },
  {
   "cell_type": "code",
   "execution_count": 18,
   "metadata": {
    "colab": {
     "base_uri": "https://localhost:8080/",
     "height": 34
    },
    "colab_type": "code",
    "executionInfo": {
     "elapsed": 1504,
     "status": "ok",
     "timestamp": 1578497984980,
     "user": {
      "displayName": "Yun Wu",
      "photoUrl": "",
      "userId": "07058976890337189786"
     },
     "user_tz": -60
    },
    "id": "NtPtu4SQtBSv",
    "outputId": "ab4530ac-43a0-4305-b45e-4c2e9a86928c"
   },
   "outputs": [
    {
     "data": {
      "text/plain": [
       "'hello'"
      ]
     },
     "execution_count": 18,
     "metadata": {},
     "output_type": "execute_result"
    }
   ],
   "source": [
    "#利用切片操作，实现一个trim()函数，去除字符串首尾的空格，注意不要调用str的strip()方法\n",
    "def trim(s):\n",
    "  if s[:1]!=' ' and s[-1:]!=' ':\n",
    "    return s\n",
    "  elif s[:1] == ' ':\n",
    "    return trim(s[1:])\n",
    "  else:\n",
    "    return trim(s[:-1])\n",
    "trim('hello  ')"
   ]
  },
  {
   "cell_type": "markdown",
   "metadata": {
    "colab_type": "text",
    "id": "FWoirEAo0nb9"
   },
   "source": [
    "## 迭代"
   ]
  },
  {
   "cell_type": "code",
   "execution_count": 0,
   "metadata": {
    "colab": {
     "base_uri": "https://localhost:8080/",
     "height": 67
    },
    "colab_type": "code",
    "executionInfo": {
     "elapsed": 5481,
     "status": "ok",
     "timestamp": 1578498261475,
     "user": {
      "displayName": "Yun Wu",
      "photoUrl": "",
      "userId": "07058976890337189786"
     },
     "user_tz": -60
    },
    "id": "lty0v5xS0o8t",
    "outputId": "d32a7e34-7d14-4e2f-d832-95dbb50ccaf8"
   },
   "outputs": [
    {
     "name": "stdout",
     "output_type": "stream",
     "text": [
      "a\n",
      "b\n",
      "c\n"
     ]
    }
   ],
   "source": [
    "#字典的迭代,存储不是按照list方式顺序排列，迭代出的结果顺序很可能不一样\n",
    "d={'a':1,'b':2,'c':3}\n",
    "for key in d:\n",
    "  print(key)"
   ]
  },
  {
   "cell_type": "code",
   "execution_count": 0,
   "metadata": {
    "colab": {
     "base_uri": "https://localhost:8080/",
     "height": 67
    },
    "colab_type": "code",
    "executionInfo": {
     "elapsed": 796,
     "status": "ok",
     "timestamp": 1578498318621,
     "user": {
      "displayName": "Yun Wu",
      "photoUrl": "",
      "userId": "07058976890337189786"
     },
     "user_tz": -60
    },
    "id": "NNHBUPNt1IZN",
    "outputId": "03f39582-9639-417f-9965-67e18a6f4a76"
   },
   "outputs": [
    {
     "name": "stdout",
     "output_type": "stream",
     "text": [
      "A\n",
      "B\n",
      "C\n"
     ]
    }
   ],
   "source": [
    "#字符串的迭代\n",
    "for ch in 'ABC':\n",
    "  print(ch)"
   ]
  },
  {
   "cell_type": "markdown",
   "metadata": {},
   "source": [
    "如何判断一个对象是否为可迭代对象？  \n",
    "collection模块的iterable类型判断"
   ]
  },
  {
   "cell_type": "code",
   "execution_count": 22,
   "metadata": {
    "colab": {
     "base_uri": "https://localhost:8080/",
     "height": 34
    },
    "colab_type": "code",
    "executionInfo": {
     "elapsed": 2514,
     "status": "ok",
     "timestamp": 1578498472708,
     "user": {
      "displayName": "Yun Wu",
      "photoUrl": "",
      "userId": "07058976890337189786"
     },
     "user_tz": -60
    },
    "id": "5ZpAZn0n1jLU",
    "outputId": "2df2681b-7b02-419f-e6d5-c3c6c702d8ba"
   },
   "outputs": [],
   "source": [
    "from collections import Iterable"
   ]
  },
  {
   "cell_type": "code",
   "execution_count": 23,
   "metadata": {},
   "outputs": [
    {
     "data": {
      "text/plain": [
       "True"
      ]
     },
     "execution_count": 23,
     "metadata": {},
     "output_type": "execute_result"
    }
   ],
   "source": [
    "isinstance('abc',Iterable) #字符串可迭代"
   ]
  },
  {
   "cell_type": "code",
   "execution_count": 24,
   "metadata": {},
   "outputs": [
    {
     "data": {
      "text/plain": [
       "False"
      ]
     },
     "execution_count": 24,
     "metadata": {},
     "output_type": "execute_result"
    }
   ],
   "source": [
    "isinstance(123,Iterable) #整数不可迭代"
   ]
  },
  {
   "cell_type": "markdown",
   "metadata": {},
   "source": [
    "对list实现下标循环，enumerate函数"
   ]
  },
  {
   "cell_type": "code",
   "execution_count": 26,
   "metadata": {
    "colab": {
     "base_uri": "https://localhost:8080/",
     "height": 67
    },
    "colab_type": "code",
    "executionInfo": {
     "elapsed": 2515,
     "status": "ok",
     "timestamp": 1578498582277,
     "user": {
      "displayName": "Yun Wu",
      "photoUrl": "",
      "userId": "07058976890337189786"
     },
     "user_tz": -60
    },
    "id": "l9NY88Wd1_cM",
    "outputId": "a1bd756b-e4ba-409d-f553-9548be629f5a"
   },
   "outputs": [
    {
     "name": "stdout",
     "output_type": "stream",
     "text": [
      "0 A\n",
      "1 B\n",
      "2 C\n"
     ]
    }
   ],
   "source": [
    "for i,value in enumerate(['A','B','C']):\n",
    "  print(i,value)"
   ]
  },
  {
   "cell_type": "code",
   "execution_count": 27,
   "metadata": {
    "colab": {
     "base_uri": "https://localhost:8080/",
     "height": 67
    },
    "colab_type": "code",
    "executionInfo": {
     "elapsed": 1798,
     "status": "ok",
     "timestamp": 1578498660596,
     "user": {
      "displayName": "Yun Wu",
      "photoUrl": "",
      "userId": "07058976890337189786"
     },
     "user_tz": -60
    },
    "id": "uYQpugVa2WIU",
    "outputId": "424ba2ca-8d2f-4d20-8bcf-b5297c5a9590"
   },
   "outputs": [
    {
     "name": "stdout",
     "output_type": "stream",
     "text": [
      "1 1\n",
      "2 4\n",
      "3 9\n"
     ]
    }
   ],
   "source": [
    "for x,y in [(1,1),(2,4),(3,9)]:\n",
    "  print(x,y)"
   ]
  },
  {
   "cell_type": "code",
   "execution_count": 0,
   "metadata": {
    "colab": {},
    "colab_type": "code",
    "id": "MEf15beU2kXr"
   },
   "outputs": [],
   "source": [
    "#练习：请使用迭代查找一个list中最小和最大值，并返回一个tuple\n",
    "def findMinAndMax(L):\n",
    "  if len(L)==0:\n",
    "    return(None,None)\n",
    "  else:\n",
    "    min=max=L[0]\n",
    "    for l in L[1:]:\n",
    "      if l>max:\n",
    "        max = l\n",
    "      if l<min:\n",
    "        min = l\n",
    "    return (min,max)"
   ]
  },
  {
   "cell_type": "markdown",
   "metadata": {
    "colab_type": "text",
    "id": "EqyBPjnl3nEE"
   },
   "source": [
    "任何可迭代对象都可以作用于for循环，包括我们自定义的数据类型，只要符合迭代条件，就可以使用for循环。"
   ]
  },
  {
   "cell_type": "markdown",
   "metadata": {
    "colab_type": "text",
    "id": "KEg3E2LX362a"
   },
   "source": [
    "## 列表生成式 (List Comprehensions)"
   ]
  },
  {
   "cell_type": "code",
   "execution_count": 0,
   "metadata": {
    "colab": {
     "base_uri": "https://localhost:8080/",
     "height": 34
    },
    "colab_type": "code",
    "executionInfo": {
     "elapsed": 1693,
     "status": "ok",
     "timestamp": 1578499064703,
     "user": {
      "displayName": "Yun Wu",
      "photoUrl": "",
      "userId": "07058976890337189786"
     },
     "user_tz": -60
    },
    "id": "b6IS9fJ739zc",
    "outputId": "3b141bec-b5b9-478c-845e-78ddd89a3866"
   },
   "outputs": [
    {
     "data": {
      "text/plain": [
       "[1, 2, 3, 4, 5, 6, 7, 8, 9, 10]"
      ]
     },
     "execution_count": 41,
     "metadata": {
      "tags": []
     },
     "output_type": "execute_result"
    }
   ],
   "source": [
    "list(range(1,11))"
   ]
  },
  {
   "cell_type": "markdown",
   "metadata": {},
   "source": [
    "如果要生成[1x1, 2x2, 3x3, ..., 10x10]怎么做？"
   ]
  },
  {
   "cell_type": "code",
   "execution_count": 0,
   "metadata": {
    "colab": {
     "base_uri": "https://localhost:8080/",
     "height": 34
    },
    "colab_type": "code",
    "executionInfo": {
     "elapsed": 3510,
     "status": "ok",
     "timestamp": 1578499129362,
     "user": {
      "displayName": "Yun Wu",
      "photoUrl": "",
      "userId": "07058976890337189786"
     },
     "user_tz": -60
    },
    "id": "oSJfAjiO4L3F",
    "outputId": "c13d71be-f77b-4e71-d325-7f2c7fd18e50"
   },
   "outputs": [
    {
     "data": {
      "text/plain": [
       "[1, 4, 9, 16, 25, 36, 49, 64, 81, 100]"
      ]
     },
     "execution_count": 42,
     "metadata": {
      "tags": []
     },
     "output_type": "execute_result"
    }
   ],
   "source": [
    "#方法一：循环\n",
    "L = []\n",
    "for x in range(1,11):\n",
    "  L.append(x*x)\n",
    "L"
   ]
  },
  {
   "cell_type": "code",
   "execution_count": 28,
   "metadata": {
    "colab": {
     "base_uri": "https://localhost:8080/",
     "height": 34
    },
    "colab_type": "code",
    "executionInfo": {
     "elapsed": 1818,
     "status": "ok",
     "timestamp": 1578499347447,
     "user": {
      "displayName": "Yun Wu",
      "photoUrl": "",
      "userId": "07058976890337189786"
     },
     "user_tz": -60
    },
    "id": "ozK06pRL4Umu",
    "outputId": "ea7e51fb-ba15-47bb-decd-450443e4321c"
   },
   "outputs": [
    {
     "data": {
      "text/plain": [
       "[1, 4, 9, 16, 25, 36, 49, 64, 81, 100]"
      ]
     },
     "execution_count": 28,
     "metadata": {},
     "output_type": "execute_result"
    }
   ],
   "source": [
    "#方法二(改进方法)：列表生成式\n",
    "[x*x for x in range(1,11)]"
   ]
  },
  {
   "cell_type": "code",
   "execution_count": 0,
   "metadata": {
    "colab": {
     "base_uri": "https://localhost:8080/",
     "height": 34
    },
    "colab_type": "code",
    "executionInfo": {
     "elapsed": 2263,
     "status": "ok",
     "timestamp": 1578499206351,
     "user": {
      "displayName": "Yun Wu",
      "photoUrl": "",
      "userId": "07058976890337189786"
     },
     "user_tz": -60
    },
    "id": "YbCU78CN4ehq",
    "outputId": "6e24880e-a6a6-4b65-de8e-5ee95d320827"
   },
   "outputs": [
    {
     "data": {
      "text/plain": [
       "[4, 16, 36, 64, 100]"
      ]
     },
     "execution_count": 44,
     "metadata": {
      "tags": []
     },
     "output_type": "execute_result"
    }
   ],
   "source": [
    "[x*x for x in range(1,11) if x%2==0]"
   ]
  },
  {
   "cell_type": "code",
   "execution_count": 0,
   "metadata": {
    "colab": {
     "base_uri": "https://localhost:8080/",
     "height": 34
    },
    "colab_type": "code",
    "executionInfo": {
     "elapsed": 2593,
     "status": "ok",
     "timestamp": 1578499246233,
     "user": {
      "displayName": "Yun Wu",
      "photoUrl": "",
      "userId": "07058976890337189786"
     },
     "user_tz": -60
    },
    "id": "48MCva614oez",
    "outputId": "ac27fcc1-1912-4e0d-dae3-9920ddeef48a"
   },
   "outputs": [
    {
     "data": {
      "text/plain": [
       "['AX', 'AY', 'AZ', 'BX', 'BY', 'BZ', 'CX', 'CY', 'CZ']"
      ]
     },
     "execution_count": 45,
     "metadata": {
      "tags": []
     },
     "output_type": "execute_result"
    }
   ],
   "source": [
    "#两层循环介绍\n",
    "[m+n for m in 'ABC' for n in 'XYZ']"
   ]
  },
  {
   "cell_type": "code",
   "execution_count": 0,
   "metadata": {
    "colab": {},
    "colab_type": "code",
    "id": "2qCgGzjb43xK"
   },
   "outputs": [],
   "source": [
    "#列出当前目录下的所有文件和文件名\n",
    "import os\n",
    "[d for d in os.listdir('.')] #os.listdir可以列出文件和目录"
   ]
  },
  {
   "cell_type": "code",
   "execution_count": 0,
   "metadata": {
    "colab": {
     "base_uri": "https://localhost:8080/",
     "height": 67
    },
    "colab_type": "code",
    "executionInfo": {
     "elapsed": 796,
     "status": "ok",
     "timestamp": 1578499479302,
     "user": {
      "displayName": "Yun Wu",
      "photoUrl": "",
      "userId": "07058976890337189786"
     },
     "user_tz": -60
    },
    "id": "bnYHqrBq5UgH",
    "outputId": "b94e77af-8ec2-4a8f-cd69-a5cfa924182b"
   },
   "outputs": [
    {
     "name": "stdout",
     "output_type": "stream",
     "text": [
      "1 = A\n",
      "2 = B\n",
      "3 = C\n"
     ]
    }
   ],
   "source": [
    "#dict的items()可以同时迭代key和value\n",
    "d = {'1':'A','2':'B','3':'C'}\n",
    "for k,v in d.items():\n",
    "  print(k,'=',v)"
   ]
  },
  {
   "cell_type": "code",
   "execution_count": 0,
   "metadata": {
    "colab": {
     "base_uri": "https://localhost:8080/",
     "height": 34
    },
    "colab_type": "code",
    "executionInfo": {
     "elapsed": 896,
     "status": "ok",
     "timestamp": 1578499545120,
     "user": {
      "displayName": "Yun Wu",
      "photoUrl": "",
      "userId": "07058976890337189786"
     },
     "user_tz": -60
    },
    "id": "PFmlRcf15uRX",
    "outputId": "b8796840-49d1-458d-c072-b2843f992db5"
   },
   "outputs": [
    {
     "data": {
      "text/plain": [
       "['1=A', '2=B', '3=C']"
      ]
     },
     "execution_count": 48,
     "metadata": {
      "tags": []
     },
     "output_type": "execute_result"
    }
   ],
   "source": [
    "#改进\n",
    "d = {'1':'A','2':'B','3':'C'}\n",
    "[k+'='+v for k,v in d.items()]"
   ]
  },
  {
   "cell_type": "code",
   "execution_count": 0,
   "metadata": {
    "colab": {
     "base_uri": "https://localhost:8080/",
     "height": 34
    },
    "colab_type": "code",
    "executionInfo": {
     "elapsed": 806,
     "status": "ok",
     "timestamp": 1578499588345,
     "user": {
      "displayName": "Yun Wu",
      "photoUrl": "",
      "userId": "07058976890337189786"
     },
     "user_tz": -60
    },
    "id": "PeyzyHOU58Z7",
    "outputId": "1d3f07f5-d0f7-4d0a-ec94-70160826ccb5"
   },
   "outputs": [
    {
     "data": {
      "text/plain": [
       "['hello', 'world', 'ibm']"
      ]
     },
     "execution_count": 49,
     "metadata": {
      "tags": []
     },
     "output_type": "execute_result"
    }
   ],
   "source": [
    "L = ['Hello','World','IBM']\n",
    "[s.lower() for s in L]"
   ]
  },
  {
   "cell_type": "code",
   "execution_count": 0,
   "metadata": {
    "colab": {
     "base_uri": "https://localhost:8080/",
     "height": 34
    },
    "colab_type": "code",
    "executionInfo": {
     "elapsed": 1603,
     "status": "ok",
     "timestamp": 1578499739422,
     "user": {
      "displayName": "Yun Wu",
      "photoUrl": "",
      "userId": "07058976890337189786"
     },
     "user_tz": -60
    },
    "id": "wugQRtg76P7P",
    "outputId": "087bf0ee-2691-4c05-a5a9-c02d436e436a"
   },
   "outputs": [
    {
     "name": "stdout",
     "output_type": "stream",
     "text": [
      "['hello', 'world', 'apple']\n"
     ]
    }
   ],
   "source": [
    "#练习\n",
    "L1 = ['Hello','World',18,'Apple',None]\n",
    "L2 = [s.lower() for s in L1 if isinstance(s,str)]\n",
    "print(L2)"
   ]
  },
  {
   "cell_type": "markdown",
   "metadata": {
    "colab_type": "text",
    "id": "V33L_0nD5FhE"
   },
   "source": [
    "## 生成器 (generator)"
   ]
  },
  {
   "cell_type": "markdown",
   "metadata": {},
   "source": [
    "1. 只要把一个列表生成式的[]改成()"
   ]
  },
  {
   "cell_type": "code",
   "execution_count": 32,
   "metadata": {
    "colab": {},
    "colab_type": "code",
    "id": "1PgJLqB75H8F"
   },
   "outputs": [
    {
     "name": "stdout",
     "output_type": "stream",
     "text": [
      "[0, 1, 4, 9, 16, 25, 36, 49, 64, 81]\n",
      "<class 'list'>\n",
      "<generator object <genexpr> at 0x000001A69A5DF780>\n",
      "<class 'generator'>\n"
     ]
    }
   ],
   "source": [
    "L = [x*x for x in range(10)] #列表\n",
    "print(L)\n",
    "print(type(L))\n",
    "g = (x*x for x in range(10)) #生成器\n",
    "print(g)\n",
    "print(type(g))"
   ]
  },
  {
   "cell_type": "code",
   "execution_count": 40,
   "metadata": {
    "colab": {
     "base_uri": "https://localhost:8080/",
     "height": 34
    },
    "colab_type": "code",
    "executionInfo": {
     "elapsed": 1631,
     "status": "ok",
     "timestamp": 1578549911669,
     "user": {
      "displayName": "Yun Wu",
      "photoUrl": "",
      "userId": "07058976890337189786"
     },
     "user_tz": -60
    },
    "id": "NrKyoJ0T5vrx",
    "outputId": "736818fb-9db8-4881-aa85-b9a025de9ea8"
   },
   "outputs": [
    {
     "ename": "StopIteration",
     "evalue": "",
     "output_type": "error",
     "traceback": [
      "\u001b[1;31m---------------------------------------------------------------------------\u001b[0m",
      "\u001b[1;31mStopIteration\u001b[0m                             Traceback (most recent call last)",
      "\u001b[1;32m<ipython-input-40-53823ff706a8>\u001b[0m in \u001b[0;36m<module>\u001b[1;34m\u001b[0m\n\u001b[0;32m      1\u001b[0m \u001b[1;31m#获得下一个返回值\u001b[0m\u001b[1;33m\u001b[0m\u001b[1;33m\u001b[0m\u001b[1;33m\u001b[0m\u001b[0m\n\u001b[1;32m----> 2\u001b[1;33m \u001b[0mnext\u001b[0m\u001b[1;33m(\u001b[0m\u001b[0mg\u001b[0m\u001b[1;33m)\u001b[0m\u001b[1;33m\u001b[0m\u001b[1;33m\u001b[0m\u001b[0m\n\u001b[0m",
      "\u001b[1;31mStopIteration\u001b[0m: "
     ]
    }
   ],
   "source": [
    "#获得下一个返回值\n",
    "next(g)"
   ]
  },
  {
   "cell_type": "markdown",
   "metadata": {
    "colab_type": "text",
    "id": "_-jej3WN6ESu"
   },
   "source": [
    "<font color='red'>generator保存的是算法，每次调用next(g),就能计算出g的下一个元素的值，直到计算到最后一个元素，没有更多的元素时，抛出StopIteration的错误。</font>"
   ]
  },
  {
   "cell_type": "code",
   "execution_count": 39,
   "metadata": {
    "colab": {
     "base_uri": "https://localhost:8080/",
     "height": 185
    },
    "colab_type": "code",
    "executionInfo": {
     "elapsed": 1140,
     "status": "ok",
     "timestamp": 1578550157178,
     "user": {
      "displayName": "Yun Wu",
      "photoUrl": "",
      "userId": "07058976890337189786"
     },
     "user_tz": -60
    },
    "id": "l5j1woLQ6WNB",
    "outputId": "b6251fec-3037-4691-9968-c4d5f96be661"
   },
   "outputs": [
    {
     "name": "stdout",
     "output_type": "stream",
     "text": [
      "0\n",
      "1\n",
      "4\n",
      "9\n"
     ]
    }
   ],
   "source": [
    "#对next()的改进：应用for循环\n",
    "g = (x*x for x in range(10))\n",
    "for n in g:\n",
    "    if n<10:\n",
    "      print(n)"
   ]
  },
  {
   "cell_type": "code",
   "execution_count": 0,
   "metadata": {
    "colab": {
     "base_uri": "https://localhost:8080/",
     "height": 134
    },
    "colab_type": "code",
    "executionInfo": {
     "elapsed": 1114,
     "status": "ok",
     "timestamp": 1578550322726,
     "user": {
      "displayName": "Yun Wu",
      "photoUrl": "",
      "userId": "07058976890337189786"
     },
     "user_tz": -60
    },
    "id": "2bFc1GJV6-Nf",
    "outputId": "6bfc4b33-a7d5-4534-e023-3fa2727f0526"
   },
   "outputs": [
    {
     "name": "stdout",
     "output_type": "stream",
     "text": [
      "1\n",
      "1\n",
      "2\n",
      "3\n",
      "5\n",
      "8\n"
     ]
    },
    {
     "data": {
      "text/plain": [
       "'done'"
      ]
     },
     "execution_count": 11,
     "metadata": {
      "tags": []
     },
     "output_type": "execute_result"
    }
   ],
   "source": [
    "#斐波拉契数列（Fibonacci），除第一个和第二个数外，任意一个数都可由前两个数相加得到\n",
    "def fib(max):\n",
    "  n,a,b = 0,0,1\n",
    "  while n<max:\n",
    "    print(b)\n",
    "    a,b=b,a+b #t=(b,a+b),a=t[0],b=t[1]\n",
    "    n=n+1\n",
    "  return 'done'\n",
    "fib(6)"
   ]
  },
  {
   "cell_type": "code",
   "execution_count": 41,
   "metadata": {
    "colab": {
     "base_uri": "https://localhost:8080/",
     "height": 34
    },
    "colab_type": "code",
    "executionInfo": {
     "elapsed": 1492,
     "status": "ok",
     "timestamp": 1578550867040,
     "user": {
      "displayName": "Yun Wu",
      "photoUrl": "",
      "userId": "07058976890337189786"
     },
     "user_tz": -60
    },
    "id": "tzHiG8aH9Qqg",
    "outputId": "67cb5b7b-e057-4973-c82f-35958b004638"
   },
   "outputs": [
    {
     "data": {
      "text/plain": [
       "<generator object fib at 0x000001A69A5DFD58>"
      ]
     },
     "execution_count": 41,
     "metadata": {},
     "output_type": "execute_result"
    }
   ],
   "source": [
    "#上个例子应用generator\n",
    "def fib(max):\n",
    "  n,a,b = 0,0,1\n",
    "  while n<max:\n",
    "    yield b #重点！如果一个函数中含有yield关键字，那么这个函数不再是一个普通函数，而是generator\n",
    "    a,b=b,a+b #t=(b,a+b),a=t[0],b=t[1]\n",
    "    n=n+1\n",
    "  return 'done'\n",
    "\n",
    "fib(6) #这是一个gemerator"
   ]
  },
  {
   "cell_type": "markdown",
   "metadata": {
    "colab_type": "text",
    "id": "Vkava0GC8Dlf"
   },
   "source": [
    "generator和函数的执行流程不一样。函数是顺序执行，遇到return语句或者最后一行函数语句就返回。而变成generator的函数，在每次调用next()的时候执行，遇到yield语句返回，再次执行时从上次返回的yield语句处继续执行。"
   ]
  },
  {
   "cell_type": "code",
   "execution_count": 49,
   "metadata": {
    "colab": {},
    "colab_type": "code",
    "id": "oTxwJces9xsH"
   },
   "outputs": [],
   "source": [
    "#简单例子，依次返回1,3,5\n",
    "def odd():\n",
    "  print('step 1')\n",
    "  yield 1\n",
    "  print('step 2')\n",
    "  yield(3)\n",
    "  print('step 3')\n",
    "  yield(5)\n",
    "\n",
    "o = odd()"
   ]
  },
  {
   "cell_type": "code",
   "execution_count": 54,
   "metadata": {
    "colab": {
     "base_uri": "https://localhost:8080/",
     "height": 165
    },
    "colab_type": "code",
    "executionInfo": {
     "elapsed": 1343,
     "status": "error",
     "timestamp": 1578551129433,
     "user": {
      "displayName": "Yun Wu",
      "photoUrl": "",
      "userId": "07058976890337189786"
     },
     "user_tz": -60
    },
    "id": "eLy4Zz-f-fi_",
    "outputId": "ebcc1774-ce24-47df-a623-bc095783c1b1"
   },
   "outputs": [
    {
     "ename": "StopIteration",
     "evalue": "",
     "output_type": "error",
     "traceback": [
      "\u001b[1;31m---------------------------------------------------------------------------\u001b[0m",
      "\u001b[1;31mStopIteration\u001b[0m                             Traceback (most recent call last)",
      "\u001b[1;32m<ipython-input-54-ac94be31f4f2>\u001b[0m in \u001b[0;36m<module>\u001b[1;34m\u001b[0m\n\u001b[1;32m----> 1\u001b[1;33m \u001b[0mnext\u001b[0m\u001b[1;33m(\u001b[0m\u001b[0mo\u001b[0m\u001b[1;33m)\u001b[0m\u001b[1;33m\u001b[0m\u001b[1;33m\u001b[0m\u001b[0m\n\u001b[0m",
      "\u001b[1;31mStopIteration\u001b[0m: "
     ]
    }
   ],
   "source": [
    "next(o)"
   ]
  },
  {
   "cell_type": "code",
   "execution_count": 55,
   "metadata": {
    "colab": {
     "base_uri": "https://localhost:8080/",
     "height": 118
    },
    "colab_type": "code",
    "executionInfo": {
     "elapsed": 1968,
     "status": "ok",
     "timestamp": 1578551372718,
     "user": {
      "displayName": "Yun Wu",
      "photoUrl": "",
      "userId": "07058976890337189786"
     },
     "user_tz": -60
    },
    "id": "hKlDHJ7w-904",
    "outputId": "52ca315a-8bbc-4ea5-9cfa-8a4cba62fc24"
   },
   "outputs": [
    {
     "name": "stdout",
     "output_type": "stream",
     "text": [
      "1\n",
      "1\n",
      "2\n",
      "3\n",
      "5\n",
      "8\n"
     ]
    }
   ],
   "source": [
    "#对于fib的例子，直接用for来循环迭代\n",
    "def fib(max):\n",
    "  n,a,b=0,0,1\n",
    "  while n<max:\n",
    "    yield b \n",
    "    a,b = b,a+b\n",
    "    n=n+1\n",
    "  return 'done'\n",
    "\n",
    "for n in fib(6):\n",
    "  print(n) #该方法拿不到返回值"
   ]
  },
  {
   "cell_type": "markdown",
   "metadata": {
    "colab_type": "text",
    "id": "RiEPgJXs_y-H"
   },
   "source": [
    "拿不到generator的返回值怎么办？  \n",
    "如果要拿到返回值，必须捕获StopIteration错误，返回值包含在StopIteration的value中"
   ]
  },
  {
   "cell_type": "code",
   "execution_count": 0,
   "metadata": {
    "colab": {
     "base_uri": "https://localhost:8080/",
     "height": 134
    },
    "colab_type": "code",
    "executionInfo": {
     "elapsed": 2208,
     "status": "ok",
     "timestamp": 1578551668576,
     "user": {
      "displayName": "Yun Wu",
      "photoUrl": "",
      "userId": "07058976890337189786"
     },
     "user_tz": -60
    },
    "id": "Px1yHlfhAHWg",
    "outputId": "773501ca-09eb-4742-8f01-6b60a215c6e1"
   },
   "outputs": [
    {
     "name": "stdout",
     "output_type": "stream",
     "text": [
      "g: 1\n",
      "g: 1\n",
      "g: 2\n",
      "g: 3\n",
      "g: 5\n",
      "g: 8\n",
      "Generator return value: done\n"
     ]
    }
   ],
   "source": [
    "g = fib(6)\n",
    "while True:\n",
    "  try:\n",
    "    x=next(g)\n",
    "    print('g:',x)\n",
    "  except StopIteration as e:\n",
    "    print('Generator return value:',e.value)\n",
    "    break"
   ]
  },
  {
   "cell_type": "code",
   "execution_count": 56,
   "metadata": {
    "colab": {},
    "colab_type": "code",
    "id": "DAuo6X8DA8zP"
   },
   "outputs": [],
   "source": [
    "#练习：杨辉三角\n",
    "def triangles(max):\n",
    "  L=[1]\n",
    "  yield L\n",
    "  n=1\n",
    "  while n<max:\n",
    "    L = [1] + [L[n]+L[n+1] for n in range(len(L)-1)] + [1] #重点关注\n",
    "    yield L \n",
    "    n=n+1\n"
   ]
  },
  {
   "cell_type": "code",
   "execution_count": 58,
   "metadata": {
    "colab": {
     "base_uri": "https://localhost:8080/",
     "height": 185
    },
    "colab_type": "code",
    "executionInfo": {
     "elapsed": 1212,
     "status": "ok",
     "timestamp": 1578553185099,
     "user": {
      "displayName": "Yun Wu",
      "photoUrl": "",
      "userId": "07058976890337189786"
     },
     "user_tz": -60
    },
    "id": "EGSC-sGPEVhS",
    "outputId": "f81e5358-cbff-4ef6-fe5d-ad74a1b19c44"
   },
   "outputs": [
    {
     "name": "stdout",
     "output_type": "stream",
     "text": [
      "[1]\n",
      "[1, 1]\n",
      "[1, 2, 1]\n",
      "[1, 3, 3, 1]\n",
      "[1, 4, 6, 4, 1]\n"
     ]
    }
   ],
   "source": [
    "for m in triangles(5):\n",
    "  print(m)"
   ]
  },
  {
   "cell_type": "markdown",
   "metadata": {
    "colab_type": "text",
    "id": "4hAcDQm2G1zU"
   },
   "source": [
    "## 迭代器"
   ]
  },
  {
   "cell_type": "markdown",
   "metadata": {
    "colab_type": "text",
    "id": "Elz4CnNbG56I"
   },
   "source": [
    "可以直接作用于for循环的数据类型：\n",
    "- 集合数据类型，如list、tuple、set、str等\n",
    "- generator（包括生成器和带yield的generator function）\n",
    "\n",
    "可以直接作用于for循环的对象统称为**可迭代对象**：Iterable"
   ]
  },
  {
   "cell_type": "code",
   "execution_count": 33,
   "metadata": {
    "colab": {
     "base_uri": "https://localhost:8080/",
     "height": 84
    },
    "colab_type": "code",
    "executionInfo": {
     "elapsed": 856,
     "status": "ok",
     "timestamp": 1578555520547,
     "user": {
      "displayName": "Yun Wu",
      "photoUrl": "",
      "userId": "07058976890337189786"
     },
     "user_tz": -60
    },
    "id": "k8GqRxIhG26k",
    "outputId": "8815b52b-aaff-49ea-f182-d4b0837b0fe4"
   },
   "outputs": [
    {
     "name": "stdout",
     "output_type": "stream",
     "text": [
      "True\n",
      "True\n",
      "True\n",
      "True\n"
     ]
    }
   ],
   "source": [
    "#isinstance()判断对象是否为Iterable对象,以下全部都是\n",
    "from collections import Iterable\n",
    "print(isinstance([],Iterable)) #list\n",
    "print(isinstance({},Iterable)) #dict\n",
    "print(isinstance('abc',Iterable)) #str\n",
    "print(isinstance((x for x in range(10)),Iterable)) #generator"
   ]
  },
  {
   "cell_type": "code",
   "execution_count": 34,
   "metadata": {
    "colab": {
     "base_uri": "https://localhost:8080/",
     "height": 84
    },
    "colab_type": "code",
    "executionInfo": {
     "elapsed": 916,
     "status": "ok",
     "timestamp": 1578555621323,
     "user": {
      "displayName": "Yun Wu",
      "photoUrl": "",
      "userId": "07058976890337189786"
     },
     "user_tz": -60
    },
    "id": "NSKwyHo5PnQU",
    "outputId": "a915a47b-3ab0-4f44-fd2d-5f70418c4309"
   },
   "outputs": [
    {
     "name": "stdout",
     "output_type": "stream",
     "text": [
      "False\n",
      "False\n",
      "False\n",
      "True\n"
     ]
    }
   ],
   "source": [
    "#判断是否为Iterator对象，前三个是False，最后一个是True\n",
    "from collections import Iterator\n",
    "print(isinstance([],Iterator)) #List\n",
    "print(isinstance({},Iterator)) #dict\n",
    "print(isinstance('abc',Iterator)) #str\n",
    "print(isinstance((x for x in range(10)),Iterator)) #generator"
   ]
  },
  {
   "cell_type": "markdown",
   "metadata": {
    "colab_type": "text",
    "id": "ZsZ_vv9yQKVz"
   },
   "source": [
    "**Generator是Iterator对象，但list,dict,str只是Iterable，而不是Iterator**"
   ]
  },
  {
   "cell_type": "code",
   "execution_count": 36,
   "metadata": {
    "colab": {
     "base_uri": "https://localhost:8080/",
     "height": 50
    },
    "colab_type": "code",
    "executionInfo": {
     "elapsed": 905,
     "status": "ok",
     "timestamp": 1578555901098,
     "user": {
      "displayName": "Yun Wu",
      "photoUrl": "",
      "userId": "07058976890337189786"
     },
     "user_tz": -60
    },
    "id": "6s7PyGFeQUAo",
    "outputId": "b82c8887-fa3d-437f-bb32-ea421b4a1c93"
   },
   "outputs": [
    {
     "name": "stdout",
     "output_type": "stream",
     "text": [
      "True\n",
      "True\n"
     ]
    }
   ],
   "source": [
    "#把Iterable变为Iterator可以使用iter()函数\n",
    "print(isinstance(iter([]),Iterator))\n",
    "print(isinstance(iter('abc'),Iterator))"
   ]
  },
  {
   "cell_type": "markdown",
   "metadata": {
    "colab_type": "text",
    "id": "1-2sYoAVRCSM"
   },
   "source": [
    "**Summary:**\n",
    "- Python的Iterator对象表示的是一个数据流，Iterator对象可以被next()函数调用并不断返回下一个数据，直到没有数据时抛出StopIteration错误。可以把这个数据流看做是一个有序序列，但我们却不能提前知道序列的长度，只能不断通过next()函数实现按需计算下一个数据，所以Iterator的计算是惰性的，只有在需要返回下一个数据时它才会计算。\n",
    "- Iterator甚至可以表示一个无限大的数据流，例如全体自然数。而使用list是永远不可能存储全体自然数的。\n",
    "\n"
   ]
  },
  {
   "cell_type": "code",
   "execution_count": null,
   "metadata": {},
   "outputs": [],
   "source": []
  }
 ],
 "metadata": {
  "colab": {
   "name": "3高级特性.ipynb",
   "provenance": []
  },
  "kernelspec": {
   "display_name": "Python 3",
   "language": "python",
   "name": "python3"
  },
  "language_info": {
   "codemirror_mode": {
    "name": "ipython",
    "version": 3
   },
   "file_extension": ".py",
   "mimetype": "text/x-python",
   "name": "python",
   "nbconvert_exporter": "python",
   "pygments_lexer": "ipython3",
   "version": "3.6.7"
  }
 },
 "nbformat": 4,
 "nbformat_minor": 1
}
