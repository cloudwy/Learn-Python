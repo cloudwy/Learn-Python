{
 "cells": [
  {
   "cell_type": "markdown",
   "metadata": {},
   "source": [
    "# 面向对象高级编程"
   ]
  },
  {
   "cell_type": "markdown",
   "metadata": {},
   "source": [
    "## 使用\\_\\_slots\\_\\_  \n",
    "用于限制class能添加的属性"
   ]
  },
  {
   "cell_type": "code",
   "execution_count": 46,
   "metadata": {},
   "outputs": [],
   "source": [
    "class Student(object):\n",
    "    pass"
   ]
  },
  {
   "cell_type": "code",
   "execution_count": 47,
   "metadata": {},
   "outputs": [],
   "source": [
    "s = Student()"
   ]
  },
  {
   "cell_type": "code",
   "execution_count": 48,
   "metadata": {},
   "outputs": [
    {
     "name": "stdout",
     "output_type": "stream",
     "text": [
      "Michael\n"
     ]
    }
   ],
   "source": [
    "s.name = 'Michael'  #动态给实例绑定一个属性\n",
    "print(s.name)"
   ]
  },
  {
   "cell_type": "code",
   "execution_count": 49,
   "metadata": {},
   "outputs": [],
   "source": [
    "def set_age(self,age): #定义一个函数作为实例方法\n",
    "    self.age = age"
   ]
  },
  {
   "cell_type": "code",
   "execution_count": 52,
   "metadata": {},
   "outputs": [
    {
     "data": {
      "text/plain": [
       "25"
      ]
     },
     "execution_count": 52,
     "metadata": {},
     "output_type": "execute_result"
    }
   ],
   "source": [
    "from types import MethodType\n",
    "s.set_age = MethodType(set_age,s) #给实例绑定一个方法\n",
    "s.set_age(25) #调用实例方法\n",
    "s.age #测试结果"
   ]
  },
  {
   "cell_type": "code",
   "execution_count": 21,
   "metadata": {},
   "outputs": [
    {
     "ename": "SyntaxError",
     "evalue": "invalid syntax (<ipython-input-21-8ee8c96b2ae5>, line 3)",
     "output_type": "error",
     "traceback": [
      "\u001b[1;36m  File \u001b[1;32m\"<ipython-input-21-8ee8c96b2ae5>\"\u001b[1;36m, line \u001b[1;32m3\u001b[0m\n\u001b[1;33m    >>> s2.set_age(25) # 尝试调用方法\u001b[0m\n\u001b[1;37m     ^\u001b[0m\n\u001b[1;31mSyntaxError\u001b[0m\u001b[1;31m:\u001b[0m invalid syntax\n"
     ]
    }
   ],
   "source": [
    "#但是，给一个实例绑定的方法，对另一个实例是不起作用的：\n",
    "s2 = Student() # 创建新的实例\n",
    ">>> s2.set_age(25) # 尝试调用方法"
   ]
  },
  {
   "cell_type": "markdown",
   "metadata": {},
   "source": [
    "为了给所有实例都绑定方法，可以给class绑定方法："
   ]
  },
  {
   "cell_type": "code",
   "execution_count": 53,
   "metadata": {},
   "outputs": [
    {
     "data": {
      "text/plain": [
       "100"
      ]
     },
     "execution_count": 53,
     "metadata": {},
     "output_type": "execute_result"
    }
   ],
   "source": [
    "def set_score(self,score):\n",
    "    self.score = score\n",
    "    \n",
    "Student.set_score = set_score #不是绑定方法，仅仅是函数调用\n",
    "\n",
    "s.set_score(100)\n",
    "s.score"
   ]
  },
  {
   "cell_type": "code",
   "execution_count": 55,
   "metadata": {},
   "outputs": [
    {
     "data": {
      "text/plain": [
       "25"
      ]
     },
     "execution_count": 55,
     "metadata": {},
     "output_type": "execute_result"
    }
   ],
   "source": [
    "from types import MethodType\n",
    "\n",
    "def set_age(self, age):\n",
    "    self.age = age\n",
    "\n",
    "Student.set_age = MethodType(set_age, Student)  #給类绑定方法\n",
    "s = Student()\n",
    "s.set_age(25)\n",
    "s.age"
   ]
  },
  {
   "cell_type": "code",
   "execution_count": 19,
   "metadata": {},
   "outputs": [
    {
     "data": {
      "text/plain": [
       "100"
      ]
     },
     "execution_count": 19,
     "metadata": {},
     "output_type": "execute_result"
    }
   ],
   "source": []
  },
  {
   "cell_type": "code",
   "execution_count": 23,
   "metadata": {},
   "outputs": [
    {
     "data": {
      "text/plain": [
       "99"
      ]
     },
     "execution_count": 23,
     "metadata": {},
     "output_type": "execute_result"
    }
   ],
   "source": [
    "s2 = Student() \n",
    "s2.set_score(99)\n",
    "s2.score"
   ]
  },
  {
   "cell_type": "markdown",
   "metadata": {},
   "source": [
    "动态语言允许在程序运行的过程中动态给class加上功能，而静态语言很难实现"
   ]
  },
  {
   "cell_type": "markdown",
   "metadata": {},
   "source": [
    "如果我们想要限制实例的属性怎么办？比如只允许对Student实例添加name和age属性  \n",
    "定义\\_\\_slots\\_\\_变量限制class能添加的属性"
   ]
  },
  {
   "cell_type": "code",
   "execution_count": 24,
   "metadata": {},
   "outputs": [],
   "source": [
    "class Student(object):\n",
    "    __slots__ = ('name','age')"
   ]
  },
  {
   "cell_type": "code",
   "execution_count": 26,
   "metadata": {},
   "outputs": [
    {
     "ename": "AttributeError",
     "evalue": "'Student' object has no attribute 'score'",
     "output_type": "error",
     "traceback": [
      "\u001b[1;31m---------------------------------------------------------------------------\u001b[0m",
      "\u001b[1;31mAttributeError\u001b[0m                            Traceback (most recent call last)",
      "\u001b[1;32m<ipython-input-26-cf3c6f716d7c>\u001b[0m in \u001b[0;36m<module>\u001b[1;34m\u001b[0m\n\u001b[0;32m      2\u001b[0m \u001b[0ms\u001b[0m\u001b[1;33m.\u001b[0m\u001b[0mname\u001b[0m \u001b[1;33m=\u001b[0m \u001b[1;34m'Michael'\u001b[0m\u001b[1;33m\u001b[0m\u001b[1;33m\u001b[0m\u001b[0m\n\u001b[0;32m      3\u001b[0m \u001b[0ms\u001b[0m\u001b[1;33m.\u001b[0m\u001b[0mage\u001b[0m \u001b[1;33m=\u001b[0m \u001b[1;36m25\u001b[0m\u001b[1;33m\u001b[0m\u001b[1;33m\u001b[0m\u001b[0m\n\u001b[1;32m----> 4\u001b[1;33m \u001b[0ms\u001b[0m\u001b[1;33m.\u001b[0m\u001b[0mscore\u001b[0m \u001b[1;33m=\u001b[0m \u001b[1;36m99\u001b[0m\u001b[1;33m\u001b[0m\u001b[1;33m\u001b[0m\u001b[0m\n\u001b[0m",
      "\u001b[1;31mAttributeError\u001b[0m: 'Student' object has no attribute 'score'"
     ]
    }
   ],
   "source": [
    "s = Student()\n",
    "s.name = 'Michael'\n",
    "s.age = 25\n",
    "s.score = 99 #由于score不在__slots__中"
   ]
  },
  {
   "cell_type": "markdown",
   "metadata": {},
   "source": [
    "\\_\\_slots\\_\\_仅对当前类实例起作用，对继承的子类是不起作用的"
   ]
  },
  {
   "cell_type": "code",
   "execution_count": 27,
   "metadata": {},
   "outputs": [],
   "source": [
    "class GraduateStudent(Student):\n",
    "    pass\n",
    "g = GraduateStudent()\n",
    "g.score = 100 #可以添加score属性！"
   ]
  },
  {
   "cell_type": "markdown",
   "metadata": {},
   "source": [
    "除非在子类中也定义__slots__，这样，子类实例允许定义的属性就是自身的__slots__加上父类的__slots__。"
   ]
  },
  {
   "cell_type": "code",
   "execution_count": 28,
   "metadata": {},
   "outputs": [],
   "source": [
    "class Student(object):\n",
    "    __slots__ = ('name','age','score')\n",
    "\n",
    "\n",
    "class GraduateStudent(Student):\n",
    "    __slots__ = ('deadline')"
   ]
  },
  {
   "cell_type": "code",
   "execution_count": 30,
   "metadata": {},
   "outputs": [
    {
     "data": {
      "text/plain": [
       "100"
      ]
     },
     "execution_count": 30,
     "metadata": {},
     "output_type": "execute_result"
    }
   ],
   "source": [
    "g1 = GraduateStudent\n",
    "g1.score = 100\n",
    "g1.score"
   ]
  },
  {
   "cell_type": "markdown",
   "metadata": {},
   "source": [
    "## 使用@property"
   ]
  },
  {
   "cell_type": "code",
   "execution_count": 56,
   "metadata": {},
   "outputs": [],
   "source": [
    "s =Student()\n",
    "s.score = 9999 #我们可以随便更改参数score,因为属性是暴露的"
   ]
  },
  {
   "cell_type": "code",
   "execution_count": 58,
   "metadata": {},
   "outputs": [],
   "source": [
    "class Student(object):\n",
    "    def get_score(self): #设置成绩\n",
    "        return self._score\n",
    "    def set_score(self,value): #获取成绩\n",
    "        if not isinstance(value,int):\n",
    "            raise ValueError('score must be an integer!')\n",
    "        if value < 0 or value > 100:\n",
    "            raise ValueError('score must between 0-100!')\n",
    "        self._score = value"
   ]
  },
  {
   "cell_type": "code",
   "execution_count": 64,
   "metadata": {},
   "outputs": [
    {
     "data": {
      "text/plain": [
       "60"
      ]
     },
     "execution_count": 64,
     "metadata": {},
     "output_type": "execute_result"
    }
   ],
   "source": [
    "s = Student()\n",
    "s.set_score(60)\n",
    "s.get_score()"
   ]
  },
  {
   "cell_type": "markdown",
   "metadata": {},
   "source": [
    "以上调用方法的缺点：调用复杂"
   ]
  },
  {
   "cell_type": "markdown",
   "metadata": {},
   "source": [
    "Python内置的\\@property装饰器就是负责把一个方法变成属性调用的："
   ]
  },
  {
   "cell_type": "markdown",
   "metadata": {},
   "source": [
    "**详细讲解property：**"
   ]
  },
  {
   "cell_type": "markdown",
   "metadata": {},
   "source": [
    "可能对这段代码中property毫无头绪，那就去查查官网文件吧    \n",
    "https://docs.python.org/3.6/library/functions.html?highlight=property#property  \n",
    "\n",
    "class property(fget=None, fset=None, fdel=None, doc=None)  \n",
    "    return a property attribute #返回一个property的属性  \n",
    "\n",
    "fget: a function for getting an attribute value #获取属性     \n",
    "fset: a function for setting an attribute value #设置属性   \n",
    "fdel: a function for deleting an attribute value #删除属性   \n",
    "doc: creates a docstring for the attribute  #用于解释语句  "
   ]
  },
  {
   "cell_type": "markdown",
   "metadata": {},
   "source": [
    "    class C:\n",
    "        def __init__(self):\n",
    "            self._x = None\n",
    "        def getx(self):\n",
    "            return self._x\n",
    "        def setx(self, value):\n",
    "            self._x = value\n",
    "        def delx(self):\n",
    "            del self._x\n",
    "\n",
    "        x = property(getx, setx, delx, \"I'm the 'x' property.\")  \n",
    "\n",
    "如果c是C的一个实例，c.x会调用getter，c.x=value会调用setter，del c.x调用deleter。  \n",
    "如果fget存在的话，doc在没有输入的情况下复制fget的docstring，有利于创建只读属性."
   ]
  },
  {
   "cell_type": "markdown",
   "metadata": {},
   "source": [
    "    class Parrot:\n",
    "        def __init__(self):\n",
    "            self._voltage = 100000\n",
    "\n",
    "        @property\n",
    "        def voltage(self):\n",
    "            \"\"\"Get the current voltage.\"\"\"\n",
    "            return self._voltage  \n",
    "        \n",
    "@property装饰器将voltage()方法变成“getter”属性，在这里是一个只读属性，直接复制voltage的docstring “Get the current voltage.”。  "
   ]
  },
  {
   "cell_type": "markdown",
   "metadata": {},
   "source": [
    "A property object has getter, setter, and deleter methods usable as decorators that create a copy of the property with the corresponding accessor function set to the decorated function.  \n",
    "property对象有getter,setter和deleter三种方法，这些方法可以用作装饰器，将访问函数设置成已装饰函数。(翻译待定...)"
   ]
  },
  {
   "cell_type": "markdown",
   "metadata": {},
   "source": [
    "简单例子：  \n",
    "\n",
    "    class C:\n",
    "        def __init__(self):\n",
    "            self._x = None\n",
    "\n",
    "        @property\n",
    "        def x(self):\n",
    "            \"\"\"I'm the 'x' property.\"\"\"\n",
    "            return self._x\n",
    "\n",
    "        @x.setter\n",
    "        def x(self, value):\n",
    "            self._x = value\n",
    "\n",
    "        @x.deleter\n",
    "        def x(self):\n",
    "            del self._x"
   ]
  },
  {
   "cell_type": "code",
   "execution_count": null,
   "metadata": {},
   "outputs": [],
   "source": [
    "class Student(object):\n",
    "    @property\n",
    "    def score(self):\n",
    "        return self._score\n",
    "    \n",
    "    @score.setter #xxx.setter的xxx与property下的方法名字一样，例如这里为score\n",
    "    def score(self,value):\n",
    "        if not isinstance(value,int):\n",
    "            raise ValueError('score must be an integer!')\n",
    "        if value < 0 or value > 100:\n",
    "            raise ValueError('score must between 0-100')\n",
    "        self._score = value"
   ]
  },
  {
   "cell_type": "code",
   "execution_count": 66,
   "metadata": {},
   "outputs": [
    {
     "data": {
      "text/plain": [
       "60"
      ]
     },
     "execution_count": 66,
     "metadata": {},
     "output_type": "execute_result"
    }
   ],
   "source": [
    "s = Student()\n",
    "s.score = 60 #实际转化为s.set_score=60\n",
    "s.score"
   ]
  },
  {
   "cell_type": "markdown",
   "metadata": {},
   "source": [
    "定义只读属性：只定义getter方法，不定义setter方法"
   ]
  },
  {
   "cell_type": "code",
   "execution_count": null,
   "metadata": {},
   "outputs": [],
   "source": [
    "class Student(object):\n",
    "    \n",
    "    @property\n",
    "    def birth(self):  #可读写属性\n",
    "        return self._birth\n",
    "    \n",
    "    @birth.setter\n",
    "    def birth(self,value):\n",
    "        self._birth = value\n",
    "    \n",
    "    @property\n",
    "    def age(self):  #只读属性\n",
    "        return 2015 - self.birth"
   ]
  },
  {
   "cell_type": "markdown",
   "metadata": {},
   "source": [
    "练习：请利用@property给一个Screen对象加上width和height属性，以及一个只读属性resolution"
   ]
  },
  {
   "cell_type": "code",
   "execution_count": null,
   "metadata": {},
   "outputs": [],
   "source": [
    "class Screen(object):\n",
    "    \n",
    "    @property\n",
    "    def width(self):\n",
    "        return self._width\n",
    "    \n",
    "    @width.setter\n",
    "    def width(self,value):\n",
    "        self._width = value\n",
    "        \n",
    "    @property\n",
    "    def height(self):\n",
    "        return self._height\n",
    "    \n",
    "    @height.setter\n",
    "    def height(self,value):\n",
    "        self._height = value\n",
    "        \n",
    "    @property\n",
    "    def resolution(self):\n",
    "        return self._width * self._height"
   ]
  },
  {
   "cell_type": "markdown",
   "metadata": {},
   "source": [
    "## 多重继承"
   ]
  },
  {
   "cell_type": "markdown",
   "metadata": {},
   "source": [
    "举例：  \n",
    "Dog - 狗 - 哺乳动物 - 能跑  \n",
    "Bat - 蝙蝠 - 哺乳动物 - 能飞  \n",
    "Parrot - 鹦鹉 - 鸟类 - 能飞  \n",
    "Ostrich - 鸵鸟 - 鸟类 - 能跑  \n",
    "\n",
    "如果我们想综合动物分类和能力分类，则我们必须使用多重继承"
   ]
  },
  {
   "cell_type": "markdown",
   "metadata": {},
   "source": [
    "1. 先设定各类的层级关系"
   ]
  },
  {
   "cell_type": "code",
   "execution_count": 2,
   "metadata": {},
   "outputs": [],
   "source": [
    "class Animal(object):\n",
    "    pass\n",
    "\n",
    "#大类\n",
    "class Mammal(Animal):  #哺乳动物\n",
    "    pass\n",
    "\n",
    "class Bird(Animal):  #鸟类\n",
    "    pass\n",
    "\n",
    "#各种动物\n",
    "class Dog(Mammal):\n",
    "    pass\n",
    "class Bat(Mammal):\n",
    "    pass\n",
    "class Parrot(Bird):\n",
    "    pass\n",
    "class Ostrich(Bird):\n",
    "    pass"
   ]
  },
  {
   "cell_type": "markdown",
   "metadata": {},
   "source": [
    "2.定义能跑(Runnale)和能飞(Flyable)的功能"
   ]
  },
  {
   "cell_type": "code",
   "execution_count": 3,
   "metadata": {},
   "outputs": [],
   "source": [
    "class Runnable(object):\n",
    "    def run(self):\n",
    "        print(\"Running...\")\n",
    "        \n",
    "class Flyable(object):\n",
    "    def fly(self):\n",
    "        print(\"Flying\")"
   ]
  },
  {
   "cell_type": "markdown",
   "metadata": {},
   "source": [
    "3.给动物加上功能的继承"
   ]
  },
  {
   "cell_type": "code",
   "execution_count": 4,
   "metadata": {},
   "outputs": [],
   "source": [
    "class Dog(Mammal,Runnable):\n",
    "    pass\n",
    "class Bat(Mammal,Flyable):\n",
    "    pass\n",
    "class Parrot(Bird,Flyable):\n",
    "    pass\n",
    "class Ostrich(Bird,Runnable):\n",
    "    pass"
   ]
  },
  {
   "cell_type": "markdown",
   "metadata": {},
   "source": [
    "### Mixln"
   ]
  },
  {
   "cell_type": "markdown",
   "metadata": {},
   "source": [
    "在设计类的继承关系时，通常，主线都是单一继承下来的，例如，Ostrich继承自Bird。但是，如果需要“混入”额外的功能，通过多重继承就可以实现，比如，让Ostrich除了继承自Bird外，再同时继承Runnable。这种多重继承的设计通常称之为MixIn。"
   ]
  },
  {
   "cell_type": "markdown",
   "metadata": {},
   "source": [
    "在设计类的时候，我们优先考虑通过多重继承来组合多个MixIn的功能，而不是设计多层次的复杂的继承关系。"
   ]
  },
  {
   "cell_type": "markdown",
   "metadata": {},
   "source": [
    "应用举例：  \n",
    "网络服务：TCPServer和UDPServer  \n",
    "多进程或多线程模型： ForkingMixIn和ThreadingMixIn  \n",
    "通过组合，就可以提供合适的服务，比如class MyTCPServer(TCPServer,ForkingMixIn) #多进程模式的TCP服务"
   ]
  },
  {
   "cell_type": "markdown",
   "metadata": {},
   "source": [
    "Summary：  \n",
    "- 由于Python允许使用多重继承，因此，MixIn就是一种常见的设计。\n",
    "- 只允许单一继承的语言（如Java）不能使用MixIn的设计"
   ]
  },
  {
   "cell_type": "markdown",
   "metadata": {},
   "source": [
    "## 定制类"
   ]
  },
  {
   "cell_type": "markdown",
   "metadata": {},
   "source": [
    "Python的class中还有许多这样有特殊用途的函数，可以帮助我们定制类。比如\\_\\_slots\\_\\_用于限制class的属性，\\_\\_len()\\_\\_为了让class作用于len()函数。"
   ]
  },
  {
   "cell_type": "markdown",
   "metadata": {},
   "source": [
    "### \\_\\_str\\_\\_"
   ]
  },
  {
   "cell_type": "code",
   "execution_count": 6,
   "metadata": {},
   "outputs": [
    {
     "name": "stdout",
     "output_type": "stream",
     "text": [
      "<__main__.Student object at 0x000001E0384B9E10>\n"
     ]
    }
   ],
   "source": [
    "class Student(object):\n",
    "    def __init__(self,name):\n",
    "        self.name = name\n",
    "print(Student('Michael'))"
   ]
  },
  {
   "cell_type": "markdown",
   "metadata": {},
   "source": [
    "返回：<__main__.Student object at 0x000001E0384B9E10>，很差的可读性"
   ]
  },
  {
   "cell_type": "code",
   "execution_count": 9,
   "metadata": {},
   "outputs": [
    {
     "name": "stdout",
     "output_type": "stream",
     "text": [
      "Student object (name:Michael)\n"
     ]
    }
   ],
   "source": [
    "class Student(object):\n",
    "    def __init__(self,name):\n",
    "        self.name = name\n",
    "    def __str__(self):\n",
    "        return 'Student object (name:%s)'%self.name\n",
    "    \n",
    "print(Student('Michael'))"
   ]
  },
  {
   "cell_type": "markdown",
   "metadata": {},
   "source": [
    "返回：Student object (name:Michael)，容易看出来实例内部的重要数据"
   ]
  },
  {
   "cell_type": "code",
   "execution_count": 10,
   "metadata": {},
   "outputs": [
    {
     "data": {
      "text/plain": [
       "<__main__.Student at 0x1e03854c748>"
      ]
     },
     "execution_count": 10,
     "metadata": {},
     "output_type": "execute_result"
    }
   ],
   "source": [
    "s = Student('Michael')  #定义实例\n",
    "s"
   ]
  },
  {
   "cell_type": "markdown",
   "metadata": {},
   "source": [
    "返回：<__main__.Student at 0x1e03854c748>，不是Student object (name:Michael)  \n",
    "为什么？  \n",
    "没有print调用的不是\\_\\_str\\_\\_(),而是\\_\\_repr\\_\\_(),两者的区别是\\_\\_str\\_\\_()返回用户看到的字符串，而\\_\\_repr\\_\\_返回程序开发者看到的字符串，即为调试而服务的。  \n",
    "解决方法？  \n",
    "再定义一个\\_\\_repr\\_\\_(),内容与\\_\\_str\\_\\_()完全一样 -> 简便方法：\\_\\_repr\\_\\_ = \\_\\_str\\_\\_"
   ]
  },
  {
   "cell_type": "code",
   "execution_count": 14,
   "metadata": {},
   "outputs": [],
   "source": [
    "class Student(object):\n",
    "    def __init__(self,name):\n",
    "        self.name = name\n",
    "    def __str__(self):\n",
    "        return 'Student object (name=%s)' %self.name\n",
    "    __repr__ = __str__"
   ]
  },
  {
   "cell_type": "code",
   "execution_count": 15,
   "metadata": {},
   "outputs": [
    {
     "data": {
      "text/plain": [
       "Student object (name=Michael)"
      ]
     },
     "execution_count": 15,
     "metadata": {},
     "output_type": "execute_result"
    }
   ],
   "source": [
    "s = Student('Michael')  \n",
    "s"
   ]
  },
  {
   "cell_type": "markdown",
   "metadata": {},
   "source": [
    "### \\_\\_iter\\_\\_"
   ]
  },
  {
   "cell_type": "markdown",
   "metadata": {},
   "source": [
    "如果一个类想被用于for ... in循环，类似list或tuple那样，就必须实现一个\\_\\_ite\\_\\_()方法，该方法返回一个**迭代对象**，然后，Python的for循环就会不断调用该迭代对象的\\_\\_next\\_\\_()方法拿到循环的下一个值，直到遇到StopIteration错误时退出循环。"
   ]
  },
  {
   "cell_type": "markdown",
   "metadata": {},
   "source": [
    "举例：斐波那契数列"
   ]
  },
  {
   "cell_type": "code",
   "execution_count": 16,
   "metadata": {},
   "outputs": [],
   "source": [
    "class Fib(object):\n",
    "    def __init__(self):\n",
    "        self.a,self.b = 0,1 #初始值a=0,b=1\n",
    "    def __iter__(self):\n",
    "        return self  #实例本身就是迭代对象，故返回自己\n",
    "    def __next__(self):\n",
    "        self.a,self.b = self.b,self.a+self.b\n",
    "        if self.a > 100: #退出循环条件\n",
    "            raise StopIteration()\n",
    "        return self.a #返回下一个值"
   ]
  },
  {
   "cell_type": "code",
   "execution_count": 17,
   "metadata": {},
   "outputs": [
    {
     "name": "stdout",
     "output_type": "stream",
     "text": [
      "1\n",
      "1\n",
      "2\n",
      "3\n",
      "5\n",
      "8\n",
      "13\n",
      "21\n",
      "34\n",
      "55\n",
      "89\n"
     ]
    }
   ],
   "source": [
    "for n in Fib():\n",
    "    print(n)"
   ]
  },
  {
   "cell_type": "markdown",
   "metadata": {},
   "source": [
    "Fib实例虽然能作用于for循环，看起来和list有点像，但是，把它当成list来使用还是不行，比如，取第5个元素："
   ]
  },
  {
   "cell_type": "code",
   "execution_count": 18,
   "metadata": {},
   "outputs": [
    {
     "ename": "TypeError",
     "evalue": "'Fib' object does not support indexing",
     "output_type": "error",
     "traceback": [
      "\u001b[1;31m---------------------------------------------------------------------------\u001b[0m",
      "\u001b[1;31mTypeError\u001b[0m                                 Traceback (most recent call last)",
      "\u001b[1;32m<ipython-input-18-14290f619470>\u001b[0m in \u001b[0;36m<module>\u001b[1;34m\u001b[0m\n\u001b[1;32m----> 1\u001b[1;33m \u001b[0mFib\u001b[0m\u001b[1;33m(\u001b[0m\u001b[1;33m)\u001b[0m\u001b[1;33m[\u001b[0m\u001b[1;36m5\u001b[0m\u001b[1;33m]\u001b[0m\u001b[1;33m\u001b[0m\u001b[1;33m\u001b[0m\u001b[0m\n\u001b[0m",
      "\u001b[1;31mTypeError\u001b[0m: 'Fib' object does not support indexing"
     ]
    }
   ],
   "source": [
    "Fib()[5]"
   ]
  },
  {
   "cell_type": "markdown",
   "metadata": {},
   "source": [
    "解决方法： \\_\\_gentim\\_\\_"
   ]
  },
  {
   "cell_type": "markdown",
   "metadata": {},
   "source": [
    "### \\_\\_getitem\\_\\_ ， \\_\\_setitem\\_\\_ ， \\_\\_delitem\\_\\_ "
   ]
  },
  {
   "cell_type": "code",
   "execution_count": 26,
   "metadata": {},
   "outputs": [],
   "source": [
    "class Fib(object):\n",
    "    def __getitem__(self,n): #用于出现索引的计算中，比如f[i]\n",
    "        a,b = 1,1\n",
    "        for x in range(n):\n",
    "            a,b = b,a+b\n",
    "        return a"
   ]
  },
  {
   "cell_type": "code",
   "execution_count": 27,
   "metadata": {},
   "outputs": [],
   "source": [
    "f = Fib()"
   ]
  },
  {
   "cell_type": "code",
   "execution_count": 28,
   "metadata": {},
   "outputs": [
    {
     "data": {
      "text/plain": [
       "1"
      ]
     },
     "execution_count": 28,
     "metadata": {},
     "output_type": "execute_result"
    }
   ],
   "source": [
    "f[0]"
   ]
  },
  {
   "cell_type": "code",
   "execution_count": 29,
   "metadata": {},
   "outputs": [
    {
     "data": {
      "text/plain": [
       "[5, 6, 7, 8, 9]"
      ]
     },
     "execution_count": 29,
     "metadata": {},
     "output_type": "execute_result"
    }
   ],
   "source": [
    "#list的切片方法\n",
    "list(range(100))[5:10]"
   ]
  },
  {
   "cell_type": "code",
   "execution_count": 30,
   "metadata": {},
   "outputs": [
    {
     "ename": "TypeError",
     "evalue": "'slice' object cannot be interpreted as an integer",
     "output_type": "error",
     "traceback": [
      "\u001b[1;31m---------------------------------------------------------------------------\u001b[0m",
      "\u001b[1;31mTypeError\u001b[0m                                 Traceback (most recent call last)",
      "\u001b[1;32m<ipython-input-30-41a0d66f862a>\u001b[0m in \u001b[0;36m<module>\u001b[1;34m\u001b[0m\n\u001b[1;32m----> 1\u001b[1;33m \u001b[0mf\u001b[0m\u001b[1;33m[\u001b[0m\u001b[1;36m5\u001b[0m\u001b[1;33m:\u001b[0m\u001b[1;36m10\u001b[0m\u001b[1;33m]\u001b[0m\u001b[1;33m\u001b[0m\u001b[1;33m\u001b[0m\u001b[0m\n\u001b[0m",
      "\u001b[1;32m<ipython-input-26-704a4a0be8ee>\u001b[0m in \u001b[0;36m__getitem__\u001b[1;34m(self, n)\u001b[0m\n\u001b[0;32m      2\u001b[0m     \u001b[1;32mdef\u001b[0m \u001b[0m__getitem__\u001b[0m\u001b[1;33m(\u001b[0m\u001b[0mself\u001b[0m\u001b[1;33m,\u001b[0m\u001b[0mn\u001b[0m\u001b[1;33m)\u001b[0m\u001b[1;33m:\u001b[0m\u001b[1;33m\u001b[0m\u001b[1;33m\u001b[0m\u001b[0m\n\u001b[0;32m      3\u001b[0m         \u001b[0ma\u001b[0m\u001b[1;33m,\u001b[0m\u001b[0mb\u001b[0m \u001b[1;33m=\u001b[0m \u001b[1;36m1\u001b[0m\u001b[1;33m,\u001b[0m\u001b[1;36m1\u001b[0m\u001b[1;33m\u001b[0m\u001b[1;33m\u001b[0m\u001b[0m\n\u001b[1;32m----> 4\u001b[1;33m         \u001b[1;32mfor\u001b[0m \u001b[0mx\u001b[0m \u001b[1;32min\u001b[0m \u001b[0mrange\u001b[0m\u001b[1;33m(\u001b[0m\u001b[0mn\u001b[0m\u001b[1;33m)\u001b[0m\u001b[1;33m:\u001b[0m\u001b[1;33m\u001b[0m\u001b[1;33m\u001b[0m\u001b[0m\n\u001b[0m\u001b[0;32m      5\u001b[0m             \u001b[0ma\u001b[0m\u001b[1;33m,\u001b[0m\u001b[0mb\u001b[0m \u001b[1;33m=\u001b[0m \u001b[0mb\u001b[0m\u001b[1;33m,\u001b[0m\u001b[0ma\u001b[0m\u001b[1;33m+\u001b[0m\u001b[0mb\u001b[0m\u001b[1;33m\u001b[0m\u001b[1;33m\u001b[0m\u001b[0m\n\u001b[0;32m      6\u001b[0m         \u001b[1;32mreturn\u001b[0m \u001b[0ma\u001b[0m\u001b[1;33m\u001b[0m\u001b[1;33m\u001b[0m\u001b[0m\n",
      "\u001b[1;31mTypeError\u001b[0m: 'slice' object cannot be interpreted as an integer"
     ]
    }
   ],
   "source": [
    "f[5:10]"
   ]
  },
  {
   "cell_type": "markdown",
   "metadata": {},
   "source": [
    "f[5:10]报错，是因为\\_\\_getitem\\_\\_()传入的参数可能是整数int，也可能是切片对象slice，我们需要做出判断"
   ]
  },
  {
   "cell_type": "code",
   "execution_count": 31,
   "metadata": {},
   "outputs": [],
   "source": [
    "class Fib(object):\n",
    "    def __getitem__(self,n):\n",
    "        \n",
    "        if isinstance(n,int):    #判断n是否为整数\n",
    "            a,b = 1,1\n",
    "            for x in range(n):\n",
    "                a,b = b,a+b\n",
    "            return a\n",
    "        \n",
    "        if isinstance(n,slice):  #判断n是否为切片\n",
    "            start = n.start\n",
    "            stop = n.stop\n",
    "            if start is None:\n",
    "                start = 0\n",
    "            a,b = 1,1\n",
    "            L = []\n",
    "            for x in range(stop):\n",
    "                if x >= start:\n",
    "                    L.append(a)\n",
    "                a,b = b,a+b\n",
    "            return L\n",
    "            "
   ]
  },
  {
   "cell_type": "code",
   "execution_count": 32,
   "metadata": {},
   "outputs": [
    {
     "data": {
      "text/plain": [
       "[1, 1, 2, 3, 5]"
      ]
     },
     "execution_count": 32,
     "metadata": {},
     "output_type": "execute_result"
    }
   ],
   "source": [
    "f = Fib()\n",
    "f[0:5]"
   ]
  },
  {
   "cell_type": "code",
   "execution_count": 33,
   "metadata": {},
   "outputs": [
    {
     "data": {
      "text/plain": [
       "[1, 1, 2, 3, 5]"
      ]
     },
     "execution_count": 33,
     "metadata": {},
     "output_type": "execute_result"
    }
   ],
   "source": [
    "f[0:5:2] #无法对step做出处理"
   ]
  },
  {
   "cell_type": "markdown",
   "metadata": {},
   "source": [
    "当实例通过 a[index] 这种方式调用的时候，会触发\\_\\_getitem\\_\\_方法; a[index]=value 会触发\\_\\_setitem\\_\\_方法; del a[index]会触发\\_\\_delitem\\_\\_方法。"
   ]
  },
  {
   "cell_type": "code",
   "execution_count": 43,
   "metadata": {},
   "outputs": [],
   "source": [
    "class Tag:\n",
    "    def __init__(self):\n",
    "        self.change={'python':'This is python',\n",
    "                     'php':'PHP is a good language'}\n",
    " \n",
    "    def __getitem__(self, item):\n",
    "        print('调用getitem')\n",
    "        return self.change[item]\n",
    " \n",
    "    def __setitem__(self, key, value):\n",
    "        print('调用setitem')\n",
    "        self.change[key]=value\n",
    " \n",
    "    def __delitem__(self, key):\n",
    "        print('调用delitem')\n",
    "        del self.change[key]\n",
    " \n",
    "a=Tag()"
   ]
  },
  {
   "cell_type": "code",
   "execution_count": 44,
   "metadata": {},
   "outputs": [
    {
     "name": "stdout",
     "output_type": "stream",
     "text": [
      "调用getitem\n"
     ]
    },
    {
     "data": {
      "text/plain": [
       "'PHP is a good language'"
      ]
     },
     "execution_count": 44,
     "metadata": {},
     "output_type": "execute_result"
    }
   ],
   "source": [
    "a['php']"
   ]
  },
  {
   "cell_type": "code",
   "execution_count": 45,
   "metadata": {},
   "outputs": [
    {
     "name": "stdout",
     "output_type": "stream",
     "text": [
      "调用delitem\n"
     ]
    },
    {
     "data": {
      "text/plain": [
       "{'python': 'This is python'}"
      ]
     },
     "execution_count": 45,
     "metadata": {},
     "output_type": "execute_result"
    }
   ],
   "source": [
    "del a['php'] #删除'php':'PHP is a good language'\n",
    "a.change"
   ]
  },
  {
   "cell_type": "code",
   "execution_count": 46,
   "metadata": {},
   "outputs": [
    {
     "name": "stdout",
     "output_type": "stream",
     "text": [
      "调用setitem\n"
     ]
    },
    {
     "data": {
      "text/plain": [
       "{'python': 'Changed'}"
      ]
     },
     "execution_count": 46,
     "metadata": {},
     "output_type": "execute_result"
    }
   ],
   "source": [
    "a['python'] = 'Changed'\n",
    "a.change"
   ]
  },
  {
   "cell_type": "markdown",
   "metadata": {},
   "source": [
    "### \\_\\_getattr\\_\\_"
   ]
  },
  {
   "cell_type": "markdown",
   "metadata": {},
   "source": [
    "调用不存在的属性时，\\_\\_getattr\\_\\_动态返回一个属性。"
   ]
  },
  {
   "cell_type": "code",
   "execution_count": 47,
   "metadata": {},
   "outputs": [],
   "source": [
    "class Student(object):\n",
    "    def __init__(self):\n",
    "        self.name = 'Michael'"
   ]
  },
  {
   "cell_type": "code",
   "execution_count": 48,
   "metadata": {},
   "outputs": [
    {
     "ename": "AttributeError",
     "evalue": "'Student' object has no attribute 'score'",
     "output_type": "error",
     "traceback": [
      "\u001b[1;31m---------------------------------------------------------------------------\u001b[0m",
      "\u001b[1;31mAttributeError\u001b[0m                            Traceback (most recent call last)",
      "\u001b[1;32m<ipython-input-48-ef75c71c2018>\u001b[0m in \u001b[0;36m<module>\u001b[1;34m\u001b[0m\n\u001b[0;32m      1\u001b[0m \u001b[0ms\u001b[0m \u001b[1;33m=\u001b[0m \u001b[0mStudent\u001b[0m\u001b[1;33m(\u001b[0m\u001b[1;33m)\u001b[0m\u001b[1;33m\u001b[0m\u001b[1;33m\u001b[0m\u001b[0m\n\u001b[1;32m----> 2\u001b[1;33m \u001b[0ms\u001b[0m\u001b[1;33m.\u001b[0m\u001b[0mscore\u001b[0m\u001b[1;33m\u001b[0m\u001b[1;33m\u001b[0m\u001b[0m\n\u001b[0m",
      "\u001b[1;31mAttributeError\u001b[0m: 'Student' object has no attribute 'score'"
     ]
    }
   ],
   "source": [
    "s = Student()\n",
    "s.score #没有score属性，因此报错"
   ]
  },
  {
   "cell_type": "code",
   "execution_count": 49,
   "metadata": {},
   "outputs": [],
   "source": [
    "class Student(object):\n",
    "    def __init__(self):\n",
    "        self.name = 'Michael'\n",
    "        \n",
    "    def __getattr__(self,attr):\n",
    "        if attr == 'score':\n",
    "            return 99 #返回整数"
   ]
  },
  {
   "cell_type": "code",
   "execution_count": 50,
   "metadata": {},
   "outputs": [
    {
     "data": {
      "text/plain": [
       "99"
      ]
     },
     "execution_count": 50,
     "metadata": {},
     "output_type": "execute_result"
    }
   ],
   "source": [
    "s = Student()\n",
    "s.score"
   ]
  },
  {
   "cell_type": "code",
   "execution_count": 63,
   "metadata": {},
   "outputs": [],
   "source": [
    "class Student(object):\n",
    "    def __init__(self):\n",
    "        self.name = 'Michael'\n",
    "        \n",
    "    def __getattr__(self,attr):\n",
    "        if attr == 'score':\n",
    "            return lambda:99 #返回函数\n",
    "        raise AttributeError('\\'Student\\' object has no attribute \\'%s\\'' % attr)  #其他属性抛出错误提示"
   ]
  },
  {
   "cell_type": "code",
   "execution_count": 64,
   "metadata": {},
   "outputs": [
    {
     "data": {
      "text/plain": [
       "99"
      ]
     },
     "execution_count": 64,
     "metadata": {},
     "output_type": "execute_result"
    }
   ],
   "source": [
    "s = Student()\n",
    "s.score() #函数调用"
   ]
  },
  {
   "cell_type": "code",
   "execution_count": 66,
   "metadata": {},
   "outputs": [
    {
     "ename": "AttributeError",
     "evalue": "'Student' object has no attribute 'age'",
     "output_type": "error",
     "traceback": [
      "\u001b[1;31m---------------------------------------------------------------------------\u001b[0m",
      "\u001b[1;31mAttributeError\u001b[0m                            Traceback (most recent call last)",
      "\u001b[1;32m<ipython-input-66-d63050e5a1ce>\u001b[0m in \u001b[0;36m<module>\u001b[1;34m\u001b[0m\n\u001b[1;32m----> 1\u001b[1;33m \u001b[0ms\u001b[0m\u001b[1;33m.\u001b[0m\u001b[0mage\u001b[0m \u001b[1;31m#任意调用某个属性会返回None\u001b[0m\u001b[1;33m\u001b[0m\u001b[1;33m\u001b[0m\u001b[0m\n\u001b[0m",
      "\u001b[1;32m<ipython-input-63-90a43a4af84d>\u001b[0m in \u001b[0;36m__getattr__\u001b[1;34m(self, attr)\u001b[0m\n\u001b[0;32m      6\u001b[0m         \u001b[1;32mif\u001b[0m \u001b[0mattr\u001b[0m \u001b[1;33m==\u001b[0m \u001b[1;34m'score'\u001b[0m\u001b[1;33m:\u001b[0m\u001b[1;33m\u001b[0m\u001b[1;33m\u001b[0m\u001b[0m\n\u001b[0;32m      7\u001b[0m             \u001b[1;32mreturn\u001b[0m \u001b[1;32mlambda\u001b[0m\u001b[1;33m:\u001b[0m\u001b[1;36m99\u001b[0m \u001b[1;31m#返回函数\u001b[0m\u001b[1;33m\u001b[0m\u001b[1;33m\u001b[0m\u001b[0m\n\u001b[1;32m----> 8\u001b[1;33m         \u001b[1;32mraise\u001b[0m \u001b[0mAttributeError\u001b[0m\u001b[1;33m(\u001b[0m\u001b[1;34m'\\'Student\\' object has no attribute \\'%s\\''\u001b[0m \u001b[1;33m%\u001b[0m \u001b[0mattr\u001b[0m\u001b[1;33m)\u001b[0m  \u001b[1;31m#其他属性抛出错误提示\u001b[0m\u001b[1;33m\u001b[0m\u001b[1;33m\u001b[0m\u001b[0m\n\u001b[0m",
      "\u001b[1;31mAttributeError\u001b[0m: 'Student' object has no attribute 'age'"
     ]
    }
   ],
   "source": [
    "s.age #若没有错误提示raise,任意调用某个属性会返回None"
   ]
  },
  {
   "cell_type": "markdown",
   "metadata": {},
   "source": [
    "优点： 可以把一个类的所有属性和方法调用全部动态化处理了，不需要任何特殊手段。"
   ]
  },
  {
   "cell_type": "markdown",
   "metadata": {},
   "source": [
    "举个例子：  \n",
    "现在很多网站都搞REST API，比如新浪微博、豆瓣啥的，调用API的URL类似：\n",
    "- http://api.server/user/friends\n",
    "- http://api.server/user/timeline/list  \n",
    "\n",
    "利用完全动态的\\_\\_getattr\\_\\_，我们可以写出一个链式调用："
   ]
  },
  {
   "cell_type": "code",
   "execution_count": 79,
   "metadata": {},
   "outputs": [],
   "source": [
    "class Chain(object):\n",
    "    def __init__(self,path=''):\n",
    "        self._path = path\n",
    "        \n",
    "    def __getattr__(self,path):\n",
    "        return Chain('%s/%s' %(self._path,path))\n",
    "    \n",
    "    def __str__(self):\n",
    "        return self._path\n",
    "    \n",
    "    __repr__ = __str__"
   ]
  },
  {
   "cell_type": "code",
   "execution_count": 80,
   "metadata": {},
   "outputs": [
    {
     "data": {
      "text/plain": [
       "/status/user/timeline"
      ]
     },
     "execution_count": 80,
     "metadata": {},
     "output_type": "execute_result"
    }
   ],
   "source": [
    "Chain().status.user.timeline"
   ]
  },
  {
   "cell_type": "markdown",
   "metadata": {},
   "source": [
    "升级版：  \n",
    "还有些REST API会把参数放到URL中，比如GitHub的API： GET /users/:user/repos  \n",
    "：user需要替换为实际的用户名，比如 Chain().users('michael').repos"
   ]
  },
  {
   "cell_type": "code",
   "execution_count": 10,
   "metadata": {},
   "outputs": [],
   "source": [
    "#方法一： __call__()，优点在于即使不是users，换成其他的也可以运行，不用改代码\n",
    "class Chain:\n",
    "    def __init__(self, path=''):\n",
    "        #print(\"1: \",path)\n",
    "        self._path = path\n",
    "    def __getattr__(self, path):\n",
    "        #print(\"2: \",path)\n",
    "        return Chain('%s/%s' % (self._path, path))\n",
    "    def __call__(self, username): #通过users('Michael')调用__call__\n",
    "        #print(\"3: \",username)\n",
    "        return Chain('%s/%s' % (self._path, username))\n",
    "    def __str__(self):\n",
    "        #print(\"4\")\n",
    "        return self._path\n",
    "    __repr__ = __str__\n"
   ]
  },
  {
   "cell_type": "code",
   "execution_count": 11,
   "metadata": {},
   "outputs": [
    {
     "data": {
      "text/plain": [
       "/users/Michael/repos"
      ]
     },
     "execution_count": 11,
     "metadata": {},
     "output_type": "execute_result"
    }
   ],
   "source": [
    "Chain().users('Michael').repos"
   ]
  },
  {
   "cell_type": "code",
   "execution_count": 16,
   "metadata": {},
   "outputs": [],
   "source": [
    "#方法二: 定义一个users方法\n",
    "class Chain:\n",
    "    def __init__(self, path=''):\n",
    "        self._path = path\n",
    "    def __getattr__(self, path):\n",
    "        return Chain('%s/%s' % (self._path, path))\n",
    "    def users(self, username): #通过定义users属性直接拼接，缺点是如果换成其他名这个就要不停地改\n",
    "        return Chain('%s/%s%s' % (self._path, 'users/',username))\n",
    "    def __str__(self):\n",
    "        return self._path\n",
    "    __repr__ = __str__"
   ]
  },
  {
   "cell_type": "code",
   "execution_count": 17,
   "metadata": {},
   "outputs": [
    {
     "data": {
      "text/plain": [
       "/users/Michael/repos"
      ]
     },
     "execution_count": 17,
     "metadata": {},
     "output_type": "execute_result"
    }
   ],
   "source": [
    "Chain().users('Michael').repos"
   ]
  },
  {
   "cell_type": "code",
   "execution_count": 26,
   "metadata": {},
   "outputs": [],
   "source": [
    "#方法三：在__getattr__中添加条件语句，缺点跟方法二一样\n",
    "class Chain:\n",
    "    def __init__(self, path=''):\n",
    "        self._path = path\n",
    "    def __getattr__(self, path):\n",
    "        if path == 'users':\n",
    "            return lambda name: Chain('%s/%s/%s' % (self._path, path, name))\n",
    "        return Chain('%s/%s' % (self._path, path))\n",
    "    def __str__(self):\n",
    "        return self._path\n",
    "    __repr__ = __str__"
   ]
  },
  {
   "cell_type": "code",
   "execution_count": 27,
   "metadata": {},
   "outputs": [
    {
     "data": {
      "text/plain": [
       "/users/Michael/repos"
      ]
     },
     "execution_count": 27,
     "metadata": {},
     "output_type": "execute_result"
    }
   ],
   "source": [
    "Chain().users('Michael').repos"
   ]
  },
  {
   "cell_type": "markdown",
   "metadata": {},
   "source": [
    "### \\_\\_call\\_\\_  \n",
    "任何类，只需要定义一个\\_\\_call\\_\\_()方法，就可以直接对实例进行调用。"
   ]
  },
  {
   "cell_type": "code",
   "execution_count": 30,
   "metadata": {},
   "outputs": [],
   "source": [
    "class Student(object):\n",
    "    def __init__(self,name):\n",
    "        self.name = name\n",
    "    def __call__(self):\n",
    "        print('My name is %s' % self.name) "
   ]
  },
  {
   "cell_type": "code",
   "execution_count": 31,
   "metadata": {},
   "outputs": [
    {
     "name": "stdout",
     "output_type": "stream",
     "text": [
      "My name is Michael\n"
     ]
    }
   ],
   "source": [
    "s = Student('Michael')\n",
    "s()  #函数调用方式"
   ]
  },
  {
   "cell_type": "markdown",
   "metadata": {},
   "source": [
    "如何判断一个对象是否能被调用呢？  \n",
    "Callable"
   ]
  },
  {
   "cell_type": "code",
   "execution_count": 33,
   "metadata": {},
   "outputs": [
    {
     "data": {
      "text/plain": [
       "True"
      ]
     },
     "execution_count": 33,
     "metadata": {},
     "output_type": "execute_result"
    }
   ],
   "source": [
    "callable(Student('Michael'))  #可调用"
   ]
  },
  {
   "cell_type": "code",
   "execution_count": 34,
   "metadata": {},
   "outputs": [],
   "source": [
    "class Student(object): \n",
    "    def __init__(self,name):\n",
    "        self.name = name"
   ]
  },
  {
   "cell_type": "code",
   "execution_count": 35,
   "metadata": {},
   "outputs": [
    {
     "data": {
      "text/plain": [
       "False"
      ]
     },
     "execution_count": 35,
     "metadata": {},
     "output_type": "execute_result"
    }
   ],
   "source": [
    "callable(Student('Michael')) #不可调用"
   ]
  },
  {
   "cell_type": "markdown",
   "metadata": {},
   "source": [
    "本节介绍的是最常用的几个定制方法，还有很多可定制的方法，请参考Python官方文档：  \n",
    "https://docs.python.org/3/reference/datamodel.html#special-method-names"
   ]
  },
  {
   "cell_type": "markdown",
   "metadata": {},
   "source": [
    "## 使用枚举类"
   ]
  },
  {
   "cell_type": "markdown",
   "metadata": {},
   "source": [
    "定义月份的时候，我们可以用大写变量通过整数来定义，但是缺点是这些常量仍然是变量,隐患是可以被修改。  \n",
    "更好的方法是为这样的枚举类型定义一个class类型，然后每个常量都是class的一个唯一实例。(Enum类)"
   ]
  },
  {
   "cell_type": "code",
   "execution_count": 36,
   "metadata": {},
   "outputs": [],
   "source": [
    "from enum import Enum"
   ]
  },
  {
   "cell_type": "code",
   "execution_count": 37,
   "metadata": {},
   "outputs": [],
   "source": [
    "Month = Enum('Month', ('Jan', 'Feb', 'Mar', 'Apr', 'May', 'Jun', 'Jul', 'Aug', 'Sep', 'Oct', 'Nov', 'Dec'))"
   ]
  },
  {
   "cell_type": "code",
   "execution_count": 38,
   "metadata": {},
   "outputs": [
    {
     "name": "stdout",
     "output_type": "stream",
     "text": [
      "Jan => Month.Jan , 1\n",
      "Feb => Month.Feb , 2\n",
      "Mar => Month.Mar , 3\n",
      "Apr => Month.Apr , 4\n",
      "May => Month.May , 5\n",
      "Jun => Month.Jun , 6\n",
      "Jul => Month.Jul , 7\n",
      "Aug => Month.Aug , 8\n",
      "Sep => Month.Sep , 9\n",
      "Oct => Month.Oct , 10\n",
      "Nov => Month.Nov , 11\n",
      "Dec => Month.Dec , 12\n"
     ]
    }
   ],
   "source": [
    "for name, member in Month.__members__.items():  #枚举Month的所有成员\n",
    "    print(name, '=>', member, ',', member.value) #value属性则是自动赋给成员的int常量，默认从1开始计数"
   ]
  },
  {
   "cell_type": "code",
   "execution_count": 39,
   "metadata": {},
   "outputs": [],
   "source": [
    "#如果需要更精确地控制枚举类型，可以从Enum派生出自定义类\n",
    "from enum import Enum, unique\n",
    "\n",
    "@unique  #@unique装饰器可以帮助我们检查保证没有重复值。\n",
    "class Weekday(Enum):\n",
    "    Sun = 0 # Sun的value被设定为0\n",
    "    Mon = 1\n",
    "    Tue = 2\n",
    "    Wed = 3\n",
    "    Thu = 4\n",
    "    Fri = 5\n",
    "    Sat = 6"
   ]
  },
  {
   "cell_type": "code",
   "execution_count": 47,
   "metadata": {},
   "outputs": [
    {
     "name": "stdout",
     "output_type": "stream",
     "text": [
      "Weekday.Sun\n",
      "Mon\n",
      "1\n",
      "Weekday.Mon\n",
      "Weekday.Mon\n",
      "<Weekday.Mon: 1>\n"
     ]
    }
   ],
   "source": [
    "print(Weekday.Sun)\n",
    "print(Weekday.Mon.name) #成员名称\n",
    "print(Weekday.Mon.value) #用value获得常量\n",
    "print(Weekday['Mon']) #通过成员名来获取成员\n",
    "print(Weekday(1))  #通过成员值来获取成员\n",
    "print(repr(Weekday.Mon))"
   ]
  },
  {
   "cell_type": "markdown",
   "metadata": {},
   "source": [
    "补充材料：  \n",
    "https://segmentfault.com/a/1190000017327003"
   ]
  },
  {
   "cell_type": "markdown",
   "metadata": {},
   "source": [
    "练习：把Student的gender属性改造为枚举类型，可以避免使用字符串："
   ]
  },
  {
   "cell_type": "code",
   "execution_count": 48,
   "metadata": {},
   "outputs": [],
   "source": [
    "from enum import Enum,unique\n",
    "\n",
    "@unique\n",
    "class Gender(Enum):\n",
    "    Male = 0\n",
    "    Female =1\n",
    "    \n",
    "class Student(object):\n",
    "    def __init__(self,name,gender):\n",
    "        self.name = name\n",
    "        self.gender = gender\n",
    "        "
   ]
  },
  {
   "cell_type": "code",
   "execution_count": 49,
   "metadata": {},
   "outputs": [],
   "source": [
    "bart = Student('Bart', Gender.Male)"
   ]
  },
  {
   "cell_type": "code",
   "execution_count": 50,
   "metadata": {},
   "outputs": [
    {
     "data": {
      "text/plain": [
       "<Gender.Male: 0>"
      ]
     },
     "execution_count": 50,
     "metadata": {},
     "output_type": "execute_result"
    }
   ],
   "source": [
    "bart.gender"
   ]
  },
  {
   "cell_type": "markdown",
   "metadata": {},
   "source": [
    "## 使用元类"
   ]
  },
  {
   "cell_type": "markdown",
   "metadata": {},
   "source": [
    "### type()"
   ]
  },
  {
   "cell_type": "markdown",
   "metadata": {},
   "source": [
    "type()函数既可以返回一个对象的类型，又可以创建出新的类型，比如，我们可以通过type()函数创建出Hello类，而无需通过class Hello(object)...的定义"
   ]
  },
  {
   "cell_type": "markdown",
   "metadata": {},
   "source": [
    "要创建一个class对象，type()函数依次传入3个参数：  \n",
    "- class的名称；\n",
    "- 继承的父类集合，注意Python支持多重继承，如果只有一个父类，别忘了tuple的单元素写法；\n",
    "- class的方法名称与函数绑定，这里我们把函数fn绑定到方法名hello上。"
   ]
  },
  {
   "cell_type": "code",
   "execution_count": 52,
   "metadata": {},
   "outputs": [],
   "source": [
    "def fn(self,name='world'):  #定义函数，name可改\n",
    "    print('Hello, %s.' % name)\n",
    "    \n",
    "Hello = type('Hello',(object,),dict(hello=fn))  #创建Hello class"
   ]
  },
  {
   "cell_type": "code",
   "execution_count": 53,
   "metadata": {},
   "outputs": [
    {
     "name": "stdout",
     "output_type": "stream",
     "text": [
      "Hello, world.\n"
     ]
    }
   ],
   "source": [
    "h = Hello()\n",
    "h.hello()"
   ]
  },
  {
   "cell_type": "code",
   "execution_count": 54,
   "metadata": {},
   "outputs": [
    {
     "name": "stdout",
     "output_type": "stream",
     "text": [
      "Hello, Michael.\n"
     ]
    }
   ],
   "source": [
    "h.hello('Michael')"
   ]
  },
  {
   "cell_type": "code",
   "execution_count": 55,
   "metadata": {},
   "outputs": [
    {
     "name": "stdout",
     "output_type": "stream",
     "text": [
      "<class 'type'>\n"
     ]
    }
   ],
   "source": [
    "print(type(Hello))"
   ]
  },
  {
   "cell_type": "markdown",
   "metadata": {},
   "source": [
    "type()函数也允许我们动态创建出类"
   ]
  },
  {
   "cell_type": "markdown",
   "metadata": {},
   "source": [
    "### metaclass  \n",
    "metaclass用于控制类的创建行为，允许创建类或者修改类  \n",
    "创建顺序: metaclass - 类 - 实例"
   ]
  },
  {
   "cell_type": "code",
   "execution_count": 57,
   "metadata": {},
   "outputs": [],
   "source": [
    "# metaclass是类的模板，所以必须从`type`类型派生：\n",
    "class ListMetaclass(type):\n",
    "    def __new__(cls, name, bases, attrs):\n",
    "        attrs['add'] = lambda self, value: self.append(value)  #新增add方法\n",
    "        return type.__new__(cls, name, bases, attrs)"
   ]
  },
  {
   "cell_type": "markdown",
   "metadata": {},
   "source": [
    "__new__()方法接收到的参数依次是：\n",
    "- 当前准备创建的类的对象；\n",
    "- 类的名字；\n",
    "- 类继承的父类集合；\n",
    "- 类的方法集合。"
   ]
  },
  {
   "cell_type": "code",
   "execution_count": 58,
   "metadata": {},
   "outputs": [],
   "source": [
    "#当传入metaclass关键字时，指示python解释器创建Mylist是需要通过ListMetaclass.__new__()来创建\n",
    "class MyList(list, metaclass=ListMetaclass):  \n",
    "    pass"
   ]
  },
  {
   "cell_type": "code",
   "execution_count": 60,
   "metadata": {},
   "outputs": [
    {
     "data": {
      "text/plain": [
       "[1]"
      ]
     },
     "execution_count": 60,
     "metadata": {},
     "output_type": "execute_result"
    }
   ],
   "source": [
    "# 测试是否可以调用add方法\n",
    "L=MyList()\n",
    "L.add(1)\n",
    "L"
   ]
  },
  {
   "cell_type": "markdown",
   "metadata": {},
   "source": [
    "通常情况下,我们可以直接在MyList中定义，这样更简单。 但是ORM就是一个需要通过metaclass修改类定义的典型例子。 ORM全称“Object Relational Mapping”，即对象-关系映射，就是把关系数据库的一行映射为一个对象，也就是一个类对应一个表，这样，写代码更简单，不用直接操作SQL语句。  \n",
    "要编写一个ORM框架，所有的类都只能动态定义，因为只有使用者才能根据表的结构定义出对应的类来。"
   ]
  },
  {
   "cell_type": "markdown",
   "metadata": {},
   "source": [
    "**尝试编写一个ORM框架：**"
   ]
  },
  {
   "cell_type": "markdown",
   "metadata": {},
   "source": [
    "<font color='red'>这个例子不是很理解，往后再来看！！！</font>"
   ]
  },
  {
   "cell_type": "markdown",
   "metadata": {},
   "source": [
    "1. 写调用接口。比如，使用者如果使用这个ORM框架，想定义一个User类来操作对应的数据库表User"
   ]
  },
  {
   "cell_type": "code",
   "execution_count": 69,
   "metadata": {},
   "outputs": [
    {
     "name": "stdout",
     "output_type": "stream",
     "text": [
      "Found model: User\n",
      "Found mapping: id ==> <IntegerField:id>\n",
      "Found mapping: name ==> <StringField:username>\n",
      "Found mapping: email ==> <StringField:email>\n",
      "Found mapping: password ==> <StringField:password>\n",
      "SQL: insert into User (id,username,email,password) values (?,?,?,?)\n",
      "ARGS: [12345, 'Michael', 'test@orm.org', 'my-pwd']\n"
     ]
    }
   ],
   "source": [
    "class User(Model):  #父类Model和属性类型StringField、IntegerField是由ORM框架提供的\n",
    "    #定义类的属性到列的映射\n",
    "    id = IntegerField('id')\n",
    "    name = StringField('username')\n",
    "    email = StringField('email')\n",
    "    password = StringField('password')\n",
    "    \n",
    "#创建一个实例\n",
    "u = User(id=12345,name='Michael',email='test@orm.org',password='my-pwd')\n",
    "#保存到数据库\n",
    "u.save()"
   ]
  },
  {
   "cell_type": "markdown",
   "metadata": {},
   "source": [
    "2. 定义Field类，负责保存数据库表的字段名和字段类型"
   ]
  },
  {
   "cell_type": "code",
   "execution_count": 65,
   "metadata": {},
   "outputs": [],
   "source": [
    "class Field(object):\n",
    "    def __init__(self,name,column_type):  #name-字段名， column_type-字段类型\n",
    "        self.name = name\n",
    "        self.column_type = column_type\n",
    "        \n",
    "    def __str__(self):\n",
    "        return '<%s:%s>' % (self.__class__.__name__,self.name)"
   ]
  },
  {
   "cell_type": "markdown",
   "metadata": {},
   "source": [
    "3. 定义StringField，IntegerField等，这些都继承Field"
   ]
  },
  {
   "cell_type": "code",
   "execution_count": 66,
   "metadata": {},
   "outputs": [],
   "source": [
    "class StringField(Field):\n",
    "    def __init__(self, name):\n",
    "        super(StringField, self).__init__(name, 'varchar(100)')\n",
    "\n",
    "class IntegerField(Field):\n",
    "    def __init__(self, name):\n",
    "        super(IntegerField, self).__init__(name, 'bigint')"
   ]
  },
  {
   "cell_type": "markdown",
   "metadata": {},
   "source": [
    "super() 函数是用于调用父类(超类)的一个方法,解决多重继承问题的。  \n",
    "super(type[, object-or-type])  \n",
    "type - 类  \n",
    "object-or-type - 类，一般是self"
   ]
  },
  {
   "cell_type": "markdown",
   "metadata": {},
   "source": [
    "4. 编写最复杂的ModelMetaclass"
   ]
  },
  {
   "cell_type": "code",
   "execution_count": 67,
   "metadata": {},
   "outputs": [],
   "source": [
    "class ModelMetaclass(type):\n",
    "\n",
    "    def __new__(cls, name, bases, attrs):\n",
    "        if name=='Model':\n",
    "            return type.__new__(cls, name, bases, attrs)\n",
    "        print('Found model: %s' % name)\n",
    "        mappings = dict()\n",
    "        for k, v in attrs.items():\n",
    "            if isinstance(v, Field):\n",
    "                print('Found mapping: %s ==> %s' % (k, v))\n",
    "                mappings[k] = v\n",
    "        for k in mappings.keys():\n",
    "            attrs.pop(k)\n",
    "        attrs['__mappings__'] = mappings # 保存属性和列的映射关系\n",
    "        attrs['__table__'] = name # 假设表名和类名一致\n",
    "        return type.__new__(cls, name, bases, attrs)"
   ]
  },
  {
   "cell_type": "markdown",
   "metadata": {},
   "source": [
    "5. 基类Model"
   ]
  },
  {
   "cell_type": "code",
   "execution_count": 68,
   "metadata": {},
   "outputs": [],
   "source": [
    "class Model(dict, metaclass=ModelMetaclass):\n",
    "\n",
    "    def __init__(self, **kw):\n",
    "        super(Model, self).__init__(**kw)\n",
    "\n",
    "    def __getattr__(self, key):\n",
    "        try:\n",
    "            return self[key]\n",
    "        except KeyError:\n",
    "            raise AttributeError(r\"'Model' object has no attribute '%s'\" % key)\n",
    "\n",
    "    def __setattr__(self, key, value):\n",
    "        self[key] = value\n",
    "\n",
    "    def save(self):\n",
    "        fields = []\n",
    "        params = []\n",
    "        args = []\n",
    "        for k, v in self.__mappings__.items():\n",
    "            fields.append(v.name)\n",
    "            params.append('?')\n",
    "            args.append(getattr(self, k, None))\n",
    "        sql = 'insert into %s (%s) values (%s)' % (self.__table__, ','.join(fields), ','.join(params))\n",
    "        print('SQL: %s' % sql)\n",
    "        print('ARGS: %s' % str(args))"
   ]
  },
  {
   "cell_type": "code",
   "execution_count": null,
   "metadata": {},
   "outputs": [],
   "source": []
  }
 ],
 "metadata": {
  "kernelspec": {
   "display_name": "Python 3",
   "language": "python",
   "name": "python3"
  },
  "language_info": {
   "codemirror_mode": {
    "name": "ipython",
    "version": 3
   },
   "file_extension": ".py",
   "mimetype": "text/x-python",
   "name": "python",
   "nbconvert_exporter": "python",
   "pygments_lexer": "ipython3",
   "version": "3.6.7"
  }
 },
 "nbformat": 4,
 "nbformat_minor": 2
}
