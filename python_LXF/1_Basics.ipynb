{
 "cells": [
  {
   "cell_type": "markdown",
   "metadata": {
    "colab_type": "text",
    "id": "ymju7fOuGP6f"
   },
   "source": [
    "# 第一个程序 - Hello，World"
   ]
  },
  {
   "cell_type": "code",
   "execution_count": 2,
   "metadata": {
    "colab": {
     "base_uri": "https://localhost:8080/",
     "height": 34
    },
    "colab_type": "code",
    "executionInfo": {
     "elapsed": 1054,
     "status": "ok",
     "timestamp": 1578284606000,
     "user": {
      "displayName": "Yun Wu",
      "photoUrl": "",
      "userId": "07058976890337189786"
     },
     "user_tz": -60
    },
    "id": "m4fyOf1OFw5n",
    "outputId": "2bdd1538-1e9e-41de-af93-bbde60cea292"
   },
   "outputs": [
    {
     "name": "stdout",
     "output_type": "stream",
     "text": [
      "hello,world\n"
     ]
    }
   ],
   "source": [
    "print(\"hello,world\")"
   ]
  },
  {
   "cell_type": "code",
   "execution_count": 9,
   "metadata": {
    "colab": {
     "base_uri": "https://localhost:8080/",
     "height": 67
    },
    "colab_type": "code",
    "executionInfo": {
     "elapsed": 741,
     "status": "ok",
     "timestamp": 1578285626879,
     "user": {
      "displayName": "Yun Wu",
      "photoUrl": "",
      "userId": "07058976890337189786"
     },
     "user_tz": -60
    },
    "id": "9MmaZsiLGobo",
    "outputId": "fc371c4b-6e60-44ab-ce88-c0b3192da51d"
   },
   "outputs": [
    {
     "name": "stdout",
     "output_type": "stream",
     "text": [
      "300\n",
      "600\n",
      "100 + 200 = 300\n"
     ]
    }
   ],
   "source": [
    "print(300)\n",
    "print(100+200+300)\n",
    "print('100 + 200 =',100+200)"
   ]
  },
  {
   "cell_type": "code",
   "execution_count": 4,
   "metadata": {
    "colab": {
     "base_uri": "https://localhost:8080/",
     "height": 34
    },
    "colab_type": "code",
    "executionInfo": {
     "elapsed": 759,
     "status": "ok",
     "timestamp": 1578284812811,
     "user": {
      "displayName": "Yun Wu",
      "photoUrl": "",
      "userId": "07058976890337189786"
     },
     "user_tz": -60
    },
    "id": "6eKhN0VRGuur",
    "outputId": "79702bc3-6515-4d4f-a0f2-fdde21ea4fec"
   },
   "outputs": [
    {
     "data": {
      "text/plain": [
       "1024"
      ]
     },
     "execution_count": 4,
     "metadata": {
      "tags": []
     },
     "output_type": "execute_result"
    }
   ],
   "source": [
    "#2的10次方\n",
    "2**10"
   ]
  },
  {
   "cell_type": "code",
   "execution_count": 5,
   "metadata": {
    "colab": {
     "base_uri": "https://localhost:8080/",
     "height": 34
    },
    "colab_type": "code",
    "executionInfo": {
     "elapsed": 775,
     "status": "ok",
     "timestamp": 1578285532908,
     "user": {
      "displayName": "Yun Wu",
      "photoUrl": "",
      "userId": "07058976890337189786"
     },
     "user_tz": -60
    },
    "id": "vKOacJk7JTFv",
    "outputId": "b3576ac3-552d-466d-e9c0-e44e2023dfe0"
   },
   "outputs": [
    {
     "name": "stdout",
     "output_type": "stream",
     "text": [
      "The quick brown fox jumps over the lazy dog\n"
     ]
    }
   ],
   "source": [
    "print('The quick brown fox','jumps over','the lazy dog')"
   ]
  },
  {
   "cell_type": "markdown",
   "metadata": {
    "colab_type": "text",
    "id": "MBc-xuRwJ9gG"
   },
   "source": [
    "**输入函数input()**"
   ]
  },
  {
   "cell_type": "code",
   "execution_count": 14,
   "metadata": {
    "colab": {
     "base_uri": "https://localhost:8080/",
     "height": 34
    },
    "colab_type": "code",
    "executionInfo": {
     "elapsed": 6896,
     "status": "ok",
     "timestamp": 1578285865044,
     "user": {
      "displayName": "Yun Wu",
      "photoUrl": "",
      "userId": "07058976890337189786"
     },
     "user_tz": -60
    },
    "id": "Mpoo6NUbJ8G2",
    "outputId": "0dac3f38-a90e-4de1-914b-a5e00d34cd3f"
   },
   "outputs": [
    {
     "name": "stdout",
     "output_type": "stream",
     "text": [
      "please enter your name: Michael\n"
     ]
    }
   ],
   "source": [
    "name = input('please enter your name: ')"
   ]
  },
  {
   "cell_type": "code",
   "execution_count": 15,
   "metadata": {
    "colab": {
     "base_uri": "https://localhost:8080/",
     "height": 34
    },
    "colab_type": "code",
    "executionInfo": {
     "elapsed": 1169,
     "status": "ok",
     "timestamp": 1578285869246,
     "user": {
      "displayName": "Yun Wu",
      "photoUrl": "",
      "userId": "07058976890337189786"
     },
     "user_tz": -60
    },
    "id": "IwNccO_cKNz9",
    "outputId": "9de5f8b1-dec1-42b2-9199-e12beb376547"
   },
   "outputs": [
    {
     "data": {
      "text/plain": [
       "'Michael'"
      ]
     },
     "execution_count": 15,
     "metadata": {
      "tags": []
     },
     "output_type": "execute_result"
    }
   ],
   "source": [
    "name"
   ]
  },
  {
   "cell_type": "markdown",
   "metadata": {},
   "source": [
    "**输出函数print()**"
   ]
  },
  {
   "cell_type": "code",
   "execution_count": 16,
   "metadata": {
    "colab": {
     "base_uri": "https://localhost:8080/",
     "height": 34
    },
    "colab_type": "code",
    "executionInfo": {
     "elapsed": 804,
     "status": "ok",
     "timestamp": 1578285875334,
     "user": {
      "displayName": "Yun Wu",
      "photoUrl": "",
      "userId": "07058976890337189786"
     },
     "user_tz": -60
    },
    "id": "MsHpvPNEKacX",
    "outputId": "2c9b3638-580e-4ffe-af16-84a26a9034af"
   },
   "outputs": [
    {
     "name": "stdout",
     "output_type": "stream",
     "text": [
      "hello, Michael\n"
     ]
    }
   ],
   "source": [
    "print('hello,',name)"
   ]
  },
  {
   "cell_type": "code",
   "execution_count": 1,
   "metadata": {
    "colab": {
     "base_uri": "https://localhost:8080/",
     "height": 34
    },
    "colab_type": "code",
    "executionInfo": {
     "elapsed": 2040,
     "status": "ok",
     "timestamp": 1578318590260,
     "user": {
      "displayName": "Yun Wu",
      "photoUrl": "",
      "userId": "07058976890337189786"
     },
     "user_tz": -60
    },
    "id": "H07_GGS3HfSI",
    "outputId": "6d36fe03-93b7-4e1c-bc39-8bcd2684e094"
   },
   "outputs": [
    {
     "name": "stdout",
     "output_type": "stream",
     "text": [
      "1024 * 768 =  786432\n"
     ]
    }
   ],
   "source": [
    "print('1024 * 768 = ',1024*768)"
   ]
  },
  {
   "cell_type": "markdown",
   "metadata": {
    "colab_type": "text",
    "id": "j9u3TaJ-IEo1"
   },
   "source": [
    "# Python 基础\n"
   ]
  },
  {
   "cell_type": "markdown",
   "metadata": {
    "colab_type": "text",
    "id": "0z7I1_fg-PGB"
   },
   "source": [
    "## 数据类型  \n",
    "1.整数：包括负整数  \n",
    "2.浮点数  \n",
    "3.字符串  \n",
    "4.布尔值  \n",
    "5.空值"
   ]
  },
  {
   "cell_type": "code",
   "execution_count": 13,
   "metadata": {
    "colab": {
     "base_uri": "https://localhost:8080/",
     "height": 50
    },
    "colab_type": "code",
    "executionInfo": {
     "elapsed": 4267,
     "status": "ok",
     "timestamp": 1578319319770,
     "user": {
      "displayName": "Yun Wu",
      "photoUrl": "",
      "userId": "07058976890337189786"
     },
     "user_tz": -60
    },
    "id": "ISkBc_eZIWzf",
    "outputId": "d784ed69-3aff-41b7-e07a-5dab35f9f5b0"
   },
   "outputs": [
    {
     "name": "stdout",
     "output_type": "stream",
     "text": [
      "please enter an integer: -100\n",
      "100\n"
     ]
    }
   ],
   "source": [
    "#输出某整数的绝对值\n",
    "a = int(input('please enter an integer: ')) #返回字符类型\n",
    "if a >= 0:\n",
    "  print(a)\n",
    "else:\n",
    "  print(-a)"
   ]
  },
  {
   "cell_type": "markdown",
   "metadata": {
    "colab_type": "text",
    "id": "7j6PqdFGKmUH"
   },
   "source": [
    "字符串的表示：\n",
    "- 字符串是以单引号'或双引号\"括起来的任意文本。\n",
    "- 如果单引号本身就是一个字符，可以用双引号括起来。\n",
    "- 用\\转义字符，\\n表示换行,\\t表示制表符\n",
    "- r' '表示内部字符默认不转义"
   ]
  },
  {
   "cell_type": "code",
   "execution_count": 38,
   "metadata": {
    "colab": {
     "base_uri": "https://localhost:8080/",
     "height": 168
    },
    "colab_type": "code",
    "executionInfo": {
     "elapsed": 1454,
     "status": "ok",
     "timestamp": 1578321531621,
     "user": {
      "displayName": "Yun Wu",
      "photoUrl": "",
      "userId": "07058976890337189786"
     },
     "user_tz": -60
    },
    "id": "eRtarHIVKeMX",
    "outputId": "c9ca00a8-70d0-4355-8ba1-b31f92a83225"
   },
   "outputs": [
    {
     "name": "stdout",
     "output_type": "stream",
     "text": [
      "I'm \"OK\"!\n",
      "I'm learning\n",
      "Python\n",
      "\\\t\\\n",
      "\\\\\\t\\\\\n",
      "line1\n",
      "line2\n",
      "line3\n",
      "hello,\\nworld\n"
     ]
    }
   ],
   "source": [
    "#单引号作为字符\n",
    "print('I\\'m \\\"OK\\\"!')\n",
    "print('I\\'m learning\\nPython')\n",
    "#\\\\表示\\,\\t表示制表符，\\\\表示\\\n",
    "print('\\\\\\t\\\\')\n",
    "#用r'' \n",
    "print(r'\\\\\\t\\\\')\n",
    "print('line1\\nline2\\nline3')\n",
    "print(r'''hello,\\nworld''')"
   ]
  },
  {
   "cell_type": "markdown",
   "metadata": {
    "colab_type": "text",
    "id": "6z_UmvL0S2vh"
   },
   "source": [
    "Q:print(r'\\\\\\t\\\\\\')会报错，为什么?  \n",
    "不能以奇数个\\结尾\n",
    "https://docs.python.org/3/faq/design.html#why-can-t-raw-strings-r-strings-end-with-a-backslash\n"
   ]
  },
  {
   "cell_type": "markdown",
   "metadata": {
    "colab_type": "text",
    "id": "JC_J8jCIRGSF"
   },
   "source": [
    "布尔值可以用and、or和not运算。  \n",
    "空值是Python里一个特殊的值，用None表示。None不能理解为0，因为0是有意义的，而None是一个特殊的空值。"
   ]
  },
  {
   "cell_type": "code",
   "execution_count": 35,
   "metadata": {
    "colab": {
     "base_uri": "https://localhost:8080/",
     "height": 50
    },
    "colab_type": "code",
    "executionInfo": {
     "elapsed": 1838,
     "status": "ok",
     "timestamp": 1578321435345,
     "user": {
      "displayName": "Yun Wu",
      "photoUrl": "",
      "userId": "07058976890337189786"
     },
     "user_tz": -60
    },
    "id": "N8nu3En-STtc",
    "outputId": "118a21b6-f06a-4807-ce3b-efeec6616421"
   },
   "outputs": [
    {
     "name": "stdout",
     "output_type": "stream",
     "text": [
      "123\n",
      "ABC\n"
     ]
    }
   ],
   "source": [
    "#动态语言\n",
    "a = 123\n",
    "print(a)\n",
    "a = 'ABC'\n",
    "print(a)\n",
    "#静态语言\n",
    "int a = 123\n",
    "#a='ABC'会报错"
   ]
  },
  {
   "cell_type": "code",
   "execution_count": 39,
   "metadata": {
    "colab": {
     "base_uri": "https://localhost:8080/",
     "height": 50
    },
    "colab_type": "code",
    "executionInfo": {
     "elapsed": 17492,
     "status": "ok",
     "timestamp": 1578321789694,
     "user": {
      "displayName": "Yun Wu",
      "photoUrl": "",
      "userId": "07058976890337189786"
     },
     "user_tz": -60
    },
    "id": "ra1De7t_Tqfk",
    "outputId": "de2f3996-6189-4c7e-81e8-34eef71e3db0"
   },
   "outputs": [
    {
     "name": "stdout",
     "output_type": "stream",
     "text": [
      "10\n",
      "12\n"
     ]
    }
   ],
   "source": [
    "x=10\n",
    "print(x)\n",
    "x=x+2\n",
    "print(x)"
   ]
  },
  {
   "cell_type": "code",
   "execution_count": 41,
   "metadata": {
    "colab": {
     "base_uri": "https://localhost:8080/",
     "height": 50
    },
    "colab_type": "code",
    "executionInfo": {
     "elapsed": 1325,
     "status": "ok",
     "timestamp": 1578321858178,
     "user": {
      "displayName": "Yun Wu",
      "photoUrl": "",
      "userId": "07058976890337189786"
     },
     "user_tz": -60
    },
    "id": "qGluK0EOT5Cj",
    "outputId": "239cdb2a-6545-415f-b54d-739d97ac9f31"
   },
   "outputs": [
    {
     "name": "stdout",
     "output_type": "stream",
     "text": [
      "ABC\n"
     ]
    },
    {
     "data": {
      "text/plain": [
       "str"
      ]
     },
     "execution_count": 41,
     "metadata": {
      "tags": []
     },
     "output_type": "execute_result"
    }
   ],
   "source": [
    "a = 'ABC'\n",
    "b = a\n",
    "a = 'XYZ'\n",
    "print(b)\n",
    "type(b)"
   ]
  },
  {
   "cell_type": "code",
   "execution_count": 44,
   "metadata": {
    "colab": {
     "base_uri": "https://localhost:8080/",
     "height": 67
    },
    "colab_type": "code",
    "executionInfo": {
     "elapsed": 1452,
     "status": "ok",
     "timestamp": 1578322024831,
     "user": {
      "displayName": "Yun Wu",
      "photoUrl": "",
      "userId": "07058976890337189786"
     },
     "user_tz": -60
    },
    "id": "s__caBa1UV5d",
    "outputId": "f8a1b5ea-7394-4fdc-a3f6-1a03d8367bc5"
   },
   "outputs": [
    {
     "name": "stdout",
     "output_type": "stream",
     "text": [
      "3.3333333333333335\n",
      "3\n",
      "1\n"
     ]
    }
   ],
   "source": [
    "# /除法运算结果是浮点数\n",
    "# //地板除是整数\n",
    "# %取余数\n",
    "print(10/3)\n",
    "print(10//3)\n",
    "print(10%3)"
   ]
  },
  {
   "cell_type": "code",
   "execution_count": 47,
   "metadata": {
    "colab": {
     "base_uri": "https://localhost:8080/",
     "height": 134
    },
    "colab_type": "code",
    "executionInfo": {
     "elapsed": 1371,
     "status": "ok",
     "timestamp": 1578322777302,
     "user": {
      "displayName": "Yun Wu",
      "photoUrl": "",
      "userId": "07058976890337189786"
     },
     "user_tz": -60
    },
    "id": "2xCrKil0VR6W",
    "outputId": "fe97e537-bdaf-4609-b8ff-0e56b5f59864"
   },
   "outputs": [
    {
     "name": "stdout",
     "output_type": "stream",
     "text": [
      "123\n",
      "456.789\n",
      "Hello,world\n",
      "Hello，\\'Adam\\'\n",
      "Hello,\"Bart\"\n",
      "Hello,\n",
      "Lisa!\n"
     ]
    }
   ],
   "source": [
    "print(123)\n",
    "print(456.789)\n",
    "print('Hello,world')\n",
    "print(r'Hello，\\'Adam\\'')\n",
    "print(r'Hello,\"Bart\"')\n",
    "print(r'''Hello,\n",
    "Lisa!''')"
   ]
  },
  {
   "cell_type": "markdown",
   "metadata": {
    "colab_type": "text",
    "id": "cfq82jwuX852"
   },
   "source": [
    "\n",
    "\n",
    "*   Unicode把所有语言都统一到一套编码里，最常用的是用两个字节表示一个字符。\n",
    "*   UTF-8是可变长编码，可以节约存储空间\n",
    "\n"
   ]
  },
  {
   "cell_type": "code",
   "execution_count": 51,
   "metadata": {
    "colab": {
     "base_uri": "https://localhost:8080/",
     "height": 67
    },
    "colab_type": "code",
    "executionInfo": {
     "elapsed": 1647,
     "status": "ok",
     "timestamp": 1578323095538,
     "user": {
      "displayName": "Yun Wu",
      "photoUrl": "",
      "userId": "07058976890337189786"
     },
     "user_tz": -60
    },
    "id": "-5iVeh18YhoN",
    "outputId": "983ae529-45eb-4d19-981a-43c5851628ae"
   },
   "outputs": [
    {
     "name": "stdout",
     "output_type": "stream",
     "text": [
      "65\n",
      "20013\n",
      "B\n"
     ]
    }
   ],
   "source": [
    "print(ord('A'))\n",
    "print(ord('中'))\n",
    "print(chr(66))"
   ]
  },
  {
   "cell_type": "markdown",
   "metadata": {
    "colab_type": "text",
    "id": "2YlKS3oxY8sK"
   },
   "source": [
    "由于Python的字符串类型是str，在内存中以Unicode表示，一个字符对应若干个字节。如果要在网络上传输，或者保存到磁盘上，就需要把str变为以字节为单位的bytes。"
   ]
  },
  {
   "cell_type": "code",
   "execution_count": 61,
   "metadata": {
    "colab": {
     "base_uri": "https://localhost:8080/",
     "height": 118
    },
    "colab_type": "code",
    "executionInfo": {
     "elapsed": 2109,
     "status": "ok",
     "timestamp": 1578323912340,
     "user": {
      "displayName": "Yun Wu",
      "photoUrl": "",
      "userId": "07058976890337189786"
     },
     "user_tz": -60
    },
    "id": "CUWUx6CuZxpd",
    "outputId": "7e601fea-cec4-4af5-9508-f6ed07b41902"
   },
   "outputs": [
    {
     "name": "stdout",
     "output_type": "stream",
     "text": [
      "ABC\n",
      "b'ABC'\n",
      "ABC\n",
      "中文\n",
      "3\n",
      "3\n"
     ]
    }
   ],
   "source": [
    "#区分以下两个\n",
    "x = 'ABC'\n",
    "print(x)\n",
    "x = b'ABC'\n",
    "print(x)\n",
    "print(b'ABC'.decode('ascii'))\n",
    "print(b'\\xe4\\xb8\\xad\\xe6\\x96\\x87'.decode('utf-8',errors='ignore'))\n",
    "print(len('ABC')) #计算字符数\n",
    "print(len(b'ABC')) #计算字节数"
   ]
  },
  {
   "cell_type": "code",
   "execution_count": 0,
   "metadata": {
    "colab": {},
    "colab_type": "code",
    "id": "BVFlDfhDcJBm"
   },
   "outputs": [],
   "source": [
    "#源代码开头加入\n",
    "#!/usr/bin/env python3\n",
    "# -*- coding: utf-8 -*-"
   ]
  },
  {
   "cell_type": "code",
   "execution_count": 69,
   "metadata": {
    "colab": {
     "base_uri": "https://localhost:8080/",
     "height": 101
    },
    "colab_type": "code",
    "executionInfo": {
     "elapsed": 936,
     "status": "ok",
     "timestamp": 1578324434408,
     "user": {
      "displayName": "Yun Wu",
      "photoUrl": "",
      "userId": "07058976890337189786"
     },
     "user_tz": -60
    },
    "id": "BKasql2mcTu2",
    "outputId": "3fe820e0-d3e6-4f02-a35c-4bed796315ab"
   },
   "outputs": [
    {
     "name": "stdout",
     "output_type": "stream",
     "text": [
      "Hello,world\n",
      "Hi,Michael,you have $100000.\n",
      " 3- 1\n",
      "3.14\n"
     ]
    },
    {
     "data": {
      "text/plain": [
       "'Hello, 小明, 成绩提升了 17.1%'"
      ]
     },
     "execution_count": 69,
     "metadata": {
      "tags": []
     },
     "output_type": "execute_result"
    }
   ],
   "source": [
    "#格式化 %d 整数 %f 浮点数 %s 字符串 %x 十六进制整数\n",
    "print('Hello,%s'%'world')\n",
    "print('Hi,%s,you have $%d.'%('Michael',100000))\n",
    "print('%2d-%2d' % (3,1))\n",
    "print('%.2f' % 3.1415926)\n",
    "#format()\n",
    "'Hello, {0}, 成绩提升了 {1:.1f}%'.format('小明', 17.125)"
   ]
  },
  {
   "cell_type": "markdown",
   "metadata": {
    "colab_type": "text",
    "id": "PbFJx9I7yWV_"
   },
   "source": [
    "## List"
   ]
  },
  {
   "cell_type": "code",
   "execution_count": 1,
   "metadata": {
    "colab": {
     "base_uri": "https://localhost:8080/",
     "height": 34
    },
    "colab_type": "code",
    "executionInfo": {
     "elapsed": 1089,
     "status": "ok",
     "timestamp": 1578363979038,
     "user": {
      "displayName": "Yun Wu",
      "photoUrl": "",
      "userId": "07058976890337189786"
     },
     "user_tz": -60
    },
    "id": "GtPG4aBhegJc",
    "outputId": "cef617fa-d27e-4e6a-9e1e-86c51d7acd7a"
   },
   "outputs": [
    {
     "data": {
      "text/plain": [
       "['Michael', 'Bob', 'Tracy']"
      ]
     },
     "execution_count": 1,
     "metadata": {
      "tags": []
     },
     "output_type": "execute_result"
    }
   ],
   "source": [
    "classmates = ['Michael','Bob','Tracy']\n",
    "classmates"
   ]
  },
  {
   "cell_type": "code",
   "execution_count": 2,
   "metadata": {
    "colab": {
     "base_uri": "https://localhost:8080/",
     "height": 34
    },
    "colab_type": "code",
    "executionInfo": {
     "elapsed": 1203,
     "status": "ok",
     "timestamp": 1578363999508,
     "user": {
      "displayName": "Yun Wu",
      "photoUrl": "",
      "userId": "07058976890337189786"
     },
     "user_tz": -60
    },
    "id": "q7nkjA4T0yDu",
    "outputId": "8a36e9af-ecd0-4b31-8782-65aaf2583dfb"
   },
   "outputs": [
    {
     "data": {
      "text/plain": [
       "3"
      ]
     },
     "execution_count": 2,
     "metadata": {
      "tags": []
     },
     "output_type": "execute_result"
    }
   ],
   "source": [
    "len(classmates)"
   ]
  },
  {
   "cell_type": "code",
   "execution_count": 5,
   "metadata": {
    "colab": {
     "base_uri": "https://localhost:8080/",
     "height": 34
    },
    "colab_type": "code",
    "executionInfo": {
     "elapsed": 1063,
     "status": "ok",
     "timestamp": 1578364117161,
     "user": {
      "displayName": "Yun Wu",
      "photoUrl": "",
      "userId": "07058976890337189786"
     },
     "user_tz": -60
    },
    "id": "DZIW2Pww02VX",
    "outputId": "17af1748-5ebd-4c57-c642-1a5f26d10369"
   },
   "outputs": [
    {
     "data": {
      "text/plain": [
       "'Michael'"
      ]
     },
     "execution_count": 5,
     "metadata": {
      "tags": []
     },
     "output_type": "execute_result"
    }
   ],
   "source": [
    "#取第一个\n",
    "classmates[0]"
   ]
  },
  {
   "cell_type": "code",
   "execution_count": 6,
   "metadata": {
    "colab": {
     "base_uri": "https://localhost:8080/",
     "height": 34
    },
    "colab_type": "code",
    "executionInfo": {
     "elapsed": 1101,
     "status": "ok",
     "timestamp": 1578364134517,
     "user": {
      "displayName": "Yun Wu",
      "photoUrl": "",
      "userId": "07058976890337189786"
     },
     "user_tz": -60
    },
    "id": "gjeQyiim1UKV",
    "outputId": "3053cd14-3008-4b4b-c6c7-3e7330dfe0e4"
   },
   "outputs": [
    {
     "data": {
      "text/plain": [
       "'Tracy'"
      ]
     },
     "execution_count": 6,
     "metadata": {
      "tags": []
     },
     "output_type": "execute_result"
    }
   ],
   "source": [
    "#取最后一个\n",
    "classmates[-1]"
   ]
  },
  {
   "cell_type": "code",
   "execution_count": 9,
   "metadata": {
    "colab": {
     "base_uri": "https://localhost:8080/",
     "height": 34
    },
    "colab_type": "code",
    "executionInfo": {
     "elapsed": 910,
     "status": "ok",
     "timestamp": 1578364192322,
     "user": {
      "displayName": "Yun Wu",
      "photoUrl": "",
      "userId": "07058976890337189786"
     },
     "user_tz": -60
    },
    "id": "2xBrcTe11dFO",
    "outputId": "eecb88e3-dd90-4ab3-dcab-cc5ad1708d8d"
   },
   "outputs": [
    {
     "data": {
      "text/plain": [
       "['Michael', 'Bob', 'Tracy', 'Adam', 'Adam', 'Adam']"
      ]
     },
     "execution_count": 9,
     "metadata": {
      "tags": []
     },
     "output_type": "execute_result"
    }
   ],
   "source": [
    "#在末尾插入一个元素\n",
    "classmates.append('Adam')\n",
    "classmates"
   ]
  },
  {
   "cell_type": "code",
   "execution_count": 10,
   "metadata": {
    "colab": {
     "base_uri": "https://localhost:8080/",
     "height": 34
    },
    "colab_type": "code",
    "executionInfo": {
     "elapsed": 1084,
     "status": "ok",
     "timestamp": 1578364247884,
     "user": {
      "displayName": "Yun Wu",
      "photoUrl": "",
      "userId": "07058976890337189786"
     },
     "user_tz": -60
    },
    "id": "tp7B6JOM1pSX",
    "outputId": "3bea691b-6fae-4b70-a722-94229e7c0478"
   },
   "outputs": [
    {
     "data": {
      "text/plain": [
       "['Michael', 'Jack', 'Bob', 'Tracy', 'Adam', 'Adam', 'Adam']"
      ]
     },
     "execution_count": 10,
     "metadata": {
      "tags": []
     },
     "output_type": "execute_result"
    }
   ],
   "source": [
    "#把元素插入到指定的位置\n",
    "classmates.insert(1,'Jack')\n",
    "classmates"
   ]
  },
  {
   "cell_type": "code",
   "execution_count": 11,
   "metadata": {
    "colab": {
     "base_uri": "https://localhost:8080/",
     "height": 34
    },
    "colab_type": "code",
    "executionInfo": {
     "elapsed": 1122,
     "status": "ok",
     "timestamp": 1578364283226,
     "user": {
      "displayName": "Yun Wu",
      "photoUrl": "",
      "userId": "07058976890337189786"
     },
     "user_tz": -60
    },
    "id": "y-OLqGdo10Q9",
    "outputId": "e64fffc1-502d-46f0-98f6-73e6e60ae318"
   },
   "outputs": [
    {
     "data": {
      "text/plain": [
       "['Michael', 'Jack', 'Bob', 'Tracy', 'Adam', 'Adam']"
      ]
     },
     "execution_count": 11,
     "metadata": {
      "tags": []
     },
     "output_type": "execute_result"
    }
   ],
   "source": [
    "#删除末尾元素\n",
    "classmates.pop()\n",
    "classmates"
   ]
  },
  {
   "cell_type": "code",
   "execution_count": 12,
   "metadata": {
    "colab": {
     "base_uri": "https://localhost:8080/",
     "height": 34
    },
    "colab_type": "code",
    "executionInfo": {
     "elapsed": 1097,
     "status": "ok",
     "timestamp": 1578364368996,
     "user": {
      "displayName": "Yun Wu",
      "photoUrl": "",
      "userId": "07058976890337189786"
     },
     "user_tz": -60
    },
    "id": "u1MzBdOj17gu",
    "outputId": "b3264038-4699-448f-ac9b-b779d3d21fac"
   },
   "outputs": [
    {
     "data": {
      "text/plain": [
       "['Michael', 'Bob', 'Tracy', 'Adam', 'Adam']"
      ]
     },
     "execution_count": 12,
     "metadata": {
      "tags": []
     },
     "output_type": "execute_result"
    }
   ],
   "source": [
    "#删除指定位置的元素\n",
    "classmates.pop(1)\n",
    "classmates"
   ]
  },
  {
   "cell_type": "code",
   "execution_count": 13,
   "metadata": {
    "colab": {
     "base_uri": "https://localhost:8080/",
     "height": 34
    },
    "colab_type": "code",
    "executionInfo": {
     "elapsed": 1099,
     "status": "ok",
     "timestamp": 1578364493349,
     "user": {
      "displayName": "Yun Wu",
      "photoUrl": "",
      "userId": "07058976890337189786"
     },
     "user_tz": -60
    },
    "id": "tqr2dIkC2kvb",
    "outputId": "456355b7-e258-41c7-d99b-0cf08ddd9c9c"
   },
   "outputs": [
    {
     "data": {
      "text/plain": [
       "['Michael', 'Sarah', 'Tracy', 'Adam', 'Adam']"
      ]
     },
     "execution_count": 13,
     "metadata": {
      "tags": []
     },
     "output_type": "execute_result"
    }
   ],
   "source": [
    "#直接赋予某个元素的值\n",
    "classmates[1] = 'Sarah'\n",
    "classmates"
   ]
  },
  {
   "cell_type": "code",
   "execution_count": 17,
   "metadata": {
    "colab": {
     "base_uri": "https://localhost:8080/",
     "height": 34
    },
    "colab_type": "code",
    "executionInfo": {
     "elapsed": 1102,
     "status": "ok",
     "timestamp": 1578364674979,
     "user": {
      "displayName": "Yun Wu",
      "photoUrl": "",
      "userId": "07058976890337189786"
     },
     "user_tz": -60
    },
    "id": "QGe6NAOm26rw",
    "outputId": "0214d609-47e4-4be6-913f-90cdfc5d9d3b"
   },
   "outputs": [
    {
     "data": {
      "text/plain": [
       "'asp'"
      ]
     },
     "execution_count": 17,
     "metadata": {
      "tags": []
     },
     "output_type": "execute_result"
    }
   ],
   "source": [
    "s = ['python','java',['asp','php'],'scheme']\n",
    "len(s)\n",
    "#取出'asp'\n",
    "s[2][0]"
   ]
  },
  {
   "cell_type": "code",
   "execution_count": 1,
   "metadata": {},
   "outputs": [
    {
     "data": {
      "text/plain": [
       "1"
      ]
     },
     "execution_count": 1,
     "metadata": {},
     "output_type": "execute_result"
    }
   ],
   "source": [
    "#查找某个元素的索引\n",
    "s=['1','2','3','4']\n",
    "s.index('2')"
   ]
  },
  {
   "cell_type": "markdown",
   "metadata": {
    "colab_type": "text",
    "id": "cR1c10ZP3cYj"
   },
   "source": [
    "## Tuple"
   ]
  },
  {
   "cell_type": "markdown",
   "metadata": {
    "colab_type": "text",
    "id": "Vz4ESROP3pib"
   },
   "source": [
    "\n",
    "\n",
    "*   一旦初始化就不能修改，没有append()，insert()这样的方法。\n",
    "*   优点是更安全\n",
    "\n"
   ]
  },
  {
   "cell_type": "code",
   "execution_count": 18,
   "metadata": {
    "colab": {
     "base_uri": "https://localhost:8080/",
     "height": 34
    },
    "colab_type": "code",
    "executionInfo": {
     "elapsed": 1092,
     "status": "ok",
     "timestamp": 1578365027854,
     "user": {
      "displayName": "Yun Wu",
      "photoUrl": "",
      "userId": "07058976890337189786"
     },
     "user_tz": -60
    },
    "id": "5r_cfx703hwj",
    "outputId": "16c86bf6-c9a4-41a5-baa3-718eeb67fdbf"
   },
   "outputs": [
    {
     "data": {
      "text/plain": [
       "('Michael', 'Bob', 'Tracy')"
      ]
     },
     "execution_count": 18,
     "metadata": {
      "tags": []
     },
     "output_type": "execute_result"
    }
   ],
   "source": [
    "classmates = ('Michael','Bob','Tracy')\n",
    "classmates"
   ]
  },
  {
   "cell_type": "code",
   "execution_count": 0,
   "metadata": {
    "colab": {},
    "colab_type": "code",
    "id": "10MvFJXC4x5Z"
   },
   "outputs": [],
   "source": [
    "#定义tuple中只有1这个数\n",
    "#错误：t = (1) 定义的是1这个数，而不是tuple\n",
    "#python规定，只有一个元素的tuple必须加一个逗号，\n",
    "t = (1,)"
   ]
  },
  {
   "cell_type": "code",
   "execution_count": 23,
   "metadata": {
    "colab": {
     "base_uri": "https://localhost:8080/",
     "height": 34
    },
    "colab_type": "code",
    "executionInfo": {
     "elapsed": 1150,
     "status": "ok",
     "timestamp": 1578365499735,
     "user": {
      "displayName": "Yun Wu",
      "photoUrl": "",
      "userId": "07058976890337189786"
     },
     "user_tz": -60
    },
    "id": "cBy-RR0N6d_i",
    "outputId": "ed33b2f0-4884-4692-8e15-8fb19304a199"
   },
   "outputs": [
    {
     "data": {
      "text/plain": [
       "()"
      ]
     },
     "execution_count": 23,
     "metadata": {
      "tags": []
     },
     "output_type": "execute_result"
    }
   ],
   "source": [
    "# 定义一个空tuple\n",
    "t=()\n",
    "t"
   ]
  },
  {
   "cell_type": "code",
   "execution_count": 20,
   "metadata": {
    "colab": {
     "base_uri": "https://localhost:8080/",
     "height": 34
    },
    "colab_type": "code",
    "executionInfo": {
     "elapsed": 1084,
     "status": "ok",
     "timestamp": 1578365292949,
     "user": {
      "displayName": "Yun Wu",
      "photoUrl": "",
      "userId": "07058976890337189786"
     },
     "user_tz": -60
    },
    "id": "loVq3UD25QLd",
    "outputId": "45bb5fbe-eccd-4632-a801-fd4f3c793364"
   },
   "outputs": [
    {
     "data": {
      "text/plain": [
       "('a', 'b', ['A', 'B'])"
      ]
     },
     "execution_count": 20,
     "metadata": {
      "tags": []
     },
     "output_type": "execute_result"
    }
   ],
   "source": [
    "#“可变\"的tuple,实质是list可变，而不是tuple\n",
    "t = ('a','b',['C','D'])\n",
    "t[2][0] = 'A'\n",
    "t[2][1] = 'B'\n",
    "t"
   ]
  },
  {
   "cell_type": "code",
   "execution_count": 22,
   "metadata": {
    "colab": {
     "base_uri": "https://localhost:8080/",
     "height": 67
    },
    "colab_type": "code",
    "executionInfo": {
     "elapsed": 931,
     "status": "ok",
     "timestamp": 1578365388822,
     "user": {
      "displayName": "Yun Wu",
      "photoUrl": "",
      "userId": "07058976890337189786"
     },
     "user_tz": -60
    },
    "id": "Je5dgZ6_5059",
    "outputId": "333af1c9-85d5-4934-ff7c-41b224358b40"
   },
   "outputs": [
    {
     "name": "stdout",
     "output_type": "stream",
     "text": [
      "Apple\n",
      "Python\n",
      "Lisa\n"
     ]
    }
   ],
   "source": [
    "#练习：索引以下元素\n",
    "# -*- coding: utf-8 -*-\n",
    "L = [\n",
    "    ['Apple', 'Google', 'Microsoft'],\n",
    "    ['Java', 'Python', 'Ruby', 'PHP'],\n",
    "    ['Adam', 'Bart', 'Lisa']\n",
    "]\n",
    "# 打印Apple:\n",
    "print(L[0][0])\n",
    "# 打印Python:\n",
    "print(L[1][1])\n",
    "# 打印Lisa:\n",
    "print(L[2][2])"
   ]
  },
  {
   "cell_type": "markdown",
   "metadata": {
    "colab_type": "text",
    "id": "0Jcjca6n-Tpg"
   },
   "source": [
    "## 条件判断"
   ]
  },
  {
   "cell_type": "code",
   "execution_count": 29,
   "metadata": {
    "colab": {
     "base_uri": "https://localhost:8080/",
     "height": 67
    },
    "colab_type": "code",
    "executionInfo": {
     "elapsed": 8662,
     "status": "ok",
     "timestamp": 1578366764218,
     "user": {
      "displayName": "Yun Wu",
      "photoUrl": "",
      "userId": "07058976890337189786"
     },
     "user_tz": -60
    },
    "id": "D91jF5vf-Z4p",
    "outputId": "b5aa8c13-8652-4495-d4c2-001c3975630f"
   },
   "outputs": [
    {
     "name": "stdout",
     "output_type": "stream",
     "text": [
      "please enter your age:4\n",
      "your age is 4\n",
      "kid\n"
     ]
    }
   ],
   "source": [
    "age = int(input('please enter your age:'))\n",
    "if age >= 18:\n",
    "  print('your age is',age)\n",
    "  print('adult')\n",
    "elif age >= 6:\n",
    "  print('your age is',age)\n",
    "  print('teenager')\n",
    "else:\n",
    "  print('your age is',age)\n",
    "  print('kid')\n"
   ]
  },
  {
   "cell_type": "code",
   "execution_count": 0,
   "metadata": {
    "colab": {},
    "colab_type": "code",
    "id": "nw2VlZo6_c5L"
   },
   "outputs": [],
   "source": [
    "#if 判断条件简写\n",
    "#解释：如果x是非零数值，非空字符串，非空list等，判断为True，否则为False\n",
    "if x:\n",
    "  print('True')\n"
   ]
  },
  {
   "cell_type": "code",
   "execution_count": 33,
   "metadata": {
    "colab": {
     "base_uri": "https://localhost:8080/",
     "height": 84
    },
    "colab_type": "code",
    "executionInfo": {
     "elapsed": 21202,
     "status": "ok",
     "timestamp": 1578367323436,
     "user": {
      "displayName": "Yun Wu",
      "photoUrl": "",
      "userId": "07058976890337189786"
     },
     "user_tz": -60
    },
    "id": "__WXTJng_7H6",
    "outputId": "9e24bce7-ae2f-4ca0-d679-2bd44a5f8962"
   },
   "outputs": [
    {
     "name": "stdout",
     "output_type": "stream",
     "text": [
      "Please enter the height:1.75\n",
      "Please enter the weight:80.5\n",
      "26.285714285714285\n",
      "过重\n"
     ]
    }
   ],
   "source": [
    "#练习：身高体重，计算BMI\n",
    "# -*- coding: utf-8 -*-\n",
    "height = float(input('Please enter the height:'))\n",
    "weight = float(input('Please enter the weight:'))\n",
    "BMI = weight/height**2\n",
    "print(BMI)\n",
    "if BMI >= 32:\n",
    "  print('严重肥胖')\n",
    "elif BMI >= 28:\n",
    "  print('肥胖')\n",
    "elif BMI >= 25:\n",
    "  print('过重')\n",
    "elif BMI >= 18.5:\n",
    "  print('正常')\n",
    "else:\n",
    "  print('过轻')\n"
   ]
  },
  {
   "cell_type": "markdown",
   "metadata": {
    "colab_type": "text",
    "id": "AqgJmIskBozZ"
   },
   "source": [
    "## 循环语句"
   ]
  },
  {
   "cell_type": "code",
   "execution_count": 35,
   "metadata": {
    "colab": {
     "base_uri": "https://localhost:8080/",
     "height": 84
    },
    "colab_type": "code",
    "executionInfo": {
     "elapsed": 1286,
     "status": "ok",
     "timestamp": 1578367473773,
     "user": {
      "displayName": "Yun Wu",
      "photoUrl": "",
      "userId": "07058976890337189786"
     },
     "user_tz": -60
    },
    "id": "YcNxxEBiBqdd",
    "outputId": "f8f9b72f-01d0-41c7-8a6d-a55a4f6df0de"
   },
   "outputs": [
    {
     "name": "stdout",
     "output_type": "stream",
     "text": [
      "Michael\n",
      "Bob\n",
      "Tracy\n",
      "55\n"
     ]
    }
   ],
   "source": [
    "#[1]for...in循环\n",
    "names = ['Michael','Bob','Tracy']\n",
    "for name in names:\n",
    "  print(name)\n",
    "sum = 0\n",
    "for x in list()[1,2,3,4,5,6,7,8,9,10]:\n",
    "  sum = sum+x\n",
    "print(sum)"
   ]
  },
  {
   "cell_type": "code",
   "execution_count": 38,
   "metadata": {
    "colab": {
     "base_uri": "https://localhost:8080/",
     "height": 34
    },
    "colab_type": "code",
    "executionInfo": {
     "elapsed": 1876,
     "status": "ok",
     "timestamp": 1578367562345,
     "user": {
      "displayName": "Yun Wu",
      "photoUrl": "",
      "userId": "07058976890337189786"
     },
     "user_tz": -60
    },
    "id": "vlQKV3i5CRWy",
    "outputId": "0f0f13c5-8f33-4af8-d16e-da4e90c226a9"
   },
   "outputs": [
    {
     "name": "stdout",
     "output_type": "stream",
     "text": [
      "[0, 1, 2, 3, 4, 5, 6, 7, 8, 9]\n"
     ]
    }
   ],
   "source": [
    "a = list(range(10))\n",
    "print(a)"
   ]
  },
  {
   "cell_type": "code",
   "execution_count": 39,
   "metadata": {
    "colab": {
     "base_uri": "https://localhost:8080/",
     "height": 34
    },
    "colab_type": "code",
    "executionInfo": {
     "elapsed": 2114,
     "status": "ok",
     "timestamp": 1578367810457,
     "user": {
      "displayName": "Yun Wu",
      "photoUrl": "",
      "userId": "07058976890337189786"
     },
     "user_tz": -60
    },
    "id": "_RWgOSN4DNWA",
    "outputId": "b2cc726b-7a3f-4890-ff5d-ebe003d9f951"
   },
   "outputs": [
    {
     "name": "stdout",
     "output_type": "stream",
     "text": [
      "5050\n"
     ]
    }
   ],
   "source": [
    "#求0-100整数序列的和\n",
    "sum = 0\n",
    "for x in range(101):\n",
    "  sum = sum+x\n",
    "print(sum)"
   ]
  },
  {
   "cell_type": "code",
   "execution_count": 40,
   "metadata": {
    "colab": {
     "base_uri": "https://localhost:8080/",
     "height": 34
    },
    "colab_type": "code",
    "executionInfo": {
     "elapsed": 1262,
     "status": "ok",
     "timestamp": 1578367950126,
     "user": {
      "displayName": "Yun Wu",
      "photoUrl": "",
      "userId": "07058976890337189786"
     },
     "user_tz": -60
    },
    "id": "R1WpF-2gDgd5",
    "outputId": "ee3f45c6-d27a-4e81-94fb-2224be6b753c"
   },
   "outputs": [
    {
     "name": "stdout",
     "output_type": "stream",
     "text": [
      "2500\n"
     ]
    }
   ],
   "source": [
    "#[2]while循环\n",
    "#求100以内所有奇数之和\n",
    "sum=0\n",
    "n=99\n",
    "while n>0:\n",
    "  sum = sum+n\n",
    "  n=n-2\n",
    "print(sum)"
   ]
  },
  {
   "cell_type": "code",
   "execution_count": 42,
   "metadata": {
    "colab": {
     "base_uri": "https://localhost:8080/",
     "height": 118
    },
    "colab_type": "code",
    "executionInfo": {
     "elapsed": 982,
     "status": "ok",
     "timestamp": 1578368164926,
     "user": {
      "displayName": "Yun Wu",
      "photoUrl": "",
      "userId": "07058976890337189786"
     },
     "user_tz": -60
    },
    "id": "rSV5P4ToD7_6",
    "outputId": "8152f690-4a6c-4323-b43d-3c9b73562ede"
   },
   "outputs": [
    {
     "name": "stdout",
     "output_type": "stream",
     "text": [
      "Bart\n",
      "Lisa\n",
      "Adam\n",
      "Bart\n",
      "Lisa\n",
      "Adam\n"
     ]
    }
   ],
   "source": [
    "#练习：请利用循环依次对list中的每个名字打印出Hello, xxx!\n",
    "L=['Bart','Lisa','Adam']\n",
    "#for...in 循环\n",
    "for x in L:\n",
    "  print(x)\n",
    "#while循环\n",
    "while L:\n",
    "  print(L[0])\n",
    "  L.pop(0)"
   ]
  },
  {
   "cell_type": "code",
   "execution_count": 43,
   "metadata": {
    "colab": {
     "base_uri": "https://localhost:8080/",
     "height": 202
    },
    "colab_type": "code",
    "executionInfo": {
     "elapsed": 1185,
     "status": "ok",
     "timestamp": 1578368289121,
     "user": {
      "displayName": "Yun Wu",
      "photoUrl": "",
      "userId": "07058976890337189786"
     },
     "user_tz": -60
    },
    "id": "weZJj5I8EyCW",
    "outputId": "a22f60c8-7859-4a6e-a2d3-da04823ac0bb"
   },
   "outputs": [
    {
     "name": "stdout",
     "output_type": "stream",
     "text": [
      "1\n",
      "2\n",
      "3\n",
      "4\n",
      "5\n",
      "6\n",
      "7\n",
      "8\n",
      "9\n",
      "10\n",
      "END\n"
     ]
    }
   ],
   "source": [
    "#break:提前结束循环\n",
    "n=1\n",
    "while n<=100:\n",
    "  if n>10:\n",
    "    break\n",
    "  print(n)\n",
    "  n=n+1\n",
    "print('END')"
   ]
  },
  {
   "cell_type": "code",
   "execution_count": 0,
   "metadata": {
    "colab": {},
    "colab_type": "code",
    "id": "UcPsK2mRFOgr"
   },
   "outputs": [],
   "source": [
    "#continue:跳过当前循环\n",
    "#打印奇数\n",
    "n=0\n",
    "while n<10:\n",
    "  n=n+1\n",
    "  if n%2==0:\n",
    "    continue #会直接执行下一轮循环，后面的print语句在n为偶数的情况下不执行\n",
    "  print(n)\n"
   ]
  },
  {
   "cell_type": "markdown",
   "metadata": {
    "colab_type": "text",
    "id": "llb5s06sFtJf"
   },
   "source": [
    "要特别注意，不要滥用break和continue语句。break和continue会造成代码执行逻辑分叉过多，容易出错。大多数循环并不需要用到break和continue语句，上面的两个例子，都可以通过改写循环条件或者修改循环逻辑，去掉break和continue语句。"
   ]
  },
  {
   "cell_type": "markdown",
   "metadata": {
    "colab_type": "text",
    "id": "H4o-X3XtF8mp"
   },
   "source": [
    "## dict和set"
   ]
  },
  {
   "cell_type": "code",
   "execution_count": 47,
   "metadata": {
    "colab": {
     "base_uri": "https://localhost:8080/",
     "height": 34
    },
    "colab_type": "code",
    "executionInfo": {
     "elapsed": 513,
     "status": "ok",
     "timestamp": 1578368732939,
     "user": {
      "displayName": "Yun Wu",
      "photoUrl": "",
      "userId": "07058976890337189786"
     },
     "user_tz": -60
    },
    "id": "hCnnqgKqGAeF",
    "outputId": "88a2be13-db26-482d-bf72-4f0c6d085274"
   },
   "outputs": [
    {
     "data": {
      "text/plain": [
       "95"
      ]
     },
     "execution_count": 47,
     "metadata": {
      "tags": []
     },
     "output_type": "execute_result"
    }
   ],
   "source": [
    "#dict\n",
    "d = {'Michael':95,'Bob':75,'Tracy':85}\n",
    "d['Michael']\n"
   ]
  },
  {
   "cell_type": "code",
   "execution_count": 46,
   "metadata": {
    "colab": {
     "base_uri": "https://localhost:8080/",
     "height": 34
    },
    "colab_type": "code",
    "executionInfo": {
     "elapsed": 936,
     "status": "ok",
     "timestamp": 1578368731391,
     "user": {
      "displayName": "Yun Wu",
      "photoUrl": "",
      "userId": "07058976890337189786"
     },
     "user_tz": -60
    },
    "id": "2C2YGWoPGz2z",
    "outputId": "a7106631-9592-49a6-d6bf-68277f78d39c"
   },
   "outputs": [
    {
     "data": {
      "text/plain": [
       "60"
      ]
     },
     "execution_count": 46,
     "metadata": {
      "tags": []
     },
     "output_type": "execute_result"
    }
   ],
   "source": [
    "#改变value\n",
    "d['Michael'] = 60\n",
    "d['Michael']"
   ]
  },
  {
   "cell_type": "code",
   "execution_count": 51,
   "metadata": {
    "colab": {
     "base_uri": "https://localhost:8080/",
     "height": 34
    },
    "colab_type": "code",
    "executionInfo": {
     "elapsed": 2109,
     "status": "ok",
     "timestamp": 1578368908426,
     "user": {
      "displayName": "Yun Wu",
      "photoUrl": "",
      "userId": "07058976890337189786"
     },
     "user_tz": -60
    },
    "id": "ZzgPHjBhG5xS",
    "outputId": "0936f23f-f82c-42e3-bc2a-cb5eba73a0ce"
   },
   "outputs": [
    {
     "data": {
      "text/plain": [
       "False"
      ]
     },
     "execution_count": 51,
     "metadata": {
      "tags": []
     },
     "output_type": "execute_result"
    }
   ],
   "source": [
    "#判断key是否存在\n",
    "#[1]in 判断\n",
    "'Thomas' in d"
   ]
  },
  {
   "cell_type": "code",
   "execution_count": 52,
   "metadata": {
    "colab": {
     "base_uri": "https://localhost:8080/",
     "height": 34
    },
    "colab_type": "code",
    "executionInfo": {
     "elapsed": 1508,
     "status": "ok",
     "timestamp": 1578368911625,
     "user": {
      "displayName": "Yun Wu",
      "photoUrl": "",
      "userId": "07058976890337189786"
     },
     "user_tz": -60
    },
    "id": "a8tp4kkjHbWh",
    "outputId": "e722abba-7f74-4d33-aafc-3cf43df99479"
   },
   "outputs": [
    {
     "data": {
      "text/plain": [
       "-1"
      ]
     },
     "execution_count": 52,
     "metadata": {
      "tags": []
     },
     "output_type": "execute_result"
    }
   ],
   "source": [
    "#[2]get(),没有-1返回None(交互环境中None不显示)，-1为不存在情况下指定返回的值\n",
    "d.get('Thomas',-1)"
   ]
  },
  {
   "cell_type": "code",
   "execution_count": 53,
   "metadata": {
    "colab": {
     "base_uri": "https://localhost:8080/",
     "height": 34
    },
    "colab_type": "code",
    "executionInfo": {
     "elapsed": 2228,
     "status": "ok",
     "timestamp": 1578369009426,
     "user": {
      "displayName": "Yun Wu",
      "photoUrl": "",
      "userId": "07058976890337189786"
     },
     "user_tz": -60
    },
    "id": "yVhdo8zGHzhr",
    "outputId": "c86abf51-a6b6-43f8-a45d-ca4a49934f07"
   },
   "outputs": [
    {
     "data": {
      "text/plain": [
       "{'Michael': 95, 'Tracy': 85}"
      ]
     },
     "execution_count": 53,
     "metadata": {
      "tags": []
     },
     "output_type": "execute_result"
    }
   ],
   "source": [
    "#删除一个key，pop()\n",
    "d.pop('Bob')\n",
    "d"
   ]
  },
  {
   "cell_type": "markdown",
   "metadata": {
    "colab_type": "text",
    "id": "h6AlJqbjIBFe"
   },
   "source": [
    "dict:\n",
    "\n",
    "\n",
    "*   查找和插入的速度极快，不会随着key的增加而变慢\n",
    "*   dict的key必须是不可变对象,因为dict根据key来计算value的存储位置,该算法成为哈希算法\n",
    "\n"
   ]
  },
  {
   "cell_type": "code",
   "execution_count": 55,
   "metadata": {
    "colab": {
     "base_uri": "https://localhost:8080/",
     "height": 34
    },
    "colab_type": "code",
    "executionInfo": {
     "elapsed": 2577,
     "status": "ok",
     "timestamp": 1578369341960,
     "user": {
      "displayName": "Yun Wu",
      "photoUrl": "",
      "userId": "07058976890337189786"
     },
     "user_tz": -60
    },
    "id": "P975r6E5IqGT",
    "outputId": "e7fe868b-4509-48ec-c1cc-b3e346d1e35f"
   },
   "outputs": [
    {
     "data": {
      "text/plain": [
       "{1, 2, 3}"
      ]
     },
     "execution_count": 55,
     "metadata": {
      "tags": []
     },
     "output_type": "execute_result"
    }
   ],
   "source": [
    "#set，一组key的集合，但不存储value\n",
    "s = set([1,2,3]) #list作为输入集合\n",
    "s"
   ]
  },
  {
   "cell_type": "markdown",
   "metadata": {
    "colab_type": "text",
    "id": "VOasS6tQJiz6"
   },
   "source": [
    "输出自动过滤重复的元素，set是无序无重复元素的集合"
   ]
  },
  {
   "cell_type": "code",
   "execution_count": 59,
   "metadata": {
    "colab": {
     "base_uri": "https://localhost:8080/",
     "height": 34
    },
    "colab_type": "code",
    "executionInfo": {
     "elapsed": 1561,
     "status": "ok",
     "timestamp": 1578369580335,
     "user": {
      "displayName": "Yun Wu",
      "photoUrl": "",
      "userId": "07058976890337189786"
     },
     "user_tz": -60
    },
    "id": "cYocfBuEJwYo",
    "outputId": "b5771476-df83-4970-ff21-0a0b5ae680f0"
   },
   "outputs": [
    {
     "data": {
      "text/plain": [
       "{1, 2, 3, 4}"
      ]
     },
     "execution_count": 59,
     "metadata": {
      "tags": []
     },
     "output_type": "execute_result"
    }
   ],
   "source": [
    "#添加元素add()\n",
    "s.add(4)\n",
    "s"
   ]
  },
  {
   "cell_type": "code",
   "execution_count": 60,
   "metadata": {
    "colab": {
     "base_uri": "https://localhost:8080/",
     "height": 34
    },
    "colab_type": "code",
    "executionInfo": {
     "elapsed": 505,
     "status": "ok",
     "timestamp": 1578369582072,
     "user": {
      "displayName": "Yun Wu",
      "photoUrl": "",
      "userId": "07058976890337189786"
     },
     "user_tz": -60
    },
    "id": "4GXmOyD5J0-o",
    "outputId": "28c654db-c401-4bb3-e341-87a1fd961089"
   },
   "outputs": [
    {
     "data": {
      "text/plain": [
       "{1, 2, 3}"
      ]
     },
     "execution_count": 60,
     "metadata": {
      "tags": []
     },
     "output_type": "execute_result"
    }
   ],
   "source": [
    "#删除元素remove()\n",
    "s.remove(4)\n",
    "s"
   ]
  },
  {
   "cell_type": "code",
   "execution_count": 62,
   "metadata": {
    "colab": {
     "base_uri": "https://localhost:8080/",
     "height": 50
    },
    "colab_type": "code",
    "executionInfo": {
     "elapsed": 1185,
     "status": "ok",
     "timestamp": 1578369667598,
     "user": {
      "displayName": "Yun Wu",
      "photoUrl": "",
      "userId": "07058976890337189786"
     },
     "user_tz": -60
    },
    "id": "kveI4XrfKMWy",
    "outputId": "bfa6d3ca-ba54-409c-d83f-ceb78a79d13a"
   },
   "outputs": [
    {
     "name": "stdout",
     "output_type": "stream",
     "text": [
      "{2, 3}\n",
      "{1, 2, 3, 4}\n"
     ]
    }
   ],
   "source": [
    "#交集&，并集|\n",
    "s1=set([1,2,3])\n",
    "s2=set([2,3,4])\n",
    "print(s1&s2)\n",
    "print(s1|s2)"
   ]
  },
  {
   "cell_type": "code",
   "execution_count": 67,
   "metadata": {
    "colab": {
     "base_uri": "https://localhost:8080/",
     "height": 50
    },
    "colab_type": "code",
    "executionInfo": {
     "elapsed": 1485,
     "status": "ok",
     "timestamp": 1578369844531,
     "user": {
      "displayName": "Yun Wu",
      "photoUrl": "",
      "userId": "07058976890337189786"
     },
     "user_tz": -60
    },
    "id": "DPuPxGQVKmL8",
    "outputId": "36be76da-db05-4d0b-e887-7fc69b9ea111"
   },
   "outputs": [
    {
     "name": "stdout",
     "output_type": "stream",
     "text": [
      "Abc\n",
      "abc\n"
     ]
    }
   ],
   "source": [
    "#str是不可变对象，用replace()不起作用\n",
    "a='abc'\n",
    "print(a.replace('a','A')) #创建新的对象等于此结果，并没有改变a\n",
    "print(a)"
   ]
  },
  {
   "cell_type": "code",
   "execution_count": 68,
   "metadata": {
    "colab": {
     "base_uri": "https://localhost:8080/",
     "height": 34
    },
    "colab_type": "code",
    "executionInfo": {
     "elapsed": 1192,
     "status": "ok",
     "timestamp": 1578369974718,
     "user": {
      "displayName": "Yun Wu",
      "photoUrl": "",
      "userId": "07058976890337189786"
     },
     "user_tz": -60
    },
    "id": "6RMOekWbLOPp",
    "outputId": "9a5db96c-831a-4d03-faa4-9bc02a89db30"
   },
   "outputs": [
    {
     "data": {
      "text/plain": [
       "['d', 'b', 'a']"
      ]
     },
     "execution_count": 68,
     "metadata": {
      "tags": []
     },
     "output_type": "execute_result"
    }
   ],
   "source": [
    "#list是可变对象\n",
    "a=['c','b','a']\n",
    "a[0]='d'\n",
    "a"
   ]
  }
 ],
 "metadata": {
  "colab": {
   "name": "chapter1.ipynb",
   "provenance": []
  },
  "kernelspec": {
   "display_name": "Python 3",
   "language": "python",
   "name": "python3"
  },
  "language_info": {
   "codemirror_mode": {
    "name": "ipython",
    "version": 3
   },
   "file_extension": ".py",
   "mimetype": "text/x-python",
   "name": "python",
   "nbconvert_exporter": "python",
   "pygments_lexer": "ipython3",
   "version": "3.6.7"
  }
 },
 "nbformat": 4,
 "nbformat_minor": 1
}
